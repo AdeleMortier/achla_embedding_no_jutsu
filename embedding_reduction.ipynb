{
 "cells": [
  {
   "cell_type": "code",
   "execution_count": 1,
   "id": "0f0ec3df",
   "metadata": {},
   "outputs": [
    {
     "name": "stdout",
     "output_type": "stream",
     "text": [
      "Name: gensim\r\n",
      "Version: 3.6.0\r\n",
      "Summary: Python framework for fast Vector Space Modelling\r\n",
      "Home-page: http://radimrehurek.com/gensim\r\n",
      "Author: Radim Rehurek\r\n",
      "Author-email: me@radimrehurek.com\r\n",
      "License: LGPLv2.1\r\n",
      "Location: /home/fox/.local/lib/python3.10/site-packages\r\n",
      "Requires: numpy, scipy, six, smart-open\r\n",
      "Required-by: \r\n"
     ]
    }
   ],
   "source": [
    "!pip3 show gensim"
   ]
  },
  {
   "cell_type": "code",
   "execution_count": 21,
   "id": "e273ff24",
   "metadata": {},
   "outputs": [],
   "source": [
    "from gensim.models import Word2Vec\n",
    "from datetime import datetime\n",
    "import os\n",
    "import numpy as np\n",
    "from collections import defaultdict"
   ]
  },
  {
   "cell_type": "code",
   "execution_count": 31,
   "id": "7b878d58",
   "metadata": {},
   "outputs": [],
   "source": [
    "model = 'word2vec'\n",
    "#model = 'glove'\n",
    "dim = 300\n",
    "language = 'he'"
   ]
  },
  {
   "cell_type": "code",
   "execution_count": 32,
   "id": "165fc469",
   "metadata": {},
   "outputs": [],
   "source": [
    "def display_embedding_properties(embedding):\n",
    "    print(f'Embedding entries: {len(embedding.keys())}')\n",
    "    print(f'Embedding dimension: {len(embedding[list(embedding.keys())[0]])}')"
   ]
  },
  {
   "cell_type": "code",
   "execution_count": 33,
   "id": "22a58cfb",
   "metadata": {},
   "outputs": [],
   "source": [
    "def build_dict_from_keyedvectors(m):\n",
    "    \"\"\" For processing Word2Vec .model files. The .npy files are also needed. Works with gensim 3.6\"\"\"\n",
    "    embedding = defaultdict()\n",
    "    for word in list(m.wv.vocab.keys()):\n",
    "        embedding[word] = m.wv[word]\n",
    "    display_embedding_properties(embedding)\n",
    "    return embedding"
   ]
  },
  {
   "cell_type": "code",
   "execution_count": 34,
   "id": "c984f872",
   "metadata": {},
   "outputs": [],
   "source": [
    "def build_dict_from_vector_file(path_to_vecs, filename):\n",
    "    \"\"\" For processing GloVe .txt models. Might no longer be needed for newer versions of gensim,\n",
    "    as the gensim load_word2vec_format function can handle GloVe outputs as well\"\"\"\n",
    "    embedding = {}\n",
    "    if filename not in os.listdir(path_to_vecs):\n",
    "        print(f'File not found. Generate it using GloVe.')\n",
    "    with open(path_to_vecs+filename, 'r') as f:\n",
    "        f = f.read().split('\\n')\n",
    "        f = [l.split(' ') for l in f]\n",
    "        n_entries = len(f)\n",
    "        for i, l in enumerate(f):\n",
    "            w = l[0]\n",
    "            try:\n",
    "                v = np.array([float(x) for x in l[1:]])\n",
    "            except ValueError:\n",
    "                print(f'Line: {i}')\n",
    "                print(f'Word: {w}')\n",
    "                print(f'Vector: {l[1:]}')\n",
    "            embedding[w] = v\n",
    "            if (i % 20000 == 0):\n",
    "                print(f'Processed {i} / {n_entries} entries')\n",
    "    display_embedding_properties(embedding)\n",
    "    return embedding"
   ]
  },
  {
   "cell_type": "code",
   "execution_count": 35,
   "id": "88b20ca6",
   "metadata": {},
   "outputs": [
    {
     "name": "stdout",
     "output_type": "stream",
     "text": [
      "Loading started 2022-10-01 17:16:41\n",
      "Loading ended 2022-10-01 17:16:49\n",
      "Embedding entries: 595528\n",
      "Embedding dimension: 300\n"
     ]
    }
   ],
   "source": [
    "if model == 'word2vec':\n",
    "    inp = f'word2vec_{dim}_{language}.model'\n",
    "    print(f'Loading started {datetime.now().strftime(\"%Y-%m-%d %H:%M:%S\")}')\n",
    "    m = Word2Vec.load(f'./models/raws/{inp}')\n",
    "    print(f'Loading ended {datetime.now().strftime(\"%Y-%m-%d %H:%M:%S\")}')\n",
    "    embedding = build_dict_from_keyedvectors(m)\n",
    "if model == 'glove':\n",
    "    inp = f'glove_{dim}_{language}_vectors.txt'\n",
    "    print(f'Loading started {datetime.now().strftime(\"%Y-%m-%d %H:%M:%S\")}')\n",
    "    embedding = build_dict_from_vector_file('./models/raws/', inp)\n",
    "    print(f'Loading ended {datetime.now().strftime(\"%Y-%m-%d %H:%M:%S\")}')"
   ]
  },
  {
   "cell_type": "code",
   "execution_count": null,
   "id": "abf7f91b",
   "metadata": {},
   "outputs": [],
   "source": []
  },
  {
   "cell_type": "code",
   "execution_count": 37,
   "id": "e3c31720",
   "metadata": {},
   "outputs": [
    {
     "name": "stdout",
     "output_type": "stream",
     "text": [
      "['קובץ', 'mathematics', 'lecture', 'at', 'the', 'helsinki', 'university', 'of', 'technology', 'jpg']\n"
     ]
    }
   ],
   "source": []
  },
  {
   "cell_type": "code",
   "execution_count": 40,
   "id": "1801140e",
   "metadata": {},
   "outputs": [
    {
     "data": {
      "text/plain": [
       "array([-0.17736691,  0.33108684, -0.25844473,  0.2639548 ,  0.32674396,\n",
       "        0.10968599, -0.30168736, -0.13412088, -0.02850869,  0.05250233,\n",
       "        0.20113151, -0.04400417,  0.38172805,  0.20361969, -0.11396456,\n",
       "        0.1479513 , -0.01490134,  0.05840242, -0.27284765, -0.10708918,\n",
       "        0.1672865 , -0.12336667, -0.04416154, -0.04901268, -0.299237  ],\n",
       "      dtype=float32)"
      ]
     },
     "execution_count": 40,
     "metadata": {},
     "output_type": "execute_result"
    }
   ],
   "source": []
  },
  {
   "cell_type": "code",
   "execution_count": null,
   "id": "2db21f64",
   "metadata": {},
   "outputs": [],
   "source": []
  }
 ],
 "metadata": {
  "kernelspec": {
   "display_name": "Python 3 (ipykernel)",
   "language": "python",
   "name": "python3"
  },
  "language_info": {
   "codemirror_mode": {
    "name": "ipython",
    "version": 3
   },
   "file_extension": ".py",
   "mimetype": "text/x-python",
   "name": "python",
   "nbconvert_exporter": "python",
   "pygments_lexer": "ipython3",
   "version": "3.10.6"
  }
 },
 "nbformat": 4,
 "nbformat_minor": 5
}
