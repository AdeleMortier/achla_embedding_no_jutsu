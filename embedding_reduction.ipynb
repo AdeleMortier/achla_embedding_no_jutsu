{
 "cells": [
  {
   "cell_type": "code",
   "execution_count": 1,
   "id": "4fd02423",
   "metadata": {},
   "outputs": [
    {
     "name": "stdout",
     "output_type": "stream",
     "text": [
      "Name: gensim\r\n",
      "Version: 3.6.0\r\n",
      "Summary: Python framework for fast Vector Space Modelling\r\n",
      "Home-page: http://radimrehurek.com/gensim\r\n",
      "Author: Radim Rehurek\r\n",
      "Author-email: me@radimrehurek.com\r\n",
      "License: LGPLv2.1\r\n",
      "Location: /home/fox/.local/lib/python3.10/site-packages\r\n",
      "Requires: numpy, scipy, six, smart-open\r\n",
      "Required-by: \r\n"
     ]
    }
   ],
   "source": [
    "!pip3 show gensim"
   ]
  },
  {
   "cell_type": "code",
   "execution_count": 10,
   "id": "2ab7a1af",
   "metadata": {},
   "outputs": [],
   "source": [
    "from datetime import datetime\n",
    "import os\n",
    "import wget\n",
    "import numpy as np\n",
    "from zipfile import *\n",
    "from collections import defaultdict\n",
    "from sklearn.decomposition import PCA\n",
    "import matplotlib.pyplot as plt\n",
    "from gensim.models import FastText\n",
    "import gzip\n",
    "from ipynb.fs.defs.functions_and_classes import Dataset, Datapoint\n",
    "from ipynb.fs.defs.functions_and_classes import *"
   ]
  },
  {
   "cell_type": "code",
   "execution_count": 70,
   "id": "63db9064",
   "metadata": {},
   "outputs": [],
   "source": [
    "#model = 'word2vec'\n",
    "model = 'glove'\n",
    "#model = 'fasttext'\n",
    "dim = 25\n",
    "language = 'he'\n",
    "#language = 'en'"
   ]
  },
  {
   "cell_type": "markdown",
   "id": "df023eca",
   "metadata": {},
   "source": [
    "# Loading"
   ]
  },
  {
   "cell_type": "code",
   "execution_count": 71,
   "id": "b7a4194b",
   "metadata": {},
   "outputs": [
    {
     "data": {
      "text/plain": [
       "'def build_dict_from_model(model, vocab):\\n    #For processing Word2Vec .model files. The .npy files are also needed. Works with gensim 3.6\\n    embedding = defaultdict()\\n    for word in list(vocab):\\n        embedding[word] = model[word]\\n    display_embedding_properties(embedding)\\n    return embedding'"
      ]
     },
     "execution_count": 71,
     "metadata": {},
     "output_type": "execute_result"
    }
   ],
   "source": [
    "\"\"\"def build_dict_from_model(model, vocab):\n",
    "    #For processing Word2Vec .model files. The .npy files are also needed. Works with gensim 3.6\n",
    "    embedding = defaultdict()\n",
    "    for word in list(vocab):\n",
    "        embedding[word] = model[word]\n",
    "    display_embedding_properties(embedding)\n",
    "    return embedding\"\"\""
   ]
  },
  {
   "cell_type": "code",
   "execution_count": 72,
   "id": "77cad0c2",
   "metadata": {},
   "outputs": [
    {
     "name": "stdout",
     "output_type": "stream",
     "text": [
      "Input: glove_25_he_vectors.txt\n",
      "Processed 0\n",
      "Processed 50000\n",
      "Processed 100000\n",
      "Processed 150000\n",
      "Processed 200000\n",
      "Processed 250000\n",
      "Processed 300000\n",
      "Processed 350000\n",
      "Processed 400000\n",
      "Processed 450000\n",
      "Processed 500000\n",
      "Processed 550000\n",
      "Embedding entries: 595529\n",
      "Embedding dimension: 25\n"
     ]
    }
   ],
   "source": [
    "inp = f'{model}_{dim}_{language}_vectors.txt'\n",
    "header = False\n",
    "print(f'Input: {inp}')\n",
    "if model == 'fasttext' and language == 'he':\n",
    "    # we have to load a pretrained model\n",
    "    if inp not in os.listdir('./models/raws/'):\n",
    "        URL = 'https://dl.fbaipublicfiles.com/fasttext/vectors-wiki/wiki.he.vec'\n",
    "        response = wget.download(URL, f'./models/raws/fasttext_{dim}_{language}_vectors.txt')\n",
    "    header = True\n",
    "embedding = build_dict_from_vector_file('./models/raws/', inp, header)\n",
    "\n",
    "# The fasttext model has less entries in the .vec format for some reason???"
   ]
  },
  {
   "cell_type": "code",
   "execution_count": 73,
   "id": "b005f15b",
   "metadata": {},
   "outputs": [],
   "source": [
    "if model == 'glove' and language == 'en' and dim == 300:\n",
    "    if f'glove_{dim}_{language}_vectors.txt' not in os.listdir('./models/raws/'):\n",
    "    # We'll have to regenerate the model\n",
    "        if 'glove.42B.300d.zip' not in os.listdir('./models/raws/'):\n",
    "        # We'll have to re-download the model\n",
    "            URL = \"https://nlp.stanford.edu/data/glove.42B.300d.zip\"\n",
    "            response = wget.download(URL, './models/raws/glove.42B.300d.zip')\n",
    "        with ZipFile('./models/raws/glove.42B.300d.zip', 'r') as zipObj:\n",
    "            # Extract all the contents of zip file in current directory\n",
    "            zipObj.extractall(f'./models/raws/')\n",
    "            #!wget https://nlp.stanford.edu/data/glove.42B.300d.zip\n",
    "            #!unzip glove.42B.300d.zip\n",
    "        os.rename('./models/raws/glove.42B.300d.txt', f'./models/raws/glove_{dim}_{language}_vectors.txt')\n",
    "        #os.remove('./models/raws/glove.42B.300d.zip')\n",
    "    print(f'Loading started {datetime.now().strftime(\"%Y-%m-%d %H:%M:%S\")}')\n",
    "    embedding = build_dict_from_vector_file('./models/raws/', f'glove_{dim}_{language}_vectors.txt')\n",
    "    print(f'Loading ended {datetime.now().strftime(\"%Y-%m-%d %H:%M:%S\")}')"
   ]
  },
  {
   "cell_type": "markdown",
   "id": "e2541949",
   "metadata": {},
   "source": [
    "# Dataset adjustment"
   ]
  },
  {
   "cell_type": "code",
   "execution_count": 74,
   "id": "511b9bb5",
   "metadata": {},
   "outputs": [
    {
     "data": {
      "text/plain": [
       "\"dataset = [{'noun':'מחשב', 'denom':['למחשב',''], 'non_denom':['לחשב','להתחשב'], 'others':['לחשוב','להחשיב','להיחשב'], 'ambig_inflected':True, 'ambig_uninflected':True, 'ambig_with':'לחשב'},\\n           {'noun':'תחזוקה', 'denom':['לתחזק',''], 'non_denom':['לחזק','להתחזק'], 'others':['','להחזיק',''], 'ambig_inflected':False, 'ambig_uninflected':False, 'ambig_with':''},\\n           {'noun':'מחזור', 'denom':['למחזר',''], 'non_denom':['לחזר','להתחזר'], 'others':['לחזור','להחזיר',''], 'ambig_inflected':False, 'ambig_uninflected':False, 'ambig_with':''},\\n           {'noun':'חשבון', 'denom':['','להתחשבן'], 'non_denom':['לחשב','להתחשב'], 'others':['לחשוב','להחשיב','להיחשב'], 'ambig_inflected':False, 'ambig_uninflected':False, 'ambig_with':''},\\n           {'noun':'תקשורת', 'denom':['לתקשר',''], 'non_denom':['לקשר','להתקשר'], 'others':['לקשור','','להיקשר'], 'ambig_inflected':False, 'ambig_uninflected':False, 'ambig_with':''},\\n           {'noun':'תפקידים', 'denom':['לתפקד',''], 'non_denom':['לפקד','להתפקד'], 'others':['לפקוד','להפקיד','להיפקד'], 'ambig_inflected':False, 'ambig_uninflected':True, 'ambig_with':'להפקיד'},\\n           {'noun':'תרגילים', 'denom':['לתרגל',''], 'non_denom':['לרגל','להתרגל'], 'others':['','להרגיל',''], 'ambig_inflected':False, 'ambig_uninflected':True, 'ambig_with':'להרגיל'},\\n           {'noun':'פלצן', 'denom':['','להתפלצן'], 'non_denom':['','להתפלץ'], 'others':['','להפליץ',''], 'ambig_inflected':False, 'ambig_uninflected':False, 'ambig_with':''},\\n           {'noun':'תזמורת', 'denom':['לתזמר',''], 'non_denom':['לזמר',''], 'others':['','',''], 'ambig_inflected':False, 'ambig_uninflected':False, 'ambig_with':''},\\n           {'noun':'תזמון', 'denom':['לתזמן',''], 'non_denom':['לזמן','להזדמן'], 'others':['','להזמין',''], 'ambig_inflected':False, 'ambig_uninflected':False, 'ambig_with':''},\\n           {'noun':'סקרנים', 'denom':['לסקרן','להסתקרן'], 'non_denom':['לסקר',''], 'others':['לסקור','','להיסקר'], 'ambig_inflected':False, 'ambig_uninflected':True, 'ambig_with':'לסקרן'},\\n           {'noun':'תקציר', 'denom':['לתקצר',''], 'non_denom':['לקצר',''], 'others':['לקצור','להתקצר','להיקצר'], 'ambig_inflected':False, 'ambig_uninflected':False, 'ambig_with':''},\\n           {'noun':'מלכודת', 'denom':['למלכד',''], 'non_denom':['ללכד','להתלכד'], 'others':['ללכוד','','להילכד'], 'ambig_inflected':False, 'ambig_uninflected':False, 'ambig_with':''},\\n           {'noun':'אבטחה', 'denom':['לאבטח',''], 'non_denom':['לבטח',''], 'others':['לבטוח','להבטיח',''], 'ambig_inflected':True, 'ambig_uninflected':True, 'ambig_with':'לאבטח'},\\n           {'noun':'קמצן', 'denom':['','להתקמצן'], 'non_denom':['לקמץ',''], 'others':['','',''], 'ambig_inflected':False, 'ambig_uninflected':False, 'ambig_with':''},\\n           {'noun':'שלהבת', 'denom':['לשלהב','להשתלהב'], 'non_denom':['','להתלהב'], 'others':['','להלהיב',''], 'ambig_inflected':False, 'ambig_uninflected':False, 'ambig_with':''},\\n           {'noun':'עצבני', 'denom':['לעצבן','להתעצבן'], 'non_denom':['לעצב','להתעצב'], 'others':['','להעציב','להיעצב'], 'ambig_inflected':False, 'ambig_uninflected':False, 'ambig_with':''},\\n           {'noun':'מרכז', 'denom':['למרכז','להתמרכז'], 'non_denom':['לרכז','להתרכז'], 'others':['','',''], 'ambig_inflected':True, 'ambig_uninflected':True, 'ambig_with':'לרכז'},\\n           {'noun':'תסביך', 'denom':['לתסבך',''], 'non_denom':['לסבך','להסתבך'], 'others':['','',''], 'ambig_inflected':False, 'ambig_uninflected':False, 'ambig_with':''},\\n           {'noun':'מסגרת', 'denom':['למסגר',''], 'non_denom':['','להסתגר'], 'others':['לסגור','להסגיר','להיסגר'], 'ambig_inflected':False, 'ambig_uninflected':False, 'ambig_with':''},\\n           {'noun':'אכזבות', 'denom':['לאכזב','להתאכזב'], 'non_denom':['לכזב',''], 'others':['','להכזיב',''], 'ambig_inflected':False, 'ambig_uninflected':True, 'ambig_with':'לאכזב'},\\n           {'noun':'מסחר', 'denom':['','להתמסחר'], 'non_denom':['',''], 'others':['לסחור','','להיסחר'], 'ambig_inflected':False, 'ambig_uninflected':False, 'ambig_with':''},\\n           {'noun':'תעתיקים', 'denom':['לתעתק',''], 'non_denom':['',''], 'others':['','להעתיק',''], 'ambig_inflected':False, 'ambig_uninflected':True, 'ambig_with':'להעתיק'},\\n           {'noun':'תדריכים', 'denom':['לתדרך',''], 'non_denom':['',''], 'others':['לדרוך','להדריך','להידרך'], 'ambig_inflected':False, 'ambig_uninflected':True, 'ambig_with':'להדריך'},\\n           {'noun':'תמריצים', 'denom':['לתמרץ',''], 'non_denom':['',''], 'others':['','להמריץ',''], 'ambig_inflected':False, 'ambig_uninflected':True, 'ambig_with':'להמריץ'},\\n           {'noun':'תקציבים', 'denom':['לתקצב',''], 'non_denom':['',''], 'others':['לקצוב','להקציב','להיקצב'], 'ambig_inflected':False, 'ambig_uninflected':True, 'ambig_with':'להקציב'},\\n           {'noun':'תצפית', 'denom':['לתצפת',''], 'non_denom':['',''], 'others':['לצפות','',''], 'ambig_inflected':False, 'ambig_uninflected':False, 'ambig_with':''},\\n           {'noun':'אבחנות', 'denom':['לאבחן',''], 'non_denom':['',''], 'others':['לבחון','להבחין','להיבחן'], 'ambig_inflected':False, 'ambig_uninflected':True, 'ambig_with':'לאבחן'},\\n           {'noun':'תחקיר', 'denom':['לתחקר',''], 'non_denom':['',''], 'others':['לחקור','','להיחקר'], 'ambig_inflected':False, 'ambig_uninflected':False, 'ambig_with':''},\\n           {'noun':'תסריטים', 'denom':['לתסרט',''], 'non_denom':['',''], 'others':['','להסריט',''], 'ambig_inflected':False, 'ambig_uninflected':True, 'ambig_with':'להסריט'},\\n           {'noun':'תקליטים', 'denom':['לתקלט',''], 'non_denom':['',''], 'others':['לקלוט','להקליט','להיקלט'], 'ambig_inflected':False, 'ambig_uninflected':True, 'ambig_with':'להקליט'},\\n           {'noun':'אזכרות', 'denom':['לאזכר',''], 'non_denom':['',''], 'others':['לזכור','להזכיר','להיזכר'], 'ambig_inflected':False, 'ambig_uninflected':True, 'ambig_with':'לאזכר'},\\n           {'noun':'מספר', 'denom':['למספר',''], 'non_denom':['לספר','להסתפר'], 'others':['לספור','','להיספר'], 'ambig_inflected':True, 'ambig_uninflected':True, 'ambig_with':'לספר'},\\n           {'noun':'טרחנים', 'denom':['לטרחן',''], 'non_denom':['',''], 'others':['לטרוח','להטריח',''], 'ambig_inflected':False, 'ambig_uninflected':True, 'ambig_with':'לטרחן'},\\n           {'noun':'מרפק', 'denom':['למרפק',''], 'non_denom':['','להתרפק'], 'others':['','',''], 'ambig_inflected':False, 'ambig_uninflected':False, 'ambig_with':''},\\n           {'noun':'מסמר', 'denom':['למסמר',''], 'non_denom':['לסמר',''], 'others':['לסמור','',''], 'ambig_inflected':True, 'ambig_uninflected':True, 'ambig_with':'לסמר'},\\n           {'noun':'אזרחים', 'denom':['לאזרח','להתאזרח'], 'non_denom':['',''], 'others':['לזרוח','',''], 'ambig_inflected':False, 'ambig_uninflected':True, 'ambig_with':'לאזרח'},\\n           {'noun':'אגרופים', 'denom':['','להתאגרף'], 'non_denom':['',''], 'others':['לגרוף','','להיגרף'], 'ambig_inflected':False, 'ambig_uninflected':True, 'ambig_with':'לגרוף'},\\n           {'noun':'מסכן', 'denom':['למסכן','להתמסכן'], 'non_denom':['לסכן','להסתכן'], 'others':['','',''], 'ambig_inflected':True, 'ambig_uninflected':True, 'ambig_with':'לסכן'},\\n           {'noun':'תגמולים', 'denom':['לתגמל',''], 'non_denom':['','להיגמל'], 'others':['לגמול','','להיגמל'], 'ambig_inflected':False, 'ambig_uninflected':True, 'ambig_with':'לגמול'},\\n           {'noun':'חרבון', 'denom':['לחרבן','להתחרבן'], 'non_denom':['לחרב','להתחרב'], 'others':['','להחריב','להיחרב'], 'ambig_inflected':False, 'ambig_uninflected':False, 'ambig_with':''},\\n           {'noun':'צלחות', 'denom':['לצלחת',''], 'non_denom':['',''], 'others':['לצלוח','להצליח',''], 'ambig_inflected':False, 'ambig_uninflected':True, 'ambig_with':'לצלוח'},\\n           {'noun':'משכון', 'denom':['למשכן',''], 'non_denom':['לשכן','להשתכן'], 'others':['לשכון','להשכין',''], 'ambig_inflected':False, 'ambig_uninflected':False, 'ambig_with':''},\\n           {'noun':'תגבורת', 'denom':['לתגבר',''], 'non_denom':['','להתגבר'], 'others':['לגבור','להגביר',''], 'ambig_inflected':False, 'ambig_uninflected':False, 'ambig_with':''},\\n           {'noun':'מסמך', 'denom':['למסמך',''], 'non_denom':['','להסתמך'], 'others':['לסמוך','להסמיך',''], 'ambig_inflected':False, 'ambig_uninflected':False, 'ambig_with':''},\\n           {'noun':'תאריכים', 'denom':['לתארך',''], 'non_denom':['','להתארך'], 'others':['לארוך','להאריך',''], 'ambig_inflected':False, 'ambig_uninflected':True, 'ambig_with':'להאריך'},\\n           {'noun':'תכסיס', 'denom':['לתכסס',''], 'non_denom':['',''], 'others':['לכסוס','',''], 'ambig_inflected':False, 'ambig_uninflected':False, 'ambig_with':''},\\n           {'noun':'מזרח', 'denom':['','להתמזרח'], 'non_denom':['',''], 'others':['לזרוח','להזריח',''], 'ambig_inflected':False, 'ambig_uninflected':False, 'ambig_with':''},\\n           {'noun':'מערב', 'denom':['','להתמערב'], 'non_denom':['לערב','להתערב'], 'others':['לערוב','',''], 'ambig_inflected':False, 'ambig_uninflected':True, 'ambig_with':'לערב'},\\n           {'noun':'מקצוע', 'denom':['למקצע','להתמקצע'], 'non_denom':['',''], 'others':['לקצוע','',''], 'ambig_inflected':False, 'ambig_uninflected':False, 'ambig_with':''},\\n           {'noun':'תזכורת', 'denom':['לתזכר',''], 'non_denom':['',''], 'others':['לזכור','להזכיר','להיזכר'], 'ambig_inflected':False, 'ambig_uninflected':False, 'ambig_with':''},\\n           {'noun':'מגדרים', 'denom':['למגדר',''], 'non_denom':['לגדר',''], 'others':['','להגדיר',''], 'ambig_inflected':True, 'ambig_uninflected':True, 'ambig_with':'לגדר'},\\n           {'noun':'פרשנים', 'denom':['לפרשן','להתפרשן'], 'non_denom':['לפרש','להתפרש'], 'others':['לפרוש','להפריש',''], 'ambig_inflected':False, 'ambig_uninflected':True, 'ambig_with':'לפרשן'},\\n           {'noun':'קורבן', 'denom':['','להתקרבן'], 'non_denom':['','להתקרב'], 'others':['','להקריב',''], 'ambig_inflected':False, 'ambig_uninflected':False, 'ambig_with':''},\\n           {'noun':'חמצן', 'denom':['לחמצן','להתחמצן'], 'non_denom':['',''], 'others':['','להחמיץ','להיחמץ'], 'ambig_inflected':True, 'ambig_uninflected':True, 'ambig_with':'לחמצן'},]\""
      ]
     },
     "execution_count": 74,
     "metadata": {},
     "output_type": "execute_result"
    }
   ],
   "source": [
    "\"\"\"dataset = [{'noun':'מחשב', 'denom':['למחשב',''], 'non_denom':['לחשב','להתחשב'], 'others':['לחשוב','להחשיב','להיחשב'], 'ambig_inflected':True, 'ambig_uninflected':True, 'ambig_with':'לחשב'},\n",
    "           {'noun':'תחזוקה', 'denom':['לתחזק',''], 'non_denom':['לחזק','להתחזק'], 'others':['','להחזיק',''], 'ambig_inflected':False, 'ambig_uninflected':False, 'ambig_with':''},\n",
    "           {'noun':'מחזור', 'denom':['למחזר',''], 'non_denom':['לחזר','להתחזר'], 'others':['לחזור','להחזיר',''], 'ambig_inflected':False, 'ambig_uninflected':False, 'ambig_with':''},\n",
    "           {'noun':'חשבון', 'denom':['','להתחשבן'], 'non_denom':['לחשב','להתחשב'], 'others':['לחשוב','להחשיב','להיחשב'], 'ambig_inflected':False, 'ambig_uninflected':False, 'ambig_with':''},\n",
    "           {'noun':'תקשורת', 'denom':['לתקשר',''], 'non_denom':['לקשר','להתקשר'], 'others':['לקשור','','להיקשר'], 'ambig_inflected':False, 'ambig_uninflected':False, 'ambig_with':''},\n",
    "           {'noun':'תפקידים', 'denom':['לתפקד',''], 'non_denom':['לפקד','להתפקד'], 'others':['לפקוד','להפקיד','להיפקד'], 'ambig_inflected':False, 'ambig_uninflected':True, 'ambig_with':'להפקיד'},\n",
    "           {'noun':'תרגילים', 'denom':['לתרגל',''], 'non_denom':['לרגל','להתרגל'], 'others':['','להרגיל',''], 'ambig_inflected':False, 'ambig_uninflected':True, 'ambig_with':'להרגיל'},\n",
    "           {'noun':'פלצן', 'denom':['','להתפלצן'], 'non_denom':['','להתפלץ'], 'others':['','להפליץ',''], 'ambig_inflected':False, 'ambig_uninflected':False, 'ambig_with':''},\n",
    "           {'noun':'תזמורת', 'denom':['לתזמר',''], 'non_denom':['לזמר',''], 'others':['','',''], 'ambig_inflected':False, 'ambig_uninflected':False, 'ambig_with':''},\n",
    "           {'noun':'תזמון', 'denom':['לתזמן',''], 'non_denom':['לזמן','להזדמן'], 'others':['','להזמין',''], 'ambig_inflected':False, 'ambig_uninflected':False, 'ambig_with':''},\n",
    "           {'noun':'סקרנים', 'denom':['לסקרן','להסתקרן'], 'non_denom':['לסקר',''], 'others':['לסקור','','להיסקר'], 'ambig_inflected':False, 'ambig_uninflected':True, 'ambig_with':'לסקרן'},\n",
    "           {'noun':'תקציר', 'denom':['לתקצר',''], 'non_denom':['לקצר',''], 'others':['לקצור','להתקצר','להיקצר'], 'ambig_inflected':False, 'ambig_uninflected':False, 'ambig_with':''},\n",
    "           {'noun':'מלכודת', 'denom':['למלכד',''], 'non_denom':['ללכד','להתלכד'], 'others':['ללכוד','','להילכד'], 'ambig_inflected':False, 'ambig_uninflected':False, 'ambig_with':''},\n",
    "           {'noun':'אבטחה', 'denom':['לאבטח',''], 'non_denom':['לבטח',''], 'others':['לבטוח','להבטיח',''], 'ambig_inflected':True, 'ambig_uninflected':True, 'ambig_with':'לאבטח'},\n",
    "           {'noun':'קמצן', 'denom':['','להתקמצן'], 'non_denom':['לקמץ',''], 'others':['','',''], 'ambig_inflected':False, 'ambig_uninflected':False, 'ambig_with':''},\n",
    "           {'noun':'שלהבת', 'denom':['לשלהב','להשתלהב'], 'non_denom':['','להתלהב'], 'others':['','להלהיב',''], 'ambig_inflected':False, 'ambig_uninflected':False, 'ambig_with':''},\n",
    "           {'noun':'עצבני', 'denom':['לעצבן','להתעצבן'], 'non_denom':['לעצב','להתעצב'], 'others':['','להעציב','להיעצב'], 'ambig_inflected':False, 'ambig_uninflected':False, 'ambig_with':''},\n",
    "           {'noun':'מרכז', 'denom':['למרכז','להתמרכז'], 'non_denom':['לרכז','להתרכז'], 'others':['','',''], 'ambig_inflected':True, 'ambig_uninflected':True, 'ambig_with':'לרכז'},\n",
    "           {'noun':'תסביך', 'denom':['לתסבך',''], 'non_denom':['לסבך','להסתבך'], 'others':['','',''], 'ambig_inflected':False, 'ambig_uninflected':False, 'ambig_with':''},\n",
    "           {'noun':'מסגרת', 'denom':['למסגר',''], 'non_denom':['','להסתגר'], 'others':['לסגור','להסגיר','להיסגר'], 'ambig_inflected':False, 'ambig_uninflected':False, 'ambig_with':''},\n",
    "           {'noun':'אכזבות', 'denom':['לאכזב','להתאכזב'], 'non_denom':['לכזב',''], 'others':['','להכזיב',''], 'ambig_inflected':False, 'ambig_uninflected':True, 'ambig_with':'לאכזב'},\n",
    "           {'noun':'מסחר', 'denom':['','להתמסחר'], 'non_denom':['',''], 'others':['לסחור','','להיסחר'], 'ambig_inflected':False, 'ambig_uninflected':False, 'ambig_with':''},\n",
    "           {'noun':'תעתיקים', 'denom':['לתעתק',''], 'non_denom':['',''], 'others':['','להעתיק',''], 'ambig_inflected':False, 'ambig_uninflected':True, 'ambig_with':'להעתיק'},\n",
    "           {'noun':'תדריכים', 'denom':['לתדרך',''], 'non_denom':['',''], 'others':['לדרוך','להדריך','להידרך'], 'ambig_inflected':False, 'ambig_uninflected':True, 'ambig_with':'להדריך'},\n",
    "           {'noun':'תמריצים', 'denom':['לתמרץ',''], 'non_denom':['',''], 'others':['','להמריץ',''], 'ambig_inflected':False, 'ambig_uninflected':True, 'ambig_with':'להמריץ'},\n",
    "           {'noun':'תקציבים', 'denom':['לתקצב',''], 'non_denom':['',''], 'others':['לקצוב','להקציב','להיקצב'], 'ambig_inflected':False, 'ambig_uninflected':True, 'ambig_with':'להקציב'},\n",
    "           {'noun':'תצפית', 'denom':['לתצפת',''], 'non_denom':['',''], 'others':['לצפות','',''], 'ambig_inflected':False, 'ambig_uninflected':False, 'ambig_with':''},\n",
    "           {'noun':'אבחנות', 'denom':['לאבחן',''], 'non_denom':['',''], 'others':['לבחון','להבחין','להיבחן'], 'ambig_inflected':False, 'ambig_uninflected':True, 'ambig_with':'לאבחן'},\n",
    "           {'noun':'תחקיר', 'denom':['לתחקר',''], 'non_denom':['',''], 'others':['לחקור','','להיחקר'], 'ambig_inflected':False, 'ambig_uninflected':False, 'ambig_with':''},\n",
    "           {'noun':'תסריטים', 'denom':['לתסרט',''], 'non_denom':['',''], 'others':['','להסריט',''], 'ambig_inflected':False, 'ambig_uninflected':True, 'ambig_with':'להסריט'},\n",
    "           {'noun':'תקליטים', 'denom':['לתקלט',''], 'non_denom':['',''], 'others':['לקלוט','להקליט','להיקלט'], 'ambig_inflected':False, 'ambig_uninflected':True, 'ambig_with':'להקליט'},\n",
    "           {'noun':'אזכרות', 'denom':['לאזכר',''], 'non_denom':['',''], 'others':['לזכור','להזכיר','להיזכר'], 'ambig_inflected':False, 'ambig_uninflected':True, 'ambig_with':'לאזכר'},\n",
    "           {'noun':'מספר', 'denom':['למספר',''], 'non_denom':['לספר','להסתפר'], 'others':['לספור','','להיספר'], 'ambig_inflected':True, 'ambig_uninflected':True, 'ambig_with':'לספר'},\n",
    "           {'noun':'טרחנים', 'denom':['לטרחן',''], 'non_denom':['',''], 'others':['לטרוח','להטריח',''], 'ambig_inflected':False, 'ambig_uninflected':True, 'ambig_with':'לטרחן'},\n",
    "           {'noun':'מרפק', 'denom':['למרפק',''], 'non_denom':['','להתרפק'], 'others':['','',''], 'ambig_inflected':False, 'ambig_uninflected':False, 'ambig_with':''},\n",
    "           {'noun':'מסמר', 'denom':['למסמר',''], 'non_denom':['לסמר',''], 'others':['לסמור','',''], 'ambig_inflected':True, 'ambig_uninflected':True, 'ambig_with':'לסמר'},\n",
    "           {'noun':'אזרחים', 'denom':['לאזרח','להתאזרח'], 'non_denom':['',''], 'others':['לזרוח','',''], 'ambig_inflected':False, 'ambig_uninflected':True, 'ambig_with':'לאזרח'},\n",
    "           {'noun':'אגרופים', 'denom':['','להתאגרף'], 'non_denom':['',''], 'others':['לגרוף','','להיגרף'], 'ambig_inflected':False, 'ambig_uninflected':True, 'ambig_with':'לגרוף'},\n",
    "           {'noun':'מסכן', 'denom':['למסכן','להתמסכן'], 'non_denom':['לסכן','להסתכן'], 'others':['','',''], 'ambig_inflected':True, 'ambig_uninflected':True, 'ambig_with':'לסכן'},\n",
    "           {'noun':'תגמולים', 'denom':['לתגמל',''], 'non_denom':['','להיגמל'], 'others':['לגמול','','להיגמל'], 'ambig_inflected':False, 'ambig_uninflected':True, 'ambig_with':'לגמול'},\n",
    "           {'noun':'חרבון', 'denom':['לחרבן','להתחרבן'], 'non_denom':['לחרב','להתחרב'], 'others':['','להחריב','להיחרב'], 'ambig_inflected':False, 'ambig_uninflected':False, 'ambig_with':''},\n",
    "           {'noun':'צלחות', 'denom':['לצלחת',''], 'non_denom':['',''], 'others':['לצלוח','להצליח',''], 'ambig_inflected':False, 'ambig_uninflected':True, 'ambig_with':'לצלוח'},\n",
    "           {'noun':'משכון', 'denom':['למשכן',''], 'non_denom':['לשכן','להשתכן'], 'others':['לשכון','להשכין',''], 'ambig_inflected':False, 'ambig_uninflected':False, 'ambig_with':''},\n",
    "           {'noun':'תגבורת', 'denom':['לתגבר',''], 'non_denom':['','להתגבר'], 'others':['לגבור','להגביר',''], 'ambig_inflected':False, 'ambig_uninflected':False, 'ambig_with':''},\n",
    "           {'noun':'מסמך', 'denom':['למסמך',''], 'non_denom':['','להסתמך'], 'others':['לסמוך','להסמיך',''], 'ambig_inflected':False, 'ambig_uninflected':False, 'ambig_with':''},\n",
    "           {'noun':'תאריכים', 'denom':['לתארך',''], 'non_denom':['','להתארך'], 'others':['לארוך','להאריך',''], 'ambig_inflected':False, 'ambig_uninflected':True, 'ambig_with':'להאריך'},\n",
    "           {'noun':'תכסיס', 'denom':['לתכסס',''], 'non_denom':['',''], 'others':['לכסוס','',''], 'ambig_inflected':False, 'ambig_uninflected':False, 'ambig_with':''},\n",
    "           {'noun':'מזרח', 'denom':['','להתמזרח'], 'non_denom':['',''], 'others':['לזרוח','להזריח',''], 'ambig_inflected':False, 'ambig_uninflected':False, 'ambig_with':''},\n",
    "           {'noun':'מערב', 'denom':['','להתמערב'], 'non_denom':['לערב','להתערב'], 'others':['לערוב','',''], 'ambig_inflected':False, 'ambig_uninflected':True, 'ambig_with':'לערב'},\n",
    "           {'noun':'מקצוע', 'denom':['למקצע','להתמקצע'], 'non_denom':['',''], 'others':['לקצוע','',''], 'ambig_inflected':False, 'ambig_uninflected':False, 'ambig_with':''},\n",
    "           {'noun':'תזכורת', 'denom':['לתזכר',''], 'non_denom':['',''], 'others':['לזכור','להזכיר','להיזכר'], 'ambig_inflected':False, 'ambig_uninflected':False, 'ambig_with':''},\n",
    "           {'noun':'מגדרים', 'denom':['למגדר',''], 'non_denom':['לגדר',''], 'others':['','להגדיר',''], 'ambig_inflected':True, 'ambig_uninflected':True, 'ambig_with':'לגדר'},\n",
    "           {'noun':'פרשנים', 'denom':['לפרשן','להתפרשן'], 'non_denom':['לפרש','להתפרש'], 'others':['לפרוש','להפריש',''], 'ambig_inflected':False, 'ambig_uninflected':True, 'ambig_with':'לפרשן'},\n",
    "           {'noun':'קורבן', 'denom':['','להתקרבן'], 'non_denom':['','להתקרב'], 'others':['','להקריב',''], 'ambig_inflected':False, 'ambig_uninflected':False, 'ambig_with':''},\n",
    "           {'noun':'חמצן', 'denom':['לחמצן','להתחמצן'], 'non_denom':['',''], 'others':['','להחמיץ','להיחמץ'], 'ambig_inflected':True, 'ambig_uninflected':True, 'ambig_with':'לחמצן'},]\"\"\""
   ]
  },
  {
   "cell_type": "code",
   "execution_count": 75,
   "id": "1f1bfb7e",
   "metadata": {},
   "outputs": [
    {
     "data": {
      "text/plain": [
       "\"with open('./hebrew dataset/definitive_dataset.csv' ,'w') as f:\\n    f.write('Noun,Denominal(s),Non-denominal(s),Other(s)\\n')\\n    for dp in dataset:\\n        n = dp['noun']\\n        dns = dp['denom']\\n        dns = [dn for dn in dns if dn != '']\\n        dns = ' '.join(dns)\\n        ndns = dp['non_denom']\\n        ndns = [ndn for ndn in ndns if ndn != '']\\n        ndns = ' '.join(ndns)\\n        others = dp['others']\\n        others = [other for other in others if other != '']\\n        others = ' '.join(others)\\n        print(dns)\\n        print(ndns)\\n        print(others)\\n        f.write(f'{n},{dns},{ndns},{others}\\n')\""
      ]
     },
     "execution_count": 75,
     "metadata": {},
     "output_type": "execute_result"
    }
   ],
   "source": [
    "\"\"\"with open('./hebrew dataset/definitive_dataset.csv' ,'w') as f:\n",
    "    f.write('Noun,Denominal(s),Non-denominal(s),Other(s)\\n')\n",
    "    for dp in dataset:\n",
    "        n = dp['noun']\n",
    "        dns = dp['denom']\n",
    "        dns = [dn for dn in dns if dn != '']\n",
    "        dns = ' '.join(dns)\n",
    "        ndns = dp['non_denom']\n",
    "        ndns = [ndn for ndn in ndns if ndn != '']\n",
    "        ndns = ' '.join(ndns)\n",
    "        others = dp['others']\n",
    "        others = [other for other in others if other != '']\n",
    "        others = ' '.join(others)\n",
    "        print(dns)\n",
    "        print(ndns)\n",
    "        print(others)\n",
    "        f.write(f'{n},{dns},{ndns},{others}\\n')\"\"\""
   ]
  },
  {
   "cell_type": "code",
   "execution_count": 76,
   "id": "5b85d4f5",
   "metadata": {},
   "outputs": [],
   "source": [
    "dataset = load_dataset_from_csv('./datasets/he/definitive_dataset.csv')"
   ]
  },
  {
   "cell_type": "code",
   "execution_count": 77,
   "id": "38fd058d",
   "metadata": {},
   "outputs": [
    {
     "name": "stdout",
     "output_type": "stream",
     "text": [
      "Datapoint #1:\n",
      "Noun: מחשב\n",
      "Denominal(s): ['למחשב']\n",
      "Non-denominal(s): ['לחשב', 'להתחשב']\n",
      "Other(s): ['לחשוב', 'להחשיב', 'להיחשב']\n",
      "Datapoint #2:\n",
      "Noun: תחזוקה\n",
      "Denominal(s): ['לתחזק']\n",
      "Non-denominal(s): ['לחזק', 'להתחזק']\n",
      "Other(s): ['להחזיק']\n",
      "Datapoint #3:\n",
      "Noun: מחזור\n",
      "Denominal(s): ['למחזר']\n",
      "Non-denominal(s): ['לחזר', 'להתחזר']\n",
      "Other(s): ['לחזור', 'להחזיר']\n",
      "Datapoint #4:\n",
      "Noun: חשבון\n",
      "Denominal(s): ['להתחשבן']\n",
      "Non-denominal(s): ['לחשב', 'להתחשב']\n",
      "Other(s): ['לחשוב', 'להחשיב', 'להיחשב']\n",
      "Datapoint #5:\n",
      "Noun: תקשורת\n",
      "Denominal(s): ['לתקשר']\n",
      "Non-denominal(s): ['לקשר', 'להתקשר']\n",
      "Other(s): ['לקשור', 'להיקשר']\n",
      "Datapoint #6:\n",
      "Noun: תפקידים\n",
      "Denominal(s): ['לתפקד']\n",
      "Non-denominal(s): ['לפקד', 'להתפקד']\n",
      "Other(s): ['לפקוד', 'להפקיד', 'להיפקד']\n",
      "Datapoint #7:\n",
      "Noun: תרגילים\n",
      "Denominal(s): ['לתרגל']\n",
      "Non-denominal(s): ['לרגל', 'להתרגל']\n",
      "Other(s): ['להרגיל']\n",
      "Datapoint #8:\n",
      "Noun: פלצן\n",
      "Denominal(s): ['להתפלצן']\n",
      "Non-denominal(s): ['להתפלץ']\n",
      "Other(s): ['להפליץ']\n",
      "Datapoint #9:\n",
      "Noun: תזמורת\n",
      "Denominal(s): ['לתזמר']\n",
      "Non-denominal(s): ['לזמר']\n",
      "Other(s): []\n",
      "Datapoint #10:\n",
      "Noun: תזמון\n",
      "Denominal(s): ['לתזמן']\n",
      "Non-denominal(s): ['לזמן', 'להזדמן']\n",
      "Other(s): ['להזמין']\n",
      "Datapoint #11:\n",
      "Noun: סקרנים\n",
      "Denominal(s): ['לסקרן', 'להסתקרן']\n",
      "Non-denominal(s): ['לסקר']\n",
      "Other(s): ['לסקור', 'להיסקר']\n",
      "Datapoint #12:\n",
      "Noun: תקציר\n",
      "Denominal(s): ['לתקצר']\n",
      "Non-denominal(s): ['לקצר']\n",
      "Other(s): ['לקצור', 'להתקצר', 'להיקצר']\n",
      "Datapoint #13:\n",
      "Noun: מלכודת\n",
      "Denominal(s): ['למלכד']\n",
      "Non-denominal(s): ['ללכד', 'להתלכד']\n",
      "Other(s): ['ללכוד', 'להילכד']\n",
      "Datapoint #14:\n",
      "Noun: אבטחה\n",
      "Denominal(s): ['לאבטח']\n",
      "Non-denominal(s): ['לבטח']\n",
      "Other(s): ['לבטוח', 'להבטיח']\n",
      "Datapoint #15:\n",
      "Noun: קמצן\n",
      "Denominal(s): ['להתקמצן']\n",
      "Non-denominal(s): ['לקמץ']\n",
      "Other(s): []\n",
      "Datapoint #16:\n",
      "Noun: שלהבת\n",
      "Denominal(s): ['לשלהב', 'להשתלהב']\n",
      "Non-denominal(s): ['להתלהב']\n",
      "Other(s): ['להלהיב']\n",
      "Datapoint #17:\n",
      "Noun: עצבני\n",
      "Denominal(s): ['לעצבן', 'להתעצבן']\n",
      "Non-denominal(s): ['לעצב', 'להתעצב']\n",
      "Other(s): ['להעציב', 'להיעצב']\n",
      "Datapoint #18:\n",
      "Noun: מרכז\n",
      "Denominal(s): ['למרכז', 'להתמרכז']\n",
      "Non-denominal(s): ['לרכז', 'להתרכז']\n",
      "Other(s): []\n",
      "Datapoint #19:\n",
      "Noun: תסביך\n",
      "Denominal(s): ['לתסבך']\n",
      "Non-denominal(s): ['לסבך', 'להסתבך']\n",
      "Other(s): []\n",
      "Datapoint #20:\n",
      "Noun: מסגרת\n",
      "Denominal(s): ['למסגר']\n",
      "Non-denominal(s): ['להסתגר']\n",
      "Other(s): ['לסגור', 'להסגיר', 'להיסגר']\n",
      "Datapoint #21:\n",
      "Noun: אכזבות\n",
      "Denominal(s): ['לאכזב', 'להתאכזב']\n",
      "Non-denominal(s): ['לכזב']\n",
      "Other(s): ['להכזיב']\n",
      "Datapoint #22:\n",
      "Noun: מסחר\n",
      "Denominal(s): ['להתמסחר']\n",
      "Non-denominal(s): []\n",
      "Other(s): ['לסחור', 'להיסחר']\n",
      "Datapoint #23:\n",
      "Noun: תעתיקים\n",
      "Denominal(s): ['לתעתק']\n",
      "Non-denominal(s): []\n",
      "Other(s): ['להעתיק']\n",
      "Datapoint #24:\n",
      "Noun: תדריכים\n",
      "Denominal(s): ['לתדרך']\n",
      "Non-denominal(s): []\n",
      "Other(s): ['לדרוך', 'להדריך', 'להידרך']\n",
      "Datapoint #25:\n",
      "Noun: תמריצים\n",
      "Denominal(s): ['לתמרץ']\n",
      "Non-denominal(s): []\n",
      "Other(s): ['להמריץ']\n",
      "Datapoint #26:\n",
      "Noun: תקציבים\n",
      "Denominal(s): ['לתקצב']\n",
      "Non-denominal(s): []\n",
      "Other(s): ['לקצוב', 'להקציב', 'להיקצב']\n",
      "Datapoint #27:\n",
      "Noun: תצפית\n",
      "Denominal(s): ['לתצפת']\n",
      "Non-denominal(s): []\n",
      "Other(s): ['לצפות']\n",
      "Datapoint #28:\n",
      "Noun: אבחנות\n",
      "Denominal(s): ['לאבחן']\n",
      "Non-denominal(s): []\n",
      "Other(s): ['לבחון', 'להבחין', 'להיבחן']\n",
      "Datapoint #29:\n",
      "Noun: תחקיר\n",
      "Denominal(s): ['לתחקר']\n",
      "Non-denominal(s): []\n",
      "Other(s): ['לחקור', 'להיחקר']\n",
      "Datapoint #30:\n",
      "Noun: תסריטים\n",
      "Denominal(s): ['לתסרט']\n",
      "Non-denominal(s): []\n",
      "Other(s): ['להסריט']\n",
      "Datapoint #31:\n",
      "Noun: תקליטים\n",
      "Denominal(s): ['לתקלט']\n",
      "Non-denominal(s): []\n",
      "Other(s): ['לקלוט', 'להקליט', 'להיקלט']\n",
      "Datapoint #32:\n",
      "Noun: אזכרות\n",
      "Denominal(s): ['לאזכר']\n",
      "Non-denominal(s): []\n",
      "Other(s): ['לזכור', 'להזכיר', 'להיזכר']\n",
      "Datapoint #33:\n",
      "Noun: מספר\n",
      "Denominal(s): ['למספר']\n",
      "Non-denominal(s): ['לספר', 'להסתפר']\n",
      "Other(s): ['לספור', 'להיספר']\n",
      "Datapoint #34:\n",
      "Noun: טרחנים\n",
      "Denominal(s): ['לטרחן']\n",
      "Non-denominal(s): []\n",
      "Other(s): ['לטרוח', 'להטריח']\n",
      "Datapoint #35:\n",
      "Noun: מרפק\n",
      "Denominal(s): ['למרפק']\n",
      "Non-denominal(s): ['להתרפק']\n",
      "Other(s): []\n",
      "Datapoint #36:\n",
      "Noun: מסמר\n",
      "Denominal(s): ['למסמר']\n",
      "Non-denominal(s): ['לסמר']\n",
      "Other(s): ['לסמור']\n",
      "Datapoint #37:\n",
      "Noun: אזרחים\n",
      "Denominal(s): ['לאזרח', 'להתאזרח']\n",
      "Non-denominal(s): []\n",
      "Other(s): ['לזרוח']\n",
      "Datapoint #38:\n",
      "Noun: אגרופים\n",
      "Denominal(s): ['להתאגרף']\n",
      "Non-denominal(s): []\n",
      "Other(s): ['לגרוף', 'להיגרף']\n",
      "Datapoint #39:\n",
      "Noun: מסכן\n",
      "Denominal(s): ['למסכן', 'להתמסכן']\n",
      "Non-denominal(s): ['לסכן', 'להסתכן']\n",
      "Other(s): []\n",
      "Datapoint #40:\n",
      "Noun: תגמולים\n",
      "Denominal(s): ['לתגמל']\n",
      "Non-denominal(s): ['להיגמל']\n",
      "Other(s): ['לגמול', 'להיגמל']\n",
      "Datapoint #41:\n",
      "Noun: חרבון\n",
      "Denominal(s): ['לחרבן', 'להתחרבן']\n",
      "Non-denominal(s): ['לחרב', 'להתחרב']\n",
      "Other(s): ['להחריב', 'להיחרב']\n",
      "Datapoint #42:\n",
      "Noun: צלחות\n",
      "Denominal(s): ['לצלחת']\n",
      "Non-denominal(s): []\n",
      "Other(s): ['לצלוח', 'להצליח']\n",
      "Datapoint #43:\n",
      "Noun: משכון\n",
      "Denominal(s): ['למשכן']\n",
      "Non-denominal(s): ['לשכן', 'להשתכן']\n",
      "Other(s): ['לשכון', 'להשכין']\n",
      "Datapoint #44:\n",
      "Noun: תגבורת\n",
      "Denominal(s): ['לתגבר']\n",
      "Non-denominal(s): ['להתגבר']\n",
      "Other(s): ['לגבור', 'להגביר']\n",
      "Datapoint #45:\n",
      "Noun: מסמך\n",
      "Denominal(s): ['למסמך']\n",
      "Non-denominal(s): ['להסתמך']\n",
      "Other(s): ['לסמוך', 'להסמיך']\n",
      "Datapoint #46:\n",
      "Noun: תאריכים\n",
      "Denominal(s): ['לתארך']\n",
      "Non-denominal(s): ['להתארך']\n",
      "Other(s): ['לארוך', 'להאריך']\n",
      "Datapoint #47:\n",
      "Noun: תכסיס\n",
      "Denominal(s): ['לתכסס']\n",
      "Non-denominal(s): []\n",
      "Other(s): ['לכסוס']\n",
      "Datapoint #48:\n",
      "Noun: מזרח\n",
      "Denominal(s): ['להתמזרח']\n",
      "Non-denominal(s): []\n",
      "Other(s): ['לזרוח', 'להזריח']\n",
      "Datapoint #49:\n",
      "Noun: מערב\n",
      "Denominal(s): ['להתמערב']\n",
      "Non-denominal(s): ['לערב', 'להתערב']\n",
      "Other(s): ['לערוב']\n",
      "Datapoint #50:\n",
      "Noun: מקצוע\n",
      "Denominal(s): ['למקצע', 'להתמקצע']\n",
      "Non-denominal(s): []\n",
      "Other(s): ['לקצוע']\n",
      "Datapoint #51:\n",
      "Noun: תזכורת\n",
      "Denominal(s): ['לתזכר']\n",
      "Non-denominal(s): []\n",
      "Other(s): ['לזכור', 'להזכיר', 'להיזכר']\n",
      "Datapoint #52:\n",
      "Noun: מגדרים\n",
      "Denominal(s): ['למגדר']\n",
      "Non-denominal(s): ['לגדר']\n",
      "Other(s): ['להגדיר']\n",
      "Datapoint #53:\n",
      "Noun: פרשנים\n",
      "Denominal(s): ['לפרשן', 'להתפרשן']\n",
      "Non-denominal(s): ['לפרש', 'להתפרש']\n",
      "Other(s): ['לפרוש', 'להפריש']\n",
      "Datapoint #54:\n",
      "Noun: קורבן\n",
      "Denominal(s): ['להתקרבן']\n",
      "Non-denominal(s): ['להתקרב']\n",
      "Other(s): ['להקריב']\n",
      "Datapoint #55:\n",
      "Noun: חמצן\n",
      "Denominal(s): ['לחמצן', 'להתחמצן']\n",
      "Non-denominal(s): []\n",
      "Other(s): ['להחמיץ', 'להיחמץ']\n"
     ]
    }
   ],
   "source": [
    "dataset.display_content()"
   ]
  },
  {
   "cell_type": "code",
   "execution_count": 78,
   "id": "ca3b7064",
   "metadata": {},
   "outputs": [
    {
     "name": "stdout",
     "output_type": "stream",
     "text": [
      "Number of datapoints before adjustment: 55\n",
      "Number of datapoints after adjustment: 29\n"
     ]
    }
   ],
   "source": [
    "dataset.filter_against_embedding(embedding)"
   ]
  },
  {
   "cell_type": "code",
   "execution_count": 79,
   "id": "7a281772",
   "metadata": {},
   "outputs": [],
   "source": [
    "triplets = dataset.get_triplets()\n",
    "lexicon = dataset.get_lexicon()\n",
    "vecs = dataset.get_vecs(embedding)"
   ]
  },
  {
   "cell_type": "code",
   "execution_count": 80,
   "id": "797996a9",
   "metadata": {},
   "outputs": [
    {
     "data": {
      "text/plain": [
       "31"
      ]
     },
     "execution_count": 80,
     "metadata": {},
     "output_type": "execute_result"
    }
   ],
   "source": [
    "len(triplets)"
   ]
  },
  {
   "cell_type": "markdown",
   "id": "f6ed992e",
   "metadata": {},
   "source": [
    "# Reduction"
   ]
  },
  {
   "cell_type": "code",
   "execution_count": 81,
   "id": "afbf8714",
   "metadata": {},
   "outputs": [],
   "source": [
    "\"\"\"def get_target_dim(vecs):\n",
    "    cov_matrix = np.cov(vecs.T)\n",
    "    eigenvalues, eigenvectors = np.linalg.eig(cov_matrix)\n",
    "    #sort the eigenvalues in descending order\n",
    "    sorted_index = np.argsort(eigenvalues)[::-1]\n",
    "    sorted_eigenvalues = eigenvalues[sorted_index]\n",
    "    #similarly sort the eigenvectors \n",
    "    sorted_eigenvectors = eigenvectors[:,sorted_index]\n",
    "    target_dim = len([ev for ev in eigenvalues if ev >= 1])\n",
    "    eigenvector_subset = sorted_eigenvectors[:,0:target_dim]\n",
    "    print(eigenvector_subset.shape)\n",
    "    #vecs_reduced = np.dot(eigenvector_subset.transpose(),X_meaned.transpose()).transpose()\n",
    "    print(vecs.shape)\n",
    "    return target_dim, np.dot(vecs, eigenvector_subset)\"\"\"\n",
    "    \n",
    "def reduce_dim(words, vecs):\n",
    "    pca = PCA(n_components=.9, svd_solver='full')\n",
    "    \"\"\"pca.fit(vecs)\n",
    "    print(f'Intermediate dimension: {pca.n_components_}')\n",
    "    target_dim = len([sv for sv in pca.singular_values_ if sv >=1])\n",
    "    pca = PCA(n_components=target_dim)\"\"\"\n",
    "    all_vecs_reduced = pca.fit_transform(vecs)\n",
    "    print(f'Initial dimension: {len(vecs[0])}')\n",
    "    print(f'Final dimension: {pca.n_components_}')\n",
    "    print(f'Explained variance: {np.sum(pca.explained_variance_ratio_)}')\n",
    "    plt.plot(pca.explained_variance_ratio_)\n",
    "    plt.title('Explained variance ratio for each component of the PCA \\n (sorted from most significant to least significant)')\n",
    "    plt.show()\n",
    "    plt.plot(np.cumsum(pca.explained_variance_ratio_))\n",
    "    plt.title('Cumulative sum of the explained variance ratios of the PCA')\n",
    "    plt.show()\n",
    "    \n",
    "    return dict(zip(words, all_vecs_reduced))"
   ]
  },
  {
   "cell_type": "code",
   "execution_count": 82,
   "id": "7af1fd62",
   "metadata": {},
   "outputs": [
    {
     "name": "stdout",
     "output_type": "stream",
     "text": [
      "Initial dimension: 25\n",
      "Final dimension: 17\n",
      "Explained variance: 0.9171297861840458\n"
     ]
    },
    {
     "data": {
      "image/png": "[encoded data removed]",
      "text/plain": [
       "<Figure size 640x480 with 1 Axes>"
      ]
     },
     "metadata": {},
     "output_type": "display_data"
    },
    {
     "data": {
      "image/png": "[encoded data removed]",
      "text/plain": [
       "<Figure size 640x480 with 1 Axes>"
      ]
     },
     "metadata": {},
     "output_type": "display_data"
    }
   ],
   "source": [
    "reduced_embedding = reduce_dim(lexicon, vecs)"
   ]
  },
  {
   "cell_type": "markdown",
   "id": "6f4bc986",
   "metadata": {},
   "source": [
    "# Save"
   ]
  },
  {
   "cell_type": "code",
   "execution_count": 83,
   "id": "3f55f7ff",
   "metadata": {},
   "outputs": [],
   "source": [
    "def write_dict_to_vector_file(embedding):\n",
    "    fname = f'{model}_{dim}_{language}_vectors_reduced.txt'\n",
    "    with open(f'./models/reduced/{fname}', 'w') as f:\n",
    "        for w, v in embedding.items():\n",
    "            l = f'{w} '\n",
    "            for x in v:\n",
    "                l = l+f'{str(x)} '\n",
    "            l = l[:-1]+'\\n'\n",
    "            f.write(l)"
   ]
  },
  {
   "cell_type": "code",
   "execution_count": 84,
   "id": "1fd7f195",
   "metadata": {},
   "outputs": [],
   "source": [
    "write_dict_to_vector_file(reduced_embedding)"
   ]
  },
  {
   "cell_type": "code",
   "execution_count": null,
   "id": "45a638c0",
   "metadata": {},
   "outputs": [],
   "source": []
  },
  {
   "cell_type": "code",
   "execution_count": null,
   "id": "3e10d3cf",
   "metadata": {},
   "outputs": [],
   "source": []
  },
  {
   "cell_type": "code",
   "execution_count": null,
   "id": "2cc86825",
   "metadata": {},
   "outputs": [],
   "source": []
  },
  {
   "cell_type": "code",
   "execution_count": null,
   "id": "f8afd6ed",
   "metadata": {},
   "outputs": [],
   "source": []
  }
 ],
 "metadata": {
  "kernelspec": {
   "display_name": "Python 3 (ipykernel)",
   "language": "python",
   "name": "python3"
  },
  "language_info": {
   "codemirror_mode": {
    "name": "ipython",
    "version": 3
   },
   "file_extension": ".py",
   "mimetype": "text/x-python",
   "name": "python",
   "nbconvert_exporter": "python",
   "pygments_lexer": "ipython3",
   "version": "3.10.6"
  }
 },
 "nbformat": 4,
 "nbformat_minor": 5
}
