{
 "cells": [
  {
   "cell_type": "code",
   "execution_count": 1,
   "id": "4fd02423",
   "metadata": {},
   "outputs": [
    {
     "name": "stdout",
     "output_type": "stream",
     "text": [
      "Name: gensim\r\n",
      "Version: 3.6.0\r\n",
      "Summary: Python framework for fast Vector Space Modelling\r\n",
      "Home-page: http://radimrehurek.com/gensim\r\n",
      "Author: Radim Rehurek\r\n",
      "Author-email: me@radimrehurek.com\r\n",
      "License: LGPLv2.1\r\n",
      "Location: /home/fox/.local/lib/python3.10/site-packages\r\n",
      "Requires: numpy, scipy, six, smart-open\r\n",
      "Required-by: \r\n"
     ]
    }
   ],
   "source": [
    "!pip3 show gensim"
   ]
  },
  {
   "cell_type": "code",
   "execution_count": 12,
   "id": "2ab7a1af",
   "metadata": {},
   "outputs": [],
   "source": [
    "from gensim.models import Word2Vec\n",
    "from datetime import datetime\n",
    "import os\n",
    "import wget\n",
    "import numpy as np\n",
    "from collections import defaultdict\n",
    "from sklearn.decomposition import PCA\n",
    "import matplotlib.pyplot as plt\n",
    "from sklearn.preprocessing import StandardScaler\n",
    "from gensim.models import FastText\n",
    "import gzip\n",
    "from ipynb.fs.defs.functions_and_classes import Dataset, Datapoint\n",
    "from ipynb.fs.defs.functions_and_classes import build_dict_from_vector_file, display_embedding_properties, load_dataset_from_csv"
   ]
  },
  {
   "cell_type": "code",
   "execution_count": 3,
   "id": "63db9064",
   "metadata": {},
   "outputs": [],
   "source": [
    "#model = 'word2vec'\n",
    "#model = 'glove'\n",
    "model = 'fasttext'\n",
    "dim = 300\n",
    "language = 'he'"
   ]
  },
  {
   "cell_type": "markdown",
   "id": "df023eca",
   "metadata": {},
   "source": [
    "# Loading"
   ]
  },
  {
   "cell_type": "code",
   "execution_count": 4,
   "id": "5aad06a9",
   "metadata": {},
   "outputs": [],
   "source": []
  },
  {
   "cell_type": "code",
   "execution_count": 5,
   "id": "b7a4194b",
   "metadata": {},
   "outputs": [],
   "source": [
    "def build_dict_from_model(model, vocab):\n",
    "    \"\"\" For processing Word2Vec .model files. The .npy files are also needed. Works with gensim 3.6\"\"\"\n",
    "    embedding = defaultdict()\n",
    "    for word in list(vocab):\n",
    "        embedding[word] = model[word]\n",
    "    display_embedding_properties(embedding)\n",
    "    return embedding"
   ]
  },
  {
   "cell_type": "code",
   "execution_count": 6,
   "id": "4925871b",
   "metadata": {},
   "outputs": [],
   "source": [
    "def build_dict_from_vector_file(path_to_vecs, filename):\n",
    "    \"\"\" For processing GloVe .txt models. Might no longer be needed for newer versions of gensim,\n",
    "    as the gensim load_word2vec_format function can handle GloVe outputs as well\"\"\"\n",
    "    embedding = {}\n",
    "    if filename not in os.listdir(path_to_vecs):\n",
    "        print(f'File not found. Generate it using GloVe.')\n",
    "    with open(path_to_vecs+filename, 'r') as f:\n",
    "        f = f.read().split('\\n')\n",
    "        f = [l.split(' ') for l in f]\n",
    "        n_entries = len(f)\n",
    "        for i, l in enumerate(f):\n",
    "            w = l[0]\n",
    "            try:\n",
    "                v = np.array([float(x) for x in l[1:]])\n",
    "            except ValueError:\n",
    "                print(f'Line: {i}')\n",
    "                print(f'Word: {w}')\n",
    "                print(f'Vector: {l[1:]}')\n",
    "            embedding[w] = v\n",
    "            if (i % 50000 == 0):\n",
    "                print(f'Processed {i} / {n_entries} entries')\n",
    "    display_embedding_properties(embedding)\n",
    "    return embedding"
   ]
  },
  {
   "cell_type": "code",
   "execution_count": 7,
   "id": "77cad0c2",
   "metadata": {},
   "outputs": [
    {
     "name": "stdout",
     "output_type": "stream",
     "text": [
      "Loading started 2022-10-01 21:54:23\n",
      "Loading ended 2022-10-01 21:56:17\n",
      "Saving ended 2022-10-01 21:56:31\n",
      "Embedding entries: 2000000\n",
      "Embedding dimension: 300\n"
     ]
    }
   ],
   "source": [
    "if model == 'word2vec':\n",
    "    inp = f'word2vec_{dim}_{language}.model'\n",
    "    print(f'Loading started {datetime.now().strftime(\"%Y-%m-%d %H:%M:%S\")}')\n",
    "    m = Word2Vec.load(f'./models/raws/{inp}')\n",
    "    print(f'Loading ended {datetime.now().strftime(\"%Y-%m-%d %H:%M:%S\")}')\n",
    "    embedding = build_dict_from_model(m.wv, m.wv.vocab.keys())\n",
    "if model == 'glove':\n",
    "    inp = f'glove_{dim}_{language}_vectors.txt'\n",
    "    print(f'Loading started {datetime.now().strftime(\"%Y-%m-%d %H:%M:%S\")}')\n",
    "    embedding = build_dict_from_vector_file('./models/raws/', inp)\n",
    "    print(f'Loading ended {datetime.now().strftime(\"%Y-%m-%d %H:%M:%S\")}')\n",
    "if model == 'fasttext':\n",
    "    if 'cc.he.300.bin' not in os.listdir('./models/raws/'):\n",
    "        # We'll have to regenerate the model\n",
    "        if 'cc.he.300.bin.gz' not in os.listdir('./models/raws/'):\n",
    "        # We'll have to re-download the model\n",
    "            URL = 'https://dl.fbaipublicfiles.com/fasttext/vectors-crawl/cc.he.300.bin.gz'\n",
    "            response = wget.download(URL, './models/raws/cc.he.300.bin.gz')\n",
    "\n",
    "            # Extracting the archive\n",
    "            with gzip.open('cc.he.300.bin.gz', 'rb') as f_in:\n",
    "                with open('cc.he.300.bin', 'wb') as f_out:\n",
    "                    shutil.copyfileobj(f_in, f_out)\n",
    "            #!gzip -d cc.he.300.bin.gz\n",
    "\n",
    "        # Trick from https://vasnetsov93.medium.com/\n",
    "        #shrinking-fasttext-embeddings-so-that-it-fits-google-colab-cd59ab75959e\n",
    "    print(f'Loading started {datetime.now().strftime(\"%Y-%m-%d %H:%M:%S\")}')\n",
    "    m = FastText.load_fasttext_format('./models/raws/cc.he.300.bin')\n",
    "    print(f'Loading ended {datetime.now().strftime(\"%Y-%m-%d %H:%M:%S\")}')\n",
    "\n",
    "    # we are not saving trainables here\n",
    "    m.wv.save(f'./models/raws/fasttext_{dim}_{language}.model')\n",
    "    print(f'Saving ended {datetime.now().strftime(\"%Y-%m-%d %H:%M:%S\")}')\n",
    "\n",
    "    pretrained_embedding = build_dict_from_model(m.wv, m.wv.vocab.keys())"
   ]
  },
  {
   "cell_type": "markdown",
   "id": "e2541949",
   "metadata": {},
   "source": [
    "# Dataset adjustment"
   ]
  },
  {
   "cell_type": "code",
   "execution_count": 8,
   "id": "511b9bb5",
   "metadata": {},
   "outputs": [
    {
     "data": {
      "text/plain": [
       "\"dataset = [{'noun':'מחשב', 'denom':['למחשב',''], 'non_denom':['לחשב','להתחשב'], 'others':['לחשוב','להחשיב','להיחשב'], 'ambig_inflected':True, 'ambig_uninflected':True, 'ambig_with':'לחשב'},\\n           {'noun':'תחזוקה', 'denom':['לתחזק',''], 'non_denom':['לחזק','להתחזק'], 'others':['','להחזיק',''], 'ambig_inflected':False, 'ambig_uninflected':False, 'ambig_with':''},\\n           {'noun':'מחזור', 'denom':['למחזר',''], 'non_denom':['לחזר','להתחזר'], 'others':['לחזור','להחזיר',''], 'ambig_inflected':False, 'ambig_uninflected':False, 'ambig_with':''},\\n           {'noun':'חשבון', 'denom':['','להתחשבן'], 'non_denom':['לחשב','להתחשב'], 'others':['לחשוב','להחשיב','להיחשב'], 'ambig_inflected':False, 'ambig_uninflected':False, 'ambig_with':''},\\n           {'noun':'תקשורת', 'denom':['לתקשר',''], 'non_denom':['לקשר','להתקשר'], 'others':['לקשור','','להיקשר'], 'ambig_inflected':False, 'ambig_uninflected':False, 'ambig_with':''},\\n           {'noun':'תפקידים', 'denom':['לתפקד',''], 'non_denom':['לפקד','להתפקד'], 'others':['לפקוד','להפקיד','להיפקד'], 'ambig_inflected':False, 'ambig_uninflected':True, 'ambig_with':'להפקיד'},\\n           {'noun':'תרגילים', 'denom':['לתרגל',''], 'non_denom':['לרגל','להתרגל'], 'others':['','להרגיל',''], 'ambig_inflected':False, 'ambig_uninflected':True, 'ambig_with':'להרגיל'},\\n           {'noun':'פלצן', 'denom':['','להתפלצן'], 'non_denom':['','להתפלץ'], 'others':['','להפליץ',''], 'ambig_inflected':False, 'ambig_uninflected':False, 'ambig_with':''},\\n           {'noun':'תזמורת', 'denom':['לתזמר',''], 'non_denom':['לזמר',''], 'others':['','',''], 'ambig_inflected':False, 'ambig_uninflected':False, 'ambig_with':''},\\n           {'noun':'תזמון', 'denom':['לתזמן',''], 'non_denom':['לזמן','להזדמן'], 'others':['','להזמין',''], 'ambig_inflected':False, 'ambig_uninflected':False, 'ambig_with':''},\\n           {'noun':'סקרנים', 'denom':['לסקרן','להסתקרן'], 'non_denom':['לסקר',''], 'others':['לסקור','','להיסקר'], 'ambig_inflected':False, 'ambig_uninflected':True, 'ambig_with':'לסקרן'},\\n           {'noun':'תקציר', 'denom':['לתקצר',''], 'non_denom':['לקצר',''], 'others':['לקצור','להתקצר','להיקצר'], 'ambig_inflected':False, 'ambig_uninflected':False, 'ambig_with':''},\\n           {'noun':'מלכודת', 'denom':['למלכד',''], 'non_denom':['ללכד','להתלכד'], 'others':['ללכוד','','להילכד'], 'ambig_inflected':False, 'ambig_uninflected':False, 'ambig_with':''},\\n           {'noun':'אבטחה', 'denom':['לאבטח',''], 'non_denom':['לבטח',''], 'others':['לבטוח','להבטיח',''], 'ambig_inflected':True, 'ambig_uninflected':True, 'ambig_with':'לאבטח'},\\n           {'noun':'קמצן', 'denom':['','להתקמצן'], 'non_denom':['לקמץ',''], 'others':['','',''], 'ambig_inflected':False, 'ambig_uninflected':False, 'ambig_with':''},\\n           {'noun':'שלהבת', 'denom':['לשלהב','להשתלהב'], 'non_denom':['','להתלהב'], 'others':['','להלהיב',''], 'ambig_inflected':False, 'ambig_uninflected':False, 'ambig_with':''},\\n           {'noun':'עצבני', 'denom':['לעצבן','להתעצבן'], 'non_denom':['לעצב','להתעצב'], 'others':['','להעציב','להיעצב'], 'ambig_inflected':False, 'ambig_uninflected':False, 'ambig_with':''},\\n           {'noun':'מרכז', 'denom':['למרכז','להתמרכז'], 'non_denom':['לרכז','להתרכז'], 'others':['','',''], 'ambig_inflected':True, 'ambig_uninflected':True, 'ambig_with':'לרכז'},\\n           {'noun':'תסביך', 'denom':['לתסבך',''], 'non_denom':['לסבך','להסתבך'], 'others':['','',''], 'ambig_inflected':False, 'ambig_uninflected':False, 'ambig_with':''},\\n           {'noun':'מסגרת', 'denom':['למסגר',''], 'non_denom':['','להסתגר'], 'others':['לסגור','להסגיר','להיסגר'], 'ambig_inflected':False, 'ambig_uninflected':False, 'ambig_with':''},\\n           {'noun':'אכזבות', 'denom':['לאכזב','להתאכזב'], 'non_denom':['לכזב',''], 'others':['','להכזיב',''], 'ambig_inflected':False, 'ambig_uninflected':True, 'ambig_with':'לאכזב'},\\n           {'noun':'מסחר', 'denom':['','להתמסחר'], 'non_denom':['',''], 'others':['לסחור','','להיסחר'], 'ambig_inflected':False, 'ambig_uninflected':False, 'ambig_with':''},\\n           {'noun':'תעתיקים', 'denom':['לתעתק',''], 'non_denom':['',''], 'others':['','להעתיק',''], 'ambig_inflected':False, 'ambig_uninflected':True, 'ambig_with':'להעתיק'},\\n           {'noun':'תדריכים', 'denom':['לתדרך',''], 'non_denom':['',''], 'others':['לדרוך','להדריך','להידרך'], 'ambig_inflected':False, 'ambig_uninflected':True, 'ambig_with':'להדריך'},\\n           {'noun':'תמריצים', 'denom':['לתמרץ',''], 'non_denom':['',''], 'others':['','להמריץ',''], 'ambig_inflected':False, 'ambig_uninflected':True, 'ambig_with':'להמריץ'},\\n           {'noun':'תקציבים', 'denom':['לתקצב',''], 'non_denom':['',''], 'others':['לקצוב','להקציב','להיקצב'], 'ambig_inflected':False, 'ambig_uninflected':True, 'ambig_with':'להקציב'},\\n           {'noun':'תצפית', 'denom':['לתצפת',''], 'non_denom':['',''], 'others':['לצפות','',''], 'ambig_inflected':False, 'ambig_uninflected':False, 'ambig_with':''},\\n           {'noun':'אבחנות', 'denom':['לאבחן',''], 'non_denom':['',''], 'others':['לבחון','להבחין','להיבחן'], 'ambig_inflected':False, 'ambig_uninflected':True, 'ambig_with':'לאבחן'},\\n           {'noun':'תחקיר', 'denom':['לתחקר',''], 'non_denom':['',''], 'others':['לחקור','','להיחקר'], 'ambig_inflected':False, 'ambig_uninflected':False, 'ambig_with':''},\\n           {'noun':'תסריטים', 'denom':['לתסרט',''], 'non_denom':['',''], 'others':['','להסריט',''], 'ambig_inflected':False, 'ambig_uninflected':True, 'ambig_with':'להסריט'},\\n           {'noun':'תקליטים', 'denom':['לתקלט',''], 'non_denom':['',''], 'others':['לקלוט','להקליט','להיקלט'], 'ambig_inflected':False, 'ambig_uninflected':True, 'ambig_with':'להקליט'},\\n           {'noun':'אזכרות', 'denom':['לאזכר',''], 'non_denom':['',''], 'others':['לזכור','להזכיר','להיזכר'], 'ambig_inflected':False, 'ambig_uninflected':True, 'ambig_with':'לאזכר'},\\n           {'noun':'מספר', 'denom':['למספר',''], 'non_denom':['לספר','להסתפר'], 'others':['לספור','','להיספר'], 'ambig_inflected':True, 'ambig_uninflected':True, 'ambig_with':'לספר'},\\n           {'noun':'טרחנים', 'denom':['לטרחן',''], 'non_denom':['',''], 'others':['לטרוח','להטריח',''], 'ambig_inflected':False, 'ambig_uninflected':True, 'ambig_with':'לטרחן'},\\n           {'noun':'מרפק', 'denom':['למרפק',''], 'non_denom':['','להתרפק'], 'others':['','',''], 'ambig_inflected':False, 'ambig_uninflected':False, 'ambig_with':''},\\n           {'noun':'מסמר', 'denom':['למסמר',''], 'non_denom':['לסמר',''], 'others':['לסמור','',''], 'ambig_inflected':True, 'ambig_uninflected':True, 'ambig_with':'לסמר'},\\n           {'noun':'אזרחים', 'denom':['לאזרח','להתאזרח'], 'non_denom':['',''], 'others':['לזרוח','',''], 'ambig_inflected':False, 'ambig_uninflected':True, 'ambig_with':'לאזרח'},\\n           {'noun':'אגרופים', 'denom':['','להתאגרף'], 'non_denom':['',''], 'others':['לגרוף','','להיגרף'], 'ambig_inflected':False, 'ambig_uninflected':True, 'ambig_with':'לגרוף'},\\n           {'noun':'מסכן', 'denom':['למסכן','להתמסכן'], 'non_denom':['לסכן','להסתכן'], 'others':['','',''], 'ambig_inflected':True, 'ambig_uninflected':True, 'ambig_with':'לסכן'},\\n           {'noun':'תגמולים', 'denom':['לתגמל',''], 'non_denom':['','להיגמל'], 'others':['לגמול','','להיגמל'], 'ambig_inflected':False, 'ambig_uninflected':True, 'ambig_with':'לגמול'},\\n           {'noun':'חרבון', 'denom':['לחרבן','להתחרבן'], 'non_denom':['לחרב','להתחרב'], 'others':['','להחריב','להיחרב'], 'ambig_inflected':False, 'ambig_uninflected':False, 'ambig_with':''},\\n           {'noun':'צלחות', 'denom':['לצלחת',''], 'non_denom':['',''], 'others':['לצלוח','להצליח',''], 'ambig_inflected':False, 'ambig_uninflected':True, 'ambig_with':'לצלוח'},\\n           {'noun':'משכון', 'denom':['למשכן',''], 'non_denom':['לשכן','להשתכן'], 'others':['לשכון','להשכין',''], 'ambig_inflected':False, 'ambig_uninflected':False, 'ambig_with':''},\\n           {'noun':'תגבורת', 'denom':['לתגבר',''], 'non_denom':['','להתגבר'], 'others':['לגבור','להגביר',''], 'ambig_inflected':False, 'ambig_uninflected':False, 'ambig_with':''},\\n           {'noun':'מסמך', 'denom':['למסמך',''], 'non_denom':['','להסתמך'], 'others':['לסמוך','להסמיך',''], 'ambig_inflected':False, 'ambig_uninflected':False, 'ambig_with':''},\\n           {'noun':'תאריכים', 'denom':['לתארך',''], 'non_denom':['','להתארך'], 'others':['לארוך','להאריך',''], 'ambig_inflected':False, 'ambig_uninflected':True, 'ambig_with':'להאריך'},\\n           {'noun':'תכסיס', 'denom':['לתכסס',''], 'non_denom':['',''], 'others':['לכסוס','',''], 'ambig_inflected':False, 'ambig_uninflected':False, 'ambig_with':''},\\n           {'noun':'מזרח', 'denom':['','להתמזרח'], 'non_denom':['',''], 'others':['לזרוח','להזריח',''], 'ambig_inflected':False, 'ambig_uninflected':False, 'ambig_with':''},\\n           {'noun':'מערב', 'denom':['','להתמערב'], 'non_denom':['לערב','להתערב'], 'others':['לערוב','',''], 'ambig_inflected':False, 'ambig_uninflected':True, 'ambig_with':'לערב'},\\n           {'noun':'מקצוע', 'denom':['למקצע','להתמקצע'], 'non_denom':['',''], 'others':['לקצוע','',''], 'ambig_inflected':False, 'ambig_uninflected':False, 'ambig_with':''},\\n           {'noun':'תזכורת', 'denom':['לתזכר',''], 'non_denom':['',''], 'others':['לזכור','להזכיר','להיזכר'], 'ambig_inflected':False, 'ambig_uninflected':False, 'ambig_with':''},\\n           {'noun':'מגדרים', 'denom':['למגדר',''], 'non_denom':['לגדר',''], 'others':['','להגדיר',''], 'ambig_inflected':True, 'ambig_uninflected':True, 'ambig_with':'לגדר'},\\n           {'noun':'פרשנים', 'denom':['לפרשן','להתפרשן'], 'non_denom':['לפרש','להתפרש'], 'others':['לפרוש','להפריש',''], 'ambig_inflected':False, 'ambig_uninflected':True, 'ambig_with':'לפרשן'},\\n           {'noun':'קורבן', 'denom':['','להתקרבן'], 'non_denom':['','להתקרב'], 'others':['','להקריב',''], 'ambig_inflected':False, 'ambig_uninflected':False, 'ambig_with':''},\\n           {'noun':'חמצן', 'denom':['לחמצן','להתחמצן'], 'non_denom':['',''], 'others':['','להחמיץ','להיחמץ'], 'ambig_inflected':True, 'ambig_uninflected':True, 'ambig_with':'לחמצן'},]\""
      ]
     },
     "execution_count": 8,
     "metadata": {},
     "output_type": "execute_result"
    }
   ],
   "source": [
    "\"\"\"dataset = [{'noun':'מחשב', 'denom':['למחשב',''], 'non_denom':['לחשב','להתחשב'], 'others':['לחשוב','להחשיב','להיחשב'], 'ambig_inflected':True, 'ambig_uninflected':True, 'ambig_with':'לחשב'},\n",
    "           {'noun':'תחזוקה', 'denom':['לתחזק',''], 'non_denom':['לחזק','להתחזק'], 'others':['','להחזיק',''], 'ambig_inflected':False, 'ambig_uninflected':False, 'ambig_with':''},\n",
    "           {'noun':'מחזור', 'denom':['למחזר',''], 'non_denom':['לחזר','להתחזר'], 'others':['לחזור','להחזיר',''], 'ambig_inflected':False, 'ambig_uninflected':False, 'ambig_with':''},\n",
    "           {'noun':'חשבון', 'denom':['','להתחשבן'], 'non_denom':['לחשב','להתחשב'], 'others':['לחשוב','להחשיב','להיחשב'], 'ambig_inflected':False, 'ambig_uninflected':False, 'ambig_with':''},\n",
    "           {'noun':'תקשורת', 'denom':['לתקשר',''], 'non_denom':['לקשר','להתקשר'], 'others':['לקשור','','להיקשר'], 'ambig_inflected':False, 'ambig_uninflected':False, 'ambig_with':''},\n",
    "           {'noun':'תפקידים', 'denom':['לתפקד',''], 'non_denom':['לפקד','להתפקד'], 'others':['לפקוד','להפקיד','להיפקד'], 'ambig_inflected':False, 'ambig_uninflected':True, 'ambig_with':'להפקיד'},\n",
    "           {'noun':'תרגילים', 'denom':['לתרגל',''], 'non_denom':['לרגל','להתרגל'], 'others':['','להרגיל',''], 'ambig_inflected':False, 'ambig_uninflected':True, 'ambig_with':'להרגיל'},\n",
    "           {'noun':'פלצן', 'denom':['','להתפלצן'], 'non_denom':['','להתפלץ'], 'others':['','להפליץ',''], 'ambig_inflected':False, 'ambig_uninflected':False, 'ambig_with':''},\n",
    "           {'noun':'תזמורת', 'denom':['לתזמר',''], 'non_denom':['לזמר',''], 'others':['','',''], 'ambig_inflected':False, 'ambig_uninflected':False, 'ambig_with':''},\n",
    "           {'noun':'תזמון', 'denom':['לתזמן',''], 'non_denom':['לזמן','להזדמן'], 'others':['','להזמין',''], 'ambig_inflected':False, 'ambig_uninflected':False, 'ambig_with':''},\n",
    "           {'noun':'סקרנים', 'denom':['לסקרן','להסתקרן'], 'non_denom':['לסקר',''], 'others':['לסקור','','להיסקר'], 'ambig_inflected':False, 'ambig_uninflected':True, 'ambig_with':'לסקרן'},\n",
    "           {'noun':'תקציר', 'denom':['לתקצר',''], 'non_denom':['לקצר',''], 'others':['לקצור','להתקצר','להיקצר'], 'ambig_inflected':False, 'ambig_uninflected':False, 'ambig_with':''},\n",
    "           {'noun':'מלכודת', 'denom':['למלכד',''], 'non_denom':['ללכד','להתלכד'], 'others':['ללכוד','','להילכד'], 'ambig_inflected':False, 'ambig_uninflected':False, 'ambig_with':''},\n",
    "           {'noun':'אבטחה', 'denom':['לאבטח',''], 'non_denom':['לבטח',''], 'others':['לבטוח','להבטיח',''], 'ambig_inflected':True, 'ambig_uninflected':True, 'ambig_with':'לאבטח'},\n",
    "           {'noun':'קמצן', 'denom':['','להתקמצן'], 'non_denom':['לקמץ',''], 'others':['','',''], 'ambig_inflected':False, 'ambig_uninflected':False, 'ambig_with':''},\n",
    "           {'noun':'שלהבת', 'denom':['לשלהב','להשתלהב'], 'non_denom':['','להתלהב'], 'others':['','להלהיב',''], 'ambig_inflected':False, 'ambig_uninflected':False, 'ambig_with':''},\n",
    "           {'noun':'עצבני', 'denom':['לעצבן','להתעצבן'], 'non_denom':['לעצב','להתעצב'], 'others':['','להעציב','להיעצב'], 'ambig_inflected':False, 'ambig_uninflected':False, 'ambig_with':''},\n",
    "           {'noun':'מרכז', 'denom':['למרכז','להתמרכז'], 'non_denom':['לרכז','להתרכז'], 'others':['','',''], 'ambig_inflected':True, 'ambig_uninflected':True, 'ambig_with':'לרכז'},\n",
    "           {'noun':'תסביך', 'denom':['לתסבך',''], 'non_denom':['לסבך','להסתבך'], 'others':['','',''], 'ambig_inflected':False, 'ambig_uninflected':False, 'ambig_with':''},\n",
    "           {'noun':'מסגרת', 'denom':['למסגר',''], 'non_denom':['','להסתגר'], 'others':['לסגור','להסגיר','להיסגר'], 'ambig_inflected':False, 'ambig_uninflected':False, 'ambig_with':''},\n",
    "           {'noun':'אכזבות', 'denom':['לאכזב','להתאכזב'], 'non_denom':['לכזב',''], 'others':['','להכזיב',''], 'ambig_inflected':False, 'ambig_uninflected':True, 'ambig_with':'לאכזב'},\n",
    "           {'noun':'מסחר', 'denom':['','להתמסחר'], 'non_denom':['',''], 'others':['לסחור','','להיסחר'], 'ambig_inflected':False, 'ambig_uninflected':False, 'ambig_with':''},\n",
    "           {'noun':'תעתיקים', 'denom':['לתעתק',''], 'non_denom':['',''], 'others':['','להעתיק',''], 'ambig_inflected':False, 'ambig_uninflected':True, 'ambig_with':'להעתיק'},\n",
    "           {'noun':'תדריכים', 'denom':['לתדרך',''], 'non_denom':['',''], 'others':['לדרוך','להדריך','להידרך'], 'ambig_inflected':False, 'ambig_uninflected':True, 'ambig_with':'להדריך'},\n",
    "           {'noun':'תמריצים', 'denom':['לתמרץ',''], 'non_denom':['',''], 'others':['','להמריץ',''], 'ambig_inflected':False, 'ambig_uninflected':True, 'ambig_with':'להמריץ'},\n",
    "           {'noun':'תקציבים', 'denom':['לתקצב',''], 'non_denom':['',''], 'others':['לקצוב','להקציב','להיקצב'], 'ambig_inflected':False, 'ambig_uninflected':True, 'ambig_with':'להקציב'},\n",
    "           {'noun':'תצפית', 'denom':['לתצפת',''], 'non_denom':['',''], 'others':['לצפות','',''], 'ambig_inflected':False, 'ambig_uninflected':False, 'ambig_with':''},\n",
    "           {'noun':'אבחנות', 'denom':['לאבחן',''], 'non_denom':['',''], 'others':['לבחון','להבחין','להיבחן'], 'ambig_inflected':False, 'ambig_uninflected':True, 'ambig_with':'לאבחן'},\n",
    "           {'noun':'תחקיר', 'denom':['לתחקר',''], 'non_denom':['',''], 'others':['לחקור','','להיחקר'], 'ambig_inflected':False, 'ambig_uninflected':False, 'ambig_with':''},\n",
    "           {'noun':'תסריטים', 'denom':['לתסרט',''], 'non_denom':['',''], 'others':['','להסריט',''], 'ambig_inflected':False, 'ambig_uninflected':True, 'ambig_with':'להסריט'},\n",
    "           {'noun':'תקליטים', 'denom':['לתקלט',''], 'non_denom':['',''], 'others':['לקלוט','להקליט','להיקלט'], 'ambig_inflected':False, 'ambig_uninflected':True, 'ambig_with':'להקליט'},\n",
    "           {'noun':'אזכרות', 'denom':['לאזכר',''], 'non_denom':['',''], 'others':['לזכור','להזכיר','להיזכר'], 'ambig_inflected':False, 'ambig_uninflected':True, 'ambig_with':'לאזכר'},\n",
    "           {'noun':'מספר', 'denom':['למספר',''], 'non_denom':['לספר','להסתפר'], 'others':['לספור','','להיספר'], 'ambig_inflected':True, 'ambig_uninflected':True, 'ambig_with':'לספר'},\n",
    "           {'noun':'טרחנים', 'denom':['לטרחן',''], 'non_denom':['',''], 'others':['לטרוח','להטריח',''], 'ambig_inflected':False, 'ambig_uninflected':True, 'ambig_with':'לטרחן'},\n",
    "           {'noun':'מרפק', 'denom':['למרפק',''], 'non_denom':['','להתרפק'], 'others':['','',''], 'ambig_inflected':False, 'ambig_uninflected':False, 'ambig_with':''},\n",
    "           {'noun':'מסמר', 'denom':['למסמר',''], 'non_denom':['לסמר',''], 'others':['לסמור','',''], 'ambig_inflected':True, 'ambig_uninflected':True, 'ambig_with':'לסמר'},\n",
    "           {'noun':'אזרחים', 'denom':['לאזרח','להתאזרח'], 'non_denom':['',''], 'others':['לזרוח','',''], 'ambig_inflected':False, 'ambig_uninflected':True, 'ambig_with':'לאזרח'},\n",
    "           {'noun':'אגרופים', 'denom':['','להתאגרף'], 'non_denom':['',''], 'others':['לגרוף','','להיגרף'], 'ambig_inflected':False, 'ambig_uninflected':True, 'ambig_with':'לגרוף'},\n",
    "           {'noun':'מסכן', 'denom':['למסכן','להתמסכן'], 'non_denom':['לסכן','להסתכן'], 'others':['','',''], 'ambig_inflected':True, 'ambig_uninflected':True, 'ambig_with':'לסכן'},\n",
    "           {'noun':'תגמולים', 'denom':['לתגמל',''], 'non_denom':['','להיגמל'], 'others':['לגמול','','להיגמל'], 'ambig_inflected':False, 'ambig_uninflected':True, 'ambig_with':'לגמול'},\n",
    "           {'noun':'חרבון', 'denom':['לחרבן','להתחרבן'], 'non_denom':['לחרב','להתחרב'], 'others':['','להחריב','להיחרב'], 'ambig_inflected':False, 'ambig_uninflected':False, 'ambig_with':''},\n",
    "           {'noun':'צלחות', 'denom':['לצלחת',''], 'non_denom':['',''], 'others':['לצלוח','להצליח',''], 'ambig_inflected':False, 'ambig_uninflected':True, 'ambig_with':'לצלוח'},\n",
    "           {'noun':'משכון', 'denom':['למשכן',''], 'non_denom':['לשכן','להשתכן'], 'others':['לשכון','להשכין',''], 'ambig_inflected':False, 'ambig_uninflected':False, 'ambig_with':''},\n",
    "           {'noun':'תגבורת', 'denom':['לתגבר',''], 'non_denom':['','להתגבר'], 'others':['לגבור','להגביר',''], 'ambig_inflected':False, 'ambig_uninflected':False, 'ambig_with':''},\n",
    "           {'noun':'מסמך', 'denom':['למסמך',''], 'non_denom':['','להסתמך'], 'others':['לסמוך','להסמיך',''], 'ambig_inflected':False, 'ambig_uninflected':False, 'ambig_with':''},\n",
    "           {'noun':'תאריכים', 'denom':['לתארך',''], 'non_denom':['','להתארך'], 'others':['לארוך','להאריך',''], 'ambig_inflected':False, 'ambig_uninflected':True, 'ambig_with':'להאריך'},\n",
    "           {'noun':'תכסיס', 'denom':['לתכסס',''], 'non_denom':['',''], 'others':['לכסוס','',''], 'ambig_inflected':False, 'ambig_uninflected':False, 'ambig_with':''},\n",
    "           {'noun':'מזרח', 'denom':['','להתמזרח'], 'non_denom':['',''], 'others':['לזרוח','להזריח',''], 'ambig_inflected':False, 'ambig_uninflected':False, 'ambig_with':''},\n",
    "           {'noun':'מערב', 'denom':['','להתמערב'], 'non_denom':['לערב','להתערב'], 'others':['לערוב','',''], 'ambig_inflected':False, 'ambig_uninflected':True, 'ambig_with':'לערב'},\n",
    "           {'noun':'מקצוע', 'denom':['למקצע','להתמקצע'], 'non_denom':['',''], 'others':['לקצוע','',''], 'ambig_inflected':False, 'ambig_uninflected':False, 'ambig_with':''},\n",
    "           {'noun':'תזכורת', 'denom':['לתזכר',''], 'non_denom':['',''], 'others':['לזכור','להזכיר','להיזכר'], 'ambig_inflected':False, 'ambig_uninflected':False, 'ambig_with':''},\n",
    "           {'noun':'מגדרים', 'denom':['למגדר',''], 'non_denom':['לגדר',''], 'others':['','להגדיר',''], 'ambig_inflected':True, 'ambig_uninflected':True, 'ambig_with':'לגדר'},\n",
    "           {'noun':'פרשנים', 'denom':['לפרשן','להתפרשן'], 'non_denom':['לפרש','להתפרש'], 'others':['לפרוש','להפריש',''], 'ambig_inflected':False, 'ambig_uninflected':True, 'ambig_with':'לפרשן'},\n",
    "           {'noun':'קורבן', 'denom':['','להתקרבן'], 'non_denom':['','להתקרב'], 'others':['','להקריב',''], 'ambig_inflected':False, 'ambig_uninflected':False, 'ambig_with':''},\n",
    "           {'noun':'חמצן', 'denom':['לחמצן','להתחמצן'], 'non_denom':['',''], 'others':['','להחמיץ','להיחמץ'], 'ambig_inflected':True, 'ambig_uninflected':True, 'ambig_with':'לחמצן'},]\"\"\""
   ]
  },
  {
   "cell_type": "code",
   "execution_count": 9,
   "id": "1f1bfb7e",
   "metadata": {},
   "outputs": [
    {
     "data": {
      "text/plain": [
       "\"with open('./hebrew dataset/definitive_dataset.csv' ,'w') as f:\\n    f.write('Noun,Denominal(s),Non-denominal(s),Other(s)\\n')\\n    for dp in dataset:\\n        n = dp['noun']\\n        dns = dp['denom']\\n        dns = [dn for dn in dns if dn != '']\\n        dns = ' '.join(dns)\\n        ndns = dp['non_denom']\\n        ndns = [ndn for ndn in ndns if ndn != '']\\n        ndns = ' '.join(ndns)\\n        others = dp['others']\\n        others = [other for other in others if other != '']\\n        others = ' '.join(others)\\n        print(dns)\\n        print(ndns)\\n        print(others)\\n        f.write(f'{n},{dns},{ndns},{others}\\n')\""
      ]
     },
     "execution_count": 9,
     "metadata": {},
     "output_type": "execute_result"
    }
   ],
   "source": [
    "\"\"\"with open('./hebrew dataset/definitive_dataset.csv' ,'w') as f:\n",
    "    f.write('Noun,Denominal(s),Non-denominal(s),Other(s)\\n')\n",
    "    for dp in dataset:\n",
    "        n = dp['noun']\n",
    "        dns = dp['denom']\n",
    "        dns = [dn for dn in dns if dn != '']\n",
    "        dns = ' '.join(dns)\n",
    "        ndns = dp['non_denom']\n",
    "        ndns = [ndn for ndn in ndns if ndn != '']\n",
    "        ndns = ' '.join(ndns)\n",
    "        others = dp['others']\n",
    "        others = [other for other in others if other != '']\n",
    "        others = ' '.join(others)\n",
    "        print(dns)\n",
    "        print(ndns)\n",
    "        print(others)\n",
    "        f.write(f'{n},{dns},{ndns},{others}\\n')\"\"\""
   ]
  },
  {
   "cell_type": "code",
   "execution_count": null,
   "id": "63a1a73d",
   "metadata": {},
   "outputs": [],
   "source": [
    "\n",
    "\n",
    "        \n",
    "        "
   ]
  },
  {
   "cell_type": "code",
   "execution_count": null,
   "id": "28a1df4d",
   "metadata": {},
   "outputs": [],
   "source": []
  },
  {
   "cell_type": "code",
   "execution_count": 10,
   "id": "5b85d4f5",
   "metadata": {},
   "outputs": [
    {
     "ename": "NameError",
     "evalue": "name 'load_dataset_from_csv' is not defined",
     "output_type": "error",
     "traceback": [
      "\u001b[0;31m---------------------------------------------------------------------------\u001b[0m",
      "\u001b[0;31mNameError\u001b[0m                                 Traceback (most recent call last)",
      "Cell \u001b[0;32mIn [10], line 1\u001b[0m\n\u001b[0;32m----> 1\u001b[0m dataset \u001b[38;5;241m=\u001b[39m load_dataset_from_csv(\u001b[38;5;124m'\u001b[39m\u001b[38;5;124m./hebrew dataset/definitive_dataset.csv\u001b[39m\u001b[38;5;124m'\u001b[39m)\n",
      "\u001b[0;31mNameError\u001b[0m: name 'load_dataset_from_csv' is not defined"
     ]
    }
   ],
   "source": [
    "dataset = load_dataset_from_csv('./hebrew dataset/definitive_dataset.csv')"
   ]
  },
  {
   "cell_type": "code",
   "execution_count": null,
   "id": "38fd058d",
   "metadata": {},
   "outputs": [],
   "source": [
    "dataset.display_content()"
   ]
  },
  {
   "cell_type": "code",
   "execution_count": 11,
   "id": "ca3b7064",
   "metadata": {},
   "outputs": [
    {
     "ename": "NameError",
     "evalue": "name 'dataset' is not defined",
     "output_type": "error",
     "traceback": [
      "\u001b[0;31m---------------------------------------------------------------------------\u001b[0m",
      "\u001b[0;31mNameError\u001b[0m                                 Traceback (most recent call last)",
      "Cell \u001b[0;32mIn [11], line 1\u001b[0m\n\u001b[0;32m----> 1\u001b[0m dataset\u001b[38;5;241m.\u001b[39mfilter_against_embedding(embedding)\n",
      "\u001b[0;31mNameError\u001b[0m: name 'dataset' is not defined"
     ]
    }
   ],
   "source": [
    "dataset.filter_against_embedding(embedding)"
   ]
  },
  {
   "cell_type": "code",
   "execution_count": null,
   "id": "7a281772",
   "metadata": {},
   "outputs": [],
   "source": [
    "triplets = dataset.get_triplets()\n",
    "lexicon = dataset.get_lexicon()\n",
    "vecs = dataset.get_vecs(embedding)"
   ]
  },
  {
   "cell_type": "markdown",
   "id": "f6ed992e",
   "metadata": {},
   "source": [
    "# Reduction"
   ]
  },
  {
   "cell_type": "code",
   "execution_count": null,
   "id": "afbf8714",
   "metadata": {},
   "outputs": [],
   "source": [
    "def get_target_dim(vecs):\n",
    "    cov_matrix = np.cov(vecs.T)\n",
    "    eigenvalues, _ = np.linalg.eig(cov_matrix)\n",
    "    target_dim = len([ev for ev in eigenvalues if ev >= 1])\n",
    "    return target_dim\n",
    "    \n",
    "def reduce_dim(words, vecs):\n",
    "    target_dim = get_target_dim(vecs)\n",
    "    pca = PCA(n_components=target_dim)\n",
    "    all_vecs_reduced = pca.fit_transform(vecs)\n",
    "    print(f'Initial dimension: {len(vecs[0])}')\n",
    "    print(f'Final dimension: {pca.n_components_}')\n",
    "    print(f'Explained variance: {np.sum(pca.explained_variance_ratio_)}')\n",
    "    plt.plot(pca.explained_variance_ratio_)\n",
    "    plt.title('Explained variance ratio for each component of the PCA \\n (sorted from most significant to least significant)')\n",
    "    plt.show()\n",
    "    plt.plot(np.cumsum(pca.explained_variance_ratio_))\n",
    "    plt.title('Cumulative sum of the explained variance ratios of the PCA')\n",
    "    plt.show()\n",
    "    \n",
    "    return dict(zip(words, all_vecs_reduced))"
   ]
  },
  {
   "cell_type": "code",
   "execution_count": null,
   "id": "7af1fd62",
   "metadata": {},
   "outputs": [],
   "source": [
    "reduced_embedding = reduce_dim(lexicon, vecs)"
   ]
  },
  {
   "cell_type": "markdown",
   "id": "6f4bc986",
   "metadata": {},
   "source": [
    "# Save"
   ]
  },
  {
   "cell_type": "code",
   "execution_count": null,
   "id": "3f55f7ff",
   "metadata": {},
   "outputs": [],
   "source": [
    "def write_dict_to_vector_file(embedding):\n",
    "    fname = f'{model}_{dim}_{language}_vectors_reduced.txt'\n",
    "    with open(f'./models/reduced/{fname}', 'w') as f:\n",
    "        for w, v in embedding.items():\n",
    "            l = f'{w} '\n",
    "            for x in v:\n",
    "                l = l+f'{str(x)} '\n",
    "            l = l[:-1]+'\\n'\n",
    "            f.write(l)"
   ]
  },
  {
   "cell_type": "code",
   "execution_count": null,
   "id": "1fd7f195",
   "metadata": {},
   "outputs": [],
   "source": [
    "write_dict_to_vector_file(reduced_embedding)"
   ]
  },
  {
   "cell_type": "code",
   "execution_count": null,
   "id": "45a638c0",
   "metadata": {},
   "outputs": [],
   "source": []
  },
  {
   "cell_type": "code",
   "execution_count": null,
   "id": "3e10d3cf",
   "metadata": {},
   "outputs": [],
   "source": []
  },
  {
   "cell_type": "code",
   "execution_count": null,
   "id": "2cc86825",
   "metadata": {},
   "outputs": [],
   "source": []
  },
  {
   "cell_type": "code",
   "execution_count": null,
   "id": "f8afd6ed",
   "metadata": {},
   "outputs": [],
   "source": []
  }
 ],
 "metadata": {
  "kernelspec": {
   "display_name": "Python 3 (ipykernel)",
   "language": "python",
   "name": "python3"
  },
  "language_info": {
   "codemirror_mode": {
    "name": "ipython",
    "version": 3
   },
   "file_extension": ".py",
   "mimetype": "text/x-python",
   "name": "python",
   "nbconvert_exporter": "python",
   "pygments_lexer": "ipython3",
   "version": "3.10.6"
  }
 },
 "nbformat": 4,
 "nbformat_minor": 5
}
