{
 "cells": [
  {
   "cell_type": "code",
   "execution_count": 92,
   "id": "306da2bb",
   "metadata": {},
   "outputs": [
    {
     "name": "stdout",
     "output_type": "stream",
     "text": [
      "Defaulting to user installation because normal site-packages is not writeable\n",
      "Requirement already satisfied: english-words in /home/fox/.local/lib/python3.10/site-packages (1.1.0)\n",
      "Defaulting to user installation because normal site-packages is not writeable\n",
      "Requirement already satisfied: nltk in /home/fox/.local/lib/python3.10/site-packages (3.7)\n",
      "Requirement already satisfied: tqdm in /home/fox/.local/lib/python3.10/site-packages (from nltk) (4.64.1)\n",
      "Requirement already satisfied: regex>=2021.8.3 in /home/fox/.local/lib/python3.10/site-packages (from nltk) (2022.9.13)\n",
      "Requirement already satisfied: click in /usr/lib/python3/dist-packages (from nltk) (8.0.3)\n",
      "Requirement already satisfied: joblib in /home/fox/.local/lib/python3.10/site-packages (from nltk) (1.2.0)\n",
      "Defaulting to user installation because normal site-packages is not writeable\n",
      "Requirement already satisfied: editdistance in /home/fox/.local/lib/python3.10/site-packages (0.6.0)\n"
     ]
    }
   ],
   "source": [
    "!pip3 install english-words\n",
    "!pip3 install nltk\n",
    "!pip3 install editdistance"
   ]
  },
  {
   "cell_type": "code",
   "execution_count": 115,
   "id": "7544327c",
   "metadata": {},
   "outputs": [
    {
     "name": "stderr",
     "output_type": "stream",
     "text": [
      "[nltk_data] Downloading package words to /home/fox/nltk_data...\n",
      "[nltk_data]   Package words is already up-to-date!\n",
      "[nltk_data] Downloading package averaged_perceptron_tagger to\n",
      "[nltk_data]     /home/fox/nltk_data...\n",
      "[nltk_data]   Package averaged_perceptron_tagger is already up-to-\n",
      "[nltk_data]       date!\n",
      "[nltk_data] Downloading package brown to /home/fox/nltk_data...\n",
      "[nltk_data]   Package brown is already up-to-date!\n"
     ]
    }
   ],
   "source": [
    "from english_words import english_words_set\n",
    "\n",
    "import nltk\n",
    "nltk.download('words')\n",
    "nltk.download('averaged_perceptron_tagger')\n",
    "nltk.download('brown')\n",
    "from nltk.corpus import words\n",
    "import editdistance\n",
    "import random"
   ]
  },
  {
   "cell_type": "code",
   "execution_count": 116,
   "id": "78ee7104",
   "metadata": {},
   "outputs": [],
   "source": [
    "suffix_pair = ['ity', 'ness']\n",
    "suffix_pair = ['al', 'less']\n",
    "suff1, suff2 = suffix_pair\n"
   ]
  },
  {
   "cell_type": "code",
   "execution_count": 117,
   "id": "927f94fb",
   "metadata": {},
   "outputs": [
    {
     "name": "stdout",
     "output_type": "stream",
     "text": [
      "Length of the NLTK lexicon: 236736\n",
      "Length of the english-words lexicon: 25487\n",
      "Length of both together if they were disjoint: 262223\n",
      "Length of both together, filtered for duplicates: 240788\n"
     ]
    }
   ],
   "source": [
    "lexicon = words.words()\n",
    "print(f'Length of the NLTK lexicon: {len(lexicon)}')\n",
    "print(f'Length of the english-words lexicon: {len(english_words_set)}')\n",
    "print(f'Length of both together if they were disjoint: {len(lexicon)+len(english_words_set)}')\n",
    "lexicon = lexicon+list(english_words_set)\n",
    "lexicon = list(dict.fromkeys(lexicon))\n",
    "print(f'Length of both together, filtered for duplicates: {len(lexicon)}')"
   ]
  },
  {
   "cell_type": "code",
   "execution_count": 118,
   "id": "92ad403b",
   "metadata": {},
   "outputs": [
    {
     "name": "stdout",
     "output_type": "stream",
     "text": [
      "al\n"
     ]
    }
   ],
   "source": [
    "print(suff1)\n",
    "\n",
    "def produce_tentative_triplets(suff1, suff2, lexicon):\n",
    "    roots = []\n",
    "    suff1_items = []\n",
    "    suff2_items = []\n",
    "    triplets = []\n",
    "    for w in lexicon:\n",
    "        if w[-len(suff2):] == suff2:\n",
    "            suff2_items.append(w)\n",
    "\n",
    "    tentative_roots = [w[:-len(suff2)] for w in suff2_items if len(w[:-len(suff2)]) >= 3]\n",
    "\n",
    "    for w in lexicon:\n",
    "        if w[-len(suff1):] == suff1:\n",
    "            r1 = w[:-len(suff1)]\n",
    "            for i, r2 in enumerate(tentative_roots):\n",
    "                if r1 == r2:\n",
    "                    triplets.append([r2, r1+suff1, r2+suff2])\n",
    "                else:\n",
    "                    k = min(len(r1), len(r2))\n",
    "                    reduced_r1 = r1[:k-2]\n",
    "                    reduced_r2 = r2[:k-2]\n",
    "                    tail_r1 = r1[k-2:]\n",
    "                    tail_r2 = r2[k-2:]\n",
    "                    if len(reduced_r1) >= 2 and  reduced_r1 == reduced_r2 and editdistance.eval(tail_r1, tail_r2) <= 1:\n",
    "                        triplets.append([r2, r1+suff1, r2+suff2])\n",
    "    return triplets"
   ]
  },
  {
   "cell_type": "code",
   "execution_count": 119,
   "id": "67f549f2",
   "metadata": {},
   "outputs": [
    {
     "data": {
      "text/plain": [
       "555"
      ]
     },
     "execution_count": 119,
     "metadata": {},
     "output_type": "execute_result"
    }
   ],
   "source": [
    "triplets = produce_tentative_triplets(suff1, suff2, lexicon)\n",
    "len(triplets)"
   ]
  },
  {
   "cell_type": "code",
   "execution_count": 107,
   "id": "0c804232",
   "metadata": {},
   "outputs": [],
   "source": [
    "def write_triplets_to_csv(suff1, suff2, triplets):\n",
    "    fname = f'{suff1}_{suff2}_dataset.csv'\n",
    "    with open(f'./datasets/en/{fname}', 'w') as f:\n",
    "        for t in triplets:\n",
    "            f.write(f'{t[0]},{t[1]},{t[2]}\\n')        "
   ]
  },
  {
   "cell_type": "code",
   "execution_count": 108,
   "id": "a3557500",
   "metadata": {},
   "outputs": [],
   "source": [
    "write_triplets_to_csv(suff1, suff2, triplets)"
   ]
  },
  {
   "cell_type": "code",
   "execution_count": 109,
   "id": "8fe8b111",
   "metadata": {},
   "outputs": [
    {
     "name": "stdout",
     "output_type": "stream",
     "text": [
      "[['abnormal', 'abnormality', 'abnormalness'], ['absorptive', 'absorptivity', 'absorptiveness'], ['abstruse', 'abstrusity', 'abstruseness'], ['absurd', 'absurdity', 'absurdness'], ['accidental', 'accidentality', 'accidentalness'], ['accidental', 'accidentiality', 'accidentalness'], ['acid', 'acidity', 'acidness'], ['acrid', 'acidity', 'acridness'], ['acid', 'acridity', 'acidness'], ['acrid', 'acridity', 'acridness'], ['active', 'activity', 'activeness'], ['actual', 'actuality', 'actualness'], ['adipose', 'adiposity', 'adiposeness'], ['adverse', 'adversity', 'adverseness'], ['aerial', 'aeriality', 'aerialness'], ['agile', 'agility', 'agileness'], ['alderma', 'aldermanity', 'aldermaness'], ['algid', 'algidity', 'algidness'], ['alternative', 'alternativity', 'alternativeness'], ['ambagious', 'ambagiosity', 'ambagiousness'], ['amorous', 'amorosity', 'amorousness'], ['anfractuous', 'anfractuosity', 'anfractuousness'], ['angular', 'angularity', 'angularness'], ['anile', 'anility', 'anileness'], ['anterior', 'anteriority', 'anteriorness'], ['antique', 'antiquity', 'antiqueness'], ['arch', 'archcity', 'archness'], ['arid', 'aridity', 'aridness'], ['artificial', 'artificiality', 'artificialness'], ['attractive', 'attractivity', 'attractiveness'], ['austere', 'austerity', 'austereness'], ['authentic', 'authenticity', 'authenticness'], ['bellicose', 'bellicosity', 'bellicoseness'], ['between', 'betweenity', 'betweenness'], ['bibulous', 'bibulosity', 'bibulousness'], ['bilateral', 'bilaterality', 'bilateralness'], ['bien', 'biunity', 'bienness'], ['calm', 'calamity', 'calmness'], ['callid', 'calidity', 'callidness'], ['callid', 'callidity', 'callidness'], ['callous', 'callosity', 'callousness'], ['callow', 'callosity', 'callowness'], ['calm', 'calvity', 'calmness'], ['capillari', 'capillarity', 'capillariness'], ['carious', 'cariosity', 'cariousness'], ['carnal', 'carnality', 'carnalness'], ['casual', 'casuality', 'casualness'], ['catholic', 'catholicity', 'catholicness'], ['causative', 'causativity', 'causativeness'], ['caustic', 'causticity', 'causticness'], ['celestial', 'celestiality', 'celestialness'], ['central', 'centrality', 'centralness'], ['centrical', 'centricality', 'centricalness'], ['chari', 'charity', 'chariness'], ['chaste', 'chastity', 'chasteness'], ['Christian', 'Christianity', 'Christianness'], ['circular', 'circularity', 'circularness'], ['circumstantial', 'circumstantiality', 'circumstantialness'], ['civil', 'civility', 'civilness'], ['clandestine', 'clandestinity', 'clandestineness'], ['clear', 'clarity', 'clearness'], ['classical', 'classicality', 'classicalness'], ['coequal', 'coequality', 'coequalness'], ['coercive', 'coercivity', 'coerciveness'], ['coessential', 'coessentiality', 'coessentialness'], ['cogitative', 'cogitativity', 'cogitativeness'], ['collateral', 'collaterality', 'collateralness'], ['collective', 'collectivity', 'collectiveness'], ['colloquial', 'colloquiality', 'colloquialness'], ['comatose', 'comatosity', 'comatoseness'], ['combative', 'combativity', 'combativeness'], ['comical', 'comicality', 'comicalness'], ['common', 'commodity', 'commonness'], ['common', 'community', 'commonness'], ['complex', 'complexity', 'complexness'], ['concave', 'concavity', 'concaveness'], ['condig', 'condignity', 'condigness'], ['confidential', 'confidentiality', 'confidentialness'], ['congenial', 'congeniality', 'congenialness'], ['congenital', 'congeniality', 'congenitalness'], ['conical', 'conicality', 'conicalness'], ['connatural', 'connaturality', 'connaturalness'], ['consequential', 'consequentiality', 'consequentialness'], ['consumptive', 'consumptivity', 'consumptiveness'], ['contagious', 'contagiosity', 'contagiousness'], ['continual', 'continuality', 'continualness'], ['convex', 'convexity', 'convexness'], ['copious', 'copiosity', 'copiousness'], ['cordial', 'cordiality', 'cordialness'], ['corporeal', 'corporality', 'corporealness'], ['corporeal', 'corporeality', 'corporealness'], ['correlative', 'correlativity', 'correlativeness'], ['corrosive', 'corrosivity', 'corrosiveness'], ['creative', 'creativity', 'creativeness'], ['criminal', 'criminality', 'criminalness'], ['critical', 'criticality', 'criticalness'], ['crude', 'crudity', 'crudeness'], ['curious', 'curiosity', 'curiousness'], ['curt', 'curvity', 'curtness'], ['cylindrical', 'cylindricality', 'cylindricalness'], ['debonair', 'debonairity', 'debonairness'], ['deceptive', 'deceptivity', 'deceptiveness'], ['demure', 'demurity', 'demureness'], ['dense', 'density', 'denseness'], ['destructive', 'destructivity', 'destructiveness'], ['detrimental', 'detrimentality', 'detrimentalness'], ['devotional', 'devotionality', 'devotionalness'], ['diffusive', 'diffusivity', 'diffusiveness'], ['dim', 'dimity', 'dimness'], ['directive', 'directivity', 'directiveness'], ['dismal', 'dismality', 'dismalness'], ['disproportional', 'disproportionality', 'disproportionalness'], ['diverse', 'diversity', 'diverseness'], ['divine', 'divinity', 'divineness'], ['dull', 'duality', 'dullness'], ['dubious', 'dubiosity', 'dubiousness'], ['ductile', 'ductility', 'ductileness'], ['dull', 'dullity', 'dullness'], ['effective', 'effectivity', 'effectiveness'], ['effectual', 'effectuality', 'effectualness'], ['elastic', 'elasticity', 'elasticness'], ['elastic', 'elastivity', 'elasticness'], ['elective', 'electivity', 'electiveness'], ['emotive', 'emotivity', 'emotiveness'], ['ephemeral', 'ephemerality', 'ephemeralness'], ['equal', 'equality', 'equalness'], ['equivocal', 'equivocality', 'equivocalness'], ['eruptive', 'eruptivity', 'eruptiveness'], ['essential', 'essentiality', 'essentialness'], ['ethereal', 'ethereality', 'etherealness'], ['ethical', 'ethicality', 'ethicalness'], ['evangelical', 'evangelicality', 'evangelicalness'], ['exceptional', 'exceptionality', 'exceptionalness'], ['exclusive', 'exclusivity', 'exclusiveness'], ['exemplari', 'exemplarity', 'exemplariness'], ['exotic', 'exoticity', 'exoticness'], ['expansive', 'expansivity', 'expansiveness'], ['expressive', 'expressivity', 'expressiveness'], ['exterior', 'exteriority', 'exteriorness'], ['extreme', 'extremity', 'extremeness'], ['extrinsical', 'extrinsicality', 'extrinsicalness'], ['fabulous', 'fabulosity', 'fabulousness'], ['facile', 'facility', 'facileness'], ['factual', 'factuality', 'factualness'], ['familiar', 'familiarity', 'familiarness'], ['fantastical', 'fantasticality', 'fantasticalness'], ['farcical', 'farcicality', 'farcicalness'], ['fastidious', 'fastidiosity', 'fastidiousness'], ['fatal', 'fatality', 'fatalness'], ['feline', 'felinity', 'felineness'], ['female', 'femality', 'femaleness'], ['feminine', 'femininity', 'feminineness'], ['fertile', 'fertility', 'fertileness'], ['fervid', 'fervidity', 'fervidness'], ['festive', 'festivity', 'festiveness'], ['fetid', 'fetidity', 'fetidness'], ['fictile', 'fictility', 'fictileness'], ['filial', 'filiality', 'filialness'], ['finical', 'finicality', 'finicalness'], ['fissile', 'fissility', 'fissileness'], ['fixed', 'fixidity', 'fixedness'], ['flaccid', 'flaccidity', 'flaccidness'], ['flexuous', 'flexuosity', 'flexuousness'], ['florid', 'floridity', 'floridness'], ['fluid', 'fluidity', 'fluidness'], ['forlorn', 'forlornity', 'forlornness'], ['formal', 'formality', 'formalness'], ['fragile', 'fragility', 'fragileness'], ['frail', 'fragility', 'frailness'], ['frigid', 'frigidity', 'frigidness'], ['fructuous', 'fructuosity', 'fructuousness'], ['frugal', 'frugality', 'frugalness'], ['fugitive', 'fugitivity', 'fugitiveness'], ['fuliginous', 'fuliginosity', 'fuliginousness'], ['fundamental', 'fundamentality', 'fundamentalness'], ['furious', 'furiosity', 'furiousness'], ['futile', 'futility', 'futileness'], ['future', 'futurity', 'futureness'], ['game', 'gaseity', 'gameness'], ['gaseous', 'gaseosity', 'gaseousness'], ['gelid', 'gelidity', 'gelidness'], ['general', 'generality', 'generalness'], ['generous', 'generosity', 'generousness'], ['genial', 'geniality', 'genialness'], ['German', 'Germanity', 'Germanness'], ['germane', 'germanity', 'germaneness'], ['gibbous', 'gibbosity', 'gibbousness'], ['gigma', 'gigmanity', 'gigmaness'], ['glandulous', 'glandulosity', 'glandulousness'], ['globose', 'globosity', 'globoseness'], ['globous', 'globosity', 'globousness'], ['globular', 'globularity', 'globularness'], ['glorious', 'gloriosity', 'gloriousness'], ['glutinous', 'glutinosity', 'glutinousness'], ['Gothic', 'Gothicity', 'Gothicness'], ['gracile', 'gracility', 'gracileness'], ['gracious', 'graciosity', 'graciousness'], ['gradual', 'graduality', 'gradualness'], ['gravid', 'gravidity', 'gravidness'], ['grave', 'gravity', 'graveness'], ['gray', 'gravity', 'grayness'], ['guttural', 'gutturality', 'gutturalness'], ['habitual', 'habituality', 'habitualness'], ['heavi', 'heavity', 'heaviness'], ['here', 'heredity', 'hereness'], ['heroic', 'heroicity', 'heroicness'], ['heterozygous', 'heterozygosity', 'heterozygousness'], ['hideous', 'hideosity', 'hideousness'], ['homozygous', 'homozygosity', 'homozygousness'], ['horizontal', 'horizontality', 'horizontalness'], ['horrid', 'horridity', 'horridness'], ['hostile', 'hostility', 'hostileness'], ['humane', 'humanity', 'humaneness'], ['human', 'humanity', 'humanness'], ['humid', 'humidity', 'humidness'], ['humid', 'humility', 'humidness'], ['hypersensitive', 'hypersensitivity', 'hypersensitiveness'], ['ideal', 'ideality', 'idealness'], ['illegal', 'illegality', 'illegalness'], ['illiberal', 'illiberality', 'illiberalness'], ['illogical', 'illogicality', 'illogicalness'], ['immane', 'immanity', 'immaneness'], ['immaterial', 'immateriality', 'immaterialness'], ['immature', 'immaturity', 'immatureness'], ['immense', 'immensity', 'immenseness'], ['immortal', 'immorality', 'immortalness'], ['immortal', 'immortality', 'immortalness'], ['impartial', 'impartiality', 'impartialness'], ['impassive', 'impassivity', 'impassiveness'], ['impecunious', 'impecuniosity', 'impecuniousness'], ['imperceptive', 'imperceptivity', 'imperceptiveness'], ['imperial', 'imperiality', 'imperialness'], ['impetuous', 'impetuosity', 'impetuousness'], ['impractical', 'impracticality', 'impracticalness'], ['impulsive', 'impulsivity', 'impulsiveness'], ['impure', 'impurity', 'impureness'], ['inactive', 'inactivity', 'inactiveness'], ['inartificial', 'inartificiality', 'inartificialness'], ['incurious', 'incuriosity', 'incuriousness'], ['inductive', 'inductivity', 'inductiveness'], ['ineffectual', 'ineffectuality', 'ineffectualness'], ['inequal', 'inequality', 'inequalness'], ['infective', 'infectivity', 'infectiveness'], ['infertile', 'infertility', 'infertileness'], ['infinitesimal', 'infinitesimality', 'infinitesimalness'], ['infirm', 'infirmity', 'infirmness'], ['ingenious', 'ingeniosity', 'ingeniousness'], ['inhuman', 'inhumanity', 'inhumanness'], ['inimical', 'inimicality', 'inimicalness'], ['inner', 'inneity', 'innerness'], ['inofficious', 'inofficiosity', 'inofficiousness'], ['inopportune', 'inopportunity', 'inopportuneness'], ['insane', 'insanity', 'insaneness'], ['insecure', 'insecurity', 'insecureness'], ['insensitive', 'insensitivity', 'insensitiveness'], ['insidious', 'insidiosity', 'insidiousness'], ['insipid', 'insipidity', 'insipidness'], ['intellectual', 'intellectuality', 'intellectualness'], ['intense', 'intensity', 'intenseness'], ['intent', 'intensity', 'intentness'], ['interior', 'interiority', 'interiorness'], ['internal', 'internality', 'internalness'], ['intransitive', 'intransitivity', 'intransitiveness'], ['intrepid', 'intrepidity', 'intrepidness'], ['intrinsical', 'intrinsicality', 'intrinsicalness'], ['inurbane', 'inurbanity', 'inurbaneness'], ['invalid', 'invalidity', 'invalidness'], ['irrational', 'irrationality', 'irrationalness'], ['irregular', 'irregularity', 'irregularness'], ['irreligious', 'irreligiosity', 'irreligiousness'], ['jejune', 'jejunity', 'jejuneness'], ['jocose', 'jocosity', 'jocoseness'], ['jocular', 'jocularity', 'jocularness'], ['jocund', 'jocundity', 'jocundness'], ['jolli', 'jollity', 'jolliness'], ['jovial', 'joviality', 'jovialness'], ['judicial', 'judiciality', 'judicialness'], ['juvenile', 'juvenility', 'juvenileness'], ['lackadaisical', 'lackadaisicality', 'lackadaisicalness'], ['lax', 'laxity', 'laxness'], ['leal', 'legality', 'lealness'], ['legal', 'legality', 'legalness'], ['leer', 'legerity', 'leerness'], ['leprous', 'leprosity', 'leprousness'], ['Levitical', 'Leviticality', 'Leviticalness'], ['liberal', 'liberality', 'liberalness'], ['libidinous', 'libidinosity', 'libidinousness'], ['limpid', 'limpidity', 'limpidness'], ['limpi', 'limpidity', 'limpiness'], ['liquid', 'liquidity', 'liquidness'], ['literal', 'literality', 'literalness'], ['litigious', 'litigiosity', 'litigiousness'], ['livid', 'lividity', 'lividness'], ['local', 'locality', 'localness'], ['locomotive', 'locomotivity', 'locomotiveness'], ['logical', 'logicality', 'logicalness'], ['lucid', 'lucidity', 'lucidness'], ['ludicrous', 'ludicrosity', 'ludicrousness'], ['lugubrious', 'lugubriosity', 'lugubriousness'], ['luminous', 'luminosity', 'luminousness'], ['lurid', 'luridity', 'luridness'], ['magisterial', 'magisteriality', 'magisterialness'], ['martial', 'martiality', 'martialness'], ['masculine', 'masculinity', 'masculineness'], ['massi', 'massivity', 'massiness'], ['massive', 'massivity', 'massiveness'], ['material', 'materiality', 'materialness'], ['maternal', 'maternality', 'maternalness'], ['mature', 'maturity', 'matureness'], ['mechanical', 'mechanicality', 'mechanicalness'], ['mercurial', 'mercuriality', 'mercurialness'], ['meticulous', 'meticulosity', 'meticulousness'], ['ministerial', 'ministeriality', 'ministerialness'], ['miraculous', 'miraculosity', 'miraculousness'], ['modern', 'modernity', 'modernness'], ['mongrel', 'mongrelity', 'mongrelness'], ['monstrous', 'monstrosity', 'monstrousness'], ['moral', 'morality', 'moralness'], ['mortal', 'morality', 'mortalness'], ['morbid', 'morbidity', 'morbidness'], ['morbid', 'morbility', 'morbidness'], ['morose', 'morosity', 'moroseness'], ['moral', 'mortality', 'moralness'], ['mortal', 'mortality', 'mortalness'], ['motive', 'motivity', 'motiveness'], ['mucous', 'mucosity', 'mucousness'], ['mute', 'multeity', 'muteness'], ['multitudinous', 'multitudinosity', 'multitudinousness'], ['mundane', 'mundanity', 'mundaneness'], ['muscose', 'muscosity', 'muscoseness'], ['musical', 'musicality', 'musicalness'], ['mutual', 'mutuality', 'mutualness'], ['mystical', 'mysticality', 'mysticalness'], ['mythical', 'mythicality', 'mythicalness'], ['national', 'nationality', 'nationalness'], ['native', 'nativity', 'nativeness'], ['natural', 'naturality', 'naturalness'], ['nebulous', 'nebulosity', 'nebulousness'], ['negative', 'negativity', 'negativeness'], ['nervous', 'nervosity', 'nervousness'], ['neutral', 'neutrality', 'neutralness'], ['nonnatural', 'nonnaturality', 'nonnaturalness'], ['nonsensical', 'nonsensicality', 'nonsensicalness'], ['normal', 'normality', 'normalness'], ['notional', 'notionality', 'notionalness'], ['numerous', 'numerosity', 'numerousness'], ['obese', 'obesity', 'obeseness'], ['objective', 'objectivity', 'objectiveness'], ['oblique', 'obliquity', 'obliqueness'], ['obscene', 'obscenity', 'obsceneness'], ['obscure', 'obscurity', 'obscureness'], ['obsequious', 'obsequiosity', 'obsequiousness'], ['obstreperous', 'obstreperosity', 'obstreperousness'], ['obstructive', 'obstructivity', 'obstructiveness'], ['obtuse', 'obtusity', 'obtuseness'], ['occasional', 'occasionality', 'occasionalness'], ['odd', 'oddity', 'oddness'], ['odoriferous', 'odoriferosity', 'odoriferousness'], ['odorous', 'odorosity', 'odorousness'], ['onerous', 'onerosity', 'onerousness'], ['operative', 'operativity', 'operativeness'], ['operose', 'operosity', 'operoseness'], ['opportune', 'opportunity', 'opportuneness'], ['oracular', 'oracularity', 'oracularness'], ['orbicular', 'orbicularity', 'orbicularness'], ['original', 'originality', 'originalness'], ['otiose', 'otiosity', 'otioseness'], ['overactive', 'overactivity', 'overactiveness'], ['overscrupulous', 'overscrupulosity', 'overscrupulousness'], ['palatial', 'palatality', 'palatialness'], ['pallid', 'pallidity', 'pallidness'], ['palli', 'pallidity', 'palliness'], ['pale', 'paneity', 'paleness'], ['paradoxical', 'paradoxicality', 'paradoxicalness'], ['parenthetical', 'parentheticality', 'parentheticalness'], ['parochial', 'parochiality', 'parochialness'], ['parso', 'parsonity', 'parsoness'], ['partial', 'partiality', 'partialness'], ['particular', 'particularity', 'particularness'], ['passive', 'passivity', 'passiveness'], ['pastoral', 'pastorality', 'pastoralness'], ['patro', 'patruity', 'patroness'], ['peculiar', 'peculiarity', 'peculiarness'], ['pellucid', 'pellucidity', 'pellucidness'], ['pendulous', 'pendulosity', 'pendulousness'], ['penetrative', 'penetrativity', 'penetrativeness'], ['pensile', 'pensility', 'pensileness'], ['perceptive', 'perceptivity', 'perceptiveness'], ['perfective', 'perfectivity', 'perfectiveness'], ['perfervid', 'perfervidity', 'perfervidness'], ['perpetual', 'perpetuality', 'perpetualness'], ['personal', 'personality', 'personalness'], ['perverse', 'perversity', 'perverseness'], ['photosensitive', 'photosensitivity', 'photosensitiveness'], ['physical', 'physicality', 'physicalness'], ['piacular', 'piacularity', 'piacularness'], ['placid', 'placidity', 'placidness'], ['plain', 'planity', 'plainness'], ['plane', 'planity', 'planeness'], ['plumose', 'plumosity', 'plumoseness'], ['poetical', 'poeticality', 'poeticalness'], ['pompous', 'pomposity', 'pompousness'], ['ponderous', 'ponderosity', 'ponderousness'], ['popular', 'popularity', 'popularness'], ['porose', 'porosity', 'poroseness'], ['porous', 'porosity', 'porousness'], ['portentous', 'portentosity', 'portentousness'], ['positive', 'positivity', 'positiveness'], ['potential', 'potentiality', 'potentialness'], ['practical', 'practicality', 'practicalness'], ['pragmatical', 'pragmaticality', 'pragmaticalness'], ['preacid', 'preacidity', 'preacidness'], ['precious', 'preciosity', 'preciousness'], ['premature', 'prematurity', 'prematureness'], ['presential', 'presentiality', 'presentialness'], ['preternatural', 'preternaturality', 'preternaturalness'], ['prime', 'primevity', 'primeness'], ['principal', 'principality', 'principalness'], ['prim', 'privity', 'primness'], ['privi', 'privity', 'priviness'], ['prodigious', 'prodigiosity', 'prodigiousness'], ['productive', 'productivity', 'productiveness'], ['profane', 'profanity', 'profaneness'], ['progressive', 'progressivity', 'progressiveness'], ['prolific', 'prolificity', 'prolificness'], ['prolix', 'prolixity', 'prolixness'], ['propense', 'propensity', 'propenseness'], ['prophetical', 'propheticality', 'propheticalness'], ['provisional', 'provisionality', 'provisionalness'], ['prudential', 'prudentiality', 'prudentialness'], ['proud', 'prudity', 'proudness'], ['public', 'publicity', 'publicness'], ['puerile', 'puerility', 'puerileness'], ['punctilious', 'punctiliosity', 'punctiliousness'], ['punctual', 'punctuality', 'punctualness'], ['putid', 'putridity', 'putidness'], ['putrid', 'putridity', 'putridness'], ['quaint', 'quantity', 'quaintness'], ['queer', 'queerity', 'queerness'], ['querulous', 'querulosity', 'querulousness'], ['quizzical', 'quizzicality', 'quizzicalness'], ['quizzi', 'quizzity', 'quizziness'], ['rabid', 'rabidity', 'rabidness'], ['radical', 'radiality', 'radicalness'], ['radical', 'radicality', 'radicalness'], ['rancid', 'rancidity', 'rancidness'], ['rapid', 'rapidity', 'rapidness'], ['rational', 'rationality', 'rationalness'], ['reactive', 'reactivity', 'reactiveness'], ['real', 'reality', 'realness'], ['regal', 'reality', 'regalness'], ['receivabl', 'receivability', 'receivablness'], ['receptive', 'receptivity', 'receptiveness'], ['reciprocal', 'reciprocality', 'reciprocalness'], ['rectangular', 'rectangularity', 'rectangularness'], ['rectilinear', 'rectilinearity', 'rectilinearness'], ['reflective', 'reflectivity', 'reflectiveness'], ['reflexive', 'reflexivity', 'reflexiveness'], ['refractive', 'refractivity', 'refractiveness'], ['real', 'regality', 'realness'], ['regal', 'regality', 'regalness'], ['regressive', 'regressivity', 'regressiveness'], ['regular', 'regularity', 'regularness'], ['relative', 'relativity', 'relativeness'], ['religious', 'religiosity', 'religiousness'], ['representative', 'representativity', 'representativeness'], ['reproductive', 'reproductivity', 'reproductiveness'], ['resistive', 'resistivity', 'resistiveness'], ['responsive', 'responsivity', 'responsiveness'], ['retentive', 'retentivity', 'retentiveness'], ['retrospective', 'retrospectivity', 'retrospectiveness'], ['reverential', 'reverentiality', 'reverentialness'], ['ridiculous', 'ridiculosity', 'ridiculousness'], ['rigid', 'rigidity', 'rigidness'], ['robust', 'robustity', 'robustness'], ['romantical', 'romanticality', 'romanticalness'], ['romantic', 'romanticity', 'romanticness'], ['rotund', 'rotundity', 'rotundness'], ['rural', 'rurality', 'ruralness'], ['rustic', 'rusticity', 'rusticness'], ['rusti', 'rusticity', 'rustiness'], ['sacramental', 'sacramentality', 'sacramentalness'], ['sacrosanct', 'sacrosanctity', 'sacrosanctness'], ['saline', 'salinity', 'salineness'], ['sanguine', 'sanguinity', 'sanguineness'], ['sapid', 'sapidity', 'sapidness'], ['saturnine', 'saturninity', 'saturnineness'], ['scanti', 'scantity', 'scantiness'], ['scant', 'scantity', 'scantness'], ['scarce', 'scarcity', 'scarceness'], ['scriptural', 'scripturality', 'scripturalness'], ['scrupulous', 'scrupulosity', 'scrupulousness'], ['seasonal', 'seasonality', 'seasonalness'], ['secular', 'secularity', 'secularness'], ['secure', 'security', 'secureness'], ['selective', 'selectivity', 'selectiveness'], ['semicircular', 'semicircularity', 'semicircularness'], ['sensitive', 'sensitivity', 'sensitiveness'], ['sensual', 'sensuality', 'sensualness'], ['sensuous', 'sensuosity', 'sensuousness'], ['sententious', 'sententiosity', 'sententiousness'], ['serene', 'serenity', 'sereneness'], ['serious', 'seriosity', 'seriousness'], ['serous', 'serosity', 'serousness'], ['servile', 'servility', 'servileness'], ['several', 'severality', 'severalness'], ['severe', 'severity', 'severeness'], ['sick', 'siccity', 'sickness'], ['simple', 'simplexity', 'simpleness'], ['sincere', 'sincerity', 'sincereness'], ['singular', 'singularity', 'singularness'], ['sinuous', 'sinuosity', 'sinuousness'], ['social', 'sociality', 'socialness'], ['solemn', 'solemnity', 'solemnness'], ['solid', 'solidity', 'solidness'], ['sonorous', 'sonorosity', 'sonorousness'], ['sordid', 'sordidity', 'sordidness'], ['spacious', 'spaciosity', 'spaciousness'], ['spare', 'sparsity', 'spareness'], ['special', 'speciality', 'specialness'], ['specifical', 'specificality', 'specificalness'], ['specific', 'specificity', 'specificness'], ['specious', 'speciosity', 'speciousness'], ['spectral', 'spectrality', 'spectralness'], ['spherical', 'sphericality', 'sphericalness'], ['spicous', 'spicosity', 'spicousness'], ['spinose', 'spinosity', 'spinoseness'], ['spinous', 'spinosity', 'spinousness'], ['spiritual', 'spirituality', 'spiritualness'], ['spirituous', 'spirituosity', 'spirituousness'], ['spongious', 'spongiosity', 'spongiousness'], ['spurious', 'spuriosity', 'spuriousness'], ['squalid', 'squalidity', 'squalidness'], ['squamose', 'squamosity', 'squamoseness'], ['squamous', 'squamosity', 'squamousness'], ['sterile', 'sterility', 'sterileness'], ['stolid', 'stolidity', 'stolidness'], ['strenuous', 'strenuosity', 'strenuousness'], ['stupid', 'stupidity', 'stupidness'], ['styptic', 'stypticity', 'stypticness'], ['suave', 'suavity', 'suaveness'], ['subacid', 'subacidity', 'subacidness'], ['subjective', 'subjectivity', 'subjectiveness'], ['sublime', 'sublimity', 'sublimeness'], ['substantial', 'substantiality', 'substantialness'], ['substantive', 'substantivity', 'substantiveness'], ['subtile', 'subtility', 'subtileness'], ['successive', 'successivity', 'successiveness'], ['suggestive', 'suggestivity', 'suggestiveness'], ['sumptuous', 'sumptuosity', 'sumptuousness'], ['superb', 'superbity', 'superbness'], ['supercilious', 'superciliosity', 'superciliousness'], ['superficial', 'superficiality', 'superficialness'], ['superhuman', 'superhumanity', 'superhumanness'], ['superior', 'superiority', 'superiorness'], ['supernatural', 'supernaturality', 'supernaturalness'], ['supersolem', 'supersolemnity', 'supersolemness'], ['supreme', 'supremity', 'supremeness'], ['sure', 'surdity', 'sureness'], ['susceptive', 'susceptivity', 'susceptiveness'], ['symmetrical', 'symmetricality', 'symmetricalness'], ['sympathetic', 'sympatheticity', 'sympatheticness'], ['technical', 'technicality', 'technicalness'], ['tedious', 'tediosity', 'tediousness'], ['temporal', 'temporality', 'temporalness'], ['tenebrous', 'tenebrosity', 'tenebrousness'], ['tensile', 'tensility', 'tensileness'], ['tense', 'tensity', 'tenseness'], ['tepid', 'tepidity', 'tepidness'], ['terrestrial', 'terrestriality', 'terrestrialness'], ['theatrical', 'theatricality', 'theatricalness'], ['threadbare', 'threadbarity', 'threadbareness'], ['timid', 'timidity', 'timidness'], ['torpid', 'torpidity', 'torpidness'], ['torrid', 'torridity', 'torridness'], ['tortuous', 'tortuosity', 'tortuousness'], ['total', 'totality', 'totalness'], ['tragical', 'tragicality', 'tragicalness'], ['tranquil', 'tranquility', 'tranquilness'], ['tranquil', 'tranquillity', 'tranquilness'], ['transitive', 'transitivity', 'transitiveness'], ['transmissive', 'transmissivity', 'transmissiveness'], ['trepid', 'trepidity', 'trepidness'], ['trilateral', 'trilaterality', 'trilateralness'], ['triliteral', 'triliterality', 'triliteralness'], ['trig', 'trinity', 'trigness'], ['trim', 'trinity', 'trimness'], ['triple', 'triplexity', 'tripleness'], ['tritical', 'triticality', 'triticalness'], ['trivial', 'triviality', 'trivialness'], ['tuberous', 'tuberosity', 'tuberousness'], ['tumid', 'tumidity', 'tumidness'], ['turbid', 'turbidity', 'turbidness'], ['turgid', 'turgidity', 'turgidness'], ['typical', 'typicality', 'typicalness'], ['unactive', 'unactivity', 'unactiveness'], ['unchari', 'uncharity', 'unchariness'], ['unchaste', 'unchastity', 'unchasteness'], ['unchristian', 'unchristianity', 'unchristianness'], ['uncivil', 'uncivility', 'uncivilness'], ['unconditional', 'unconditionality', 'unconditionalness'], ['unctuous', 'unctuosity', 'unctuousness'], ['unequal', 'unequality', 'unequalness'], ['unfeminine', 'unfemininity', 'unfeminineness'], ['unfertile', 'unfertility', 'unfertileness'], ['unfit', 'unfixity', 'unfitness'], ['unformal', 'unformality', 'unformalness'], ['ungenerous', 'ungenerosity', 'ungenerousness'], ['ungenial', 'ungeniality', 'ungenialness'], ['unhostile', 'unhostility', 'unhostileness'], ['uniform', 'uniformity', 'uniformness'], ['unintentional', 'unintentionality', 'unintentionalness'], ['unique', 'uniquity', 'uniqueness'], ['universal', 'universality', 'universalness'], ['unmature', 'unmaturity', 'unmatureness'], ['unmoral', 'unmorality', 'unmoralness'], ['unmusical', 'unmusicality', 'unmusicalness'], ['unnatural', 'unnaturality', 'unnaturalness'], ['unoriginal', 'unoriginality', 'unoriginalness'], ['unpartial', 'unpartiality', 'unpartialness'], ['unpopular', 'unpopularity', 'unpopularness'], ['unpractical', 'unpracticality', 'unpracticalness'], ['unproductive', 'unproductivity', 'unproductiveness'], ['unreal', 'unreality', 'unrealness'], ['unreal', 'unregality', 'unrealness'], ['unscrupulous', 'unscrupulosity', 'unscrupulousness'], ['unsecure', 'unsecurity', 'unsecureness'], ['unsincere', 'unsincerity', 'unsincereness'], ['unsocial', 'unsociality', 'unsocialness'], ['unsolid', 'unsolidity', 'unsolidness'], ['unspiritual', 'unspirituality', 'unspiritualness'], ['unsubstantial', 'unsubstantiality', 'unsubstantialness'], ['ununiform', 'ununiformity', 'ununiformness'], ['unusual', 'unusuality', 'unusualness'], ['unvalid', 'unvalidity', 'unvalidness'], ['urbane', 'urbanity', 'urbaneness'], ['vague', 'vaguity', 'vagueness'], ['valid', 'validity', 'validness'], ['vapid', 'vapidity', 'vapidness'], ['vaporose', 'vaporosity', 'vaporoseness'], ['vaporous', 'vaporosity', 'vaporousness'], ['varicose', 'varicosity', 'varicoseness'], ['vasti', 'vastidity', 'vastiness'], ['vasti', 'vastity', 'vastiness'], ['vast', 'vastity', 'vastness'], ['venal', 'venality', 'venalness'], ['venial', 'venality', 'venialness'], ['venal', 'veniality', 'venalness'], ['venial', 'veniality', 'venialness'], ['venom', 'venosity', 'venomness'], ['venous', 'venosity', 'venousness'], ['ventose', 'ventosity', 'ventoseness'], ['ventricose', 'ventricosity', 'ventricoseness'], ['verbose', 'verbosity', 'verboseness'], ['verecund', 'verecundity', 'verecundness'], ['veridical', 'veridicality', 'veridicalness'], ['vernacular', 'vernacularity', 'vernacularness'], ['verrucose', 'verrucosity', 'verrucoseness'], ['versatile', 'versatility', 'versatileness'], ['vertical', 'verticality', 'verticalness'], ['vicious', 'viciosity', 'viciousness'], ['vile', 'vineity', 'vileness'], ['vinous', 'vinosity', 'vinousness'], ['virile', 'virility', 'virileness'], ['virtuous', 'virtuosity', 'virtuousness'], ['viscid', 'viscidity', 'viscidness'], ['viscous', 'viscosity', 'viscousness'], ['vital', 'vitality', 'vitalness'], ['vitreous', 'vitreosity', 'vitreousness'], ['vivid', 'vividity', 'vividness'], ['vocal', 'vocality', 'vocalness'], ['vociferous', 'vociferosity', 'vociferousness'], ['volatile', 'volatility', 'volatileness'], ['voluminous', 'voluminosity', 'voluminousness'], ['voluntari', 'voluntarity', 'voluntariness'], ['voluptuous', 'voluptuosity', 'voluptuousness'], ['vulgar', 'vulgarity', 'vulgarness'], ['whimsical', 'whimsicality', 'whimsicalness'], ['woman', 'womanity', 'womanness'], ['youthful', 'youthfullity', 'youthfulness'], ['complemental', 'complementarity', 'complementalness'], ['complementari', 'complementarity', 'complementariness'], ['stationari', 'stationarity', 'stationariness']]\n"
     ]
    }
   ],
   "source": [
    "print(triplets)"
   ]
  },
  {
   "cell_type": "code",
   "execution_count": 120,
   "id": "47c59df3",
   "metadata": {},
   "outputs": [
    {
     "name": "stdout",
     "output_type": "stream",
     "text": [
      "['devi', 'defial', 'deviless']\n",
      "['devi', 'denial', 'deviless']\n",
      "['devi', 'devisal', 'deviless']\n",
      "['fanci', 'facial', 'fanciless']\n",
      "['fanci', 'fancical', 'fanciless']\n",
      "['merci', 'mercal', 'merciless']\n",
      "['penni', 'penial', 'penniless']\n",
      "['remedi', 'remedial', 'remediless']\n",
      "['worri', 'worral', 'worriless']\n"
     ]
    }
   ],
   "source": []
  },
  {
   "cell_type": "code",
   "execution_count": null,
   "id": "a2a70795",
   "metadata": {},
   "outputs": [],
   "source": []
  }
 ],
 "metadata": {
  "kernelspec": {
   "display_name": "Python 3 (ipykernel)",
   "language": "python",
   "name": "python3"
  },
  "language_info": {
   "codemirror_mode": {
    "name": "ipython",
    "version": 3
   },
   "file_extension": ".py",
   "mimetype": "text/x-python",
   "name": "python",
   "nbconvert_exporter": "python",
   "pygments_lexer": "ipython3",
   "version": "3.10.6"
  }
 },
 "nbformat": 4,
 "nbformat_minor": 5
}
