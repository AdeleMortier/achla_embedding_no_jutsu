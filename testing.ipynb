{
 "cells": [
  {
   "cell_type": "code",
   "execution_count": 1,
   "id": "d7aed2d4",
   "metadata": {},
   "outputs": [],
   "source": [
    "import os\n",
    "import numpy as np\n",
    "import ipynb\n",
    "import matplotlib.pyplot as plt\n",
    "from scipy.spatial.distance import cosine\n",
    "from scipy.stats import levene, wilcoxon, ttest_rel\n",
    "from cliffs_delta import cliffs_delta\n",
    "from ipynb.fs.defs.functions_and_classes import Dataset, Datapoint\n",
    "from ipynb.fs.defs.functions_and_classes import build_dict_from_vector_file, display_embedding_properties, load_dataset_from_csv"
   ]
  },
  {
   "cell_type": "code",
   "execution_count": 72,
   "id": "deee6763",
   "metadata": {},
   "outputs": [],
   "source": [
    "#model = 'word2vec'\n",
    "#model = 'glove'\n",
    "model = 'fasttext'\n",
    "dim = 300\n",
    "language = 'he'\n",
    "mode = 'best'\n",
    "ref = 'noun'"
   ]
  },
  {
   "cell_type": "code",
   "execution_count": 73,
   "id": "563fb853",
   "metadata": {},
   "outputs": [
    {
     "name": "stdout",
     "output_type": "stream",
     "text": [
      "Processed 0\n",
      "Embedding entries: 134\n",
      "Embedding dimension: 75\n",
      "Number of datapoints before adjustment: 55\n",
      "Number of datapoints after adjustment: 30\n"
     ]
    }
   ],
   "source": [
    "fname = f'{model}_{dim}_{language}_vectors_reduced.txt'\n",
    "embedding = build_dict_from_vector_file('./models/reduced/', fname)\n",
    "dataset = load_dataset_from_csv('./datasets/he/definitive_dataset.csv')\n",
    "dataset.filter_against_embedding(embedding)"
   ]
  },
  {
   "cell_type": "code",
   "execution_count": 74,
   "id": "17e9e333",
   "metadata": {},
   "outputs": [
    {
     "name": "stdout",
     "output_type": "stream",
     "text": [
      "[['מחשב', 'למחשב', ['לחשב', 'להתחשב', 'לחשוב', 'להחשיב', 'להיחשב']], ['תחזוקה', 'לתחזק', ['לחזק', 'להתחזק', 'להחזיק']], ['חשבון', 'להתחשבן', ['לחשב', 'להתחשב', 'לחשוב', 'להחשיב', 'להיחשב']], ['תקשורת', 'לתקשר', ['לקשר', 'להתקשר', 'לקשור', 'להיקשר']], ['תפקידים', 'לתפקד', ['לפקד', 'להתפקד', 'לפקוד', 'להפקיד', 'להיפקד']], ['תרגילים', 'לתרגל', ['לרגל', 'להתרגל', 'להרגיל']], ['תזמורת', 'לתזמר', ['לזמר']], ['אבטחה', 'לאבטח', ['לבטח', 'לבטוח', 'להבטיח']], ['קמצן', 'להתקמצן', ['לקמץ']], ['מרכז', 'למרכז', ['לרכז', 'להתרכז']], ['מרכז', 'להתמרכז', ['לרכז', 'להתרכז']], ['מסגרת', 'למסגר', ['להסתגר', 'לסגור', 'להסגיר', 'להיסגר']], ['תעתיקים', 'לתעתק', ['להעתיק']], ['תמריצים', 'לתמרץ', ['להמריץ']], ['תצפית', 'לתצפת', ['לצפות']], ['אבחנות', 'לאבחן', ['לבחון', 'להבחין', 'להיבחן']], ['תחקיר', 'לתחקר', ['לחקור', 'להיחקר']], ['תקליטים', 'לתקלט', ['לקלוט', 'להקליט', 'להיקלט']], ['אזכרות', 'לאזכר', ['לזכור', 'להזכיר', 'להיזכר']], ['מספר', 'למספר', ['לספר', 'להסתפר', 'לספור', 'להיספר']], ['מרפק', 'למרפק', ['להתרפק']], ['מסמר', 'למסמר', ['לסמר', 'לסמור']], ['אזרחים', 'לאזרח', ['לזרוח']], ['אזרחים', 'להתאזרח', ['לזרוח']], ['תגמולים', 'לתגמל', ['להיגמל', 'לגמול', 'להיגמל']], ['צלחות', 'לצלחת', ['לצלוח', 'להצליח']], ['משכון', 'למשכן', ['לשכן', 'להשתכן', 'לשכון', 'להשכין']], ['תגבורת', 'לתגבר', ['להתגבר', 'לגבור', 'להגביר']], ['מסמך', 'למסמך', ['להסתמך', 'לסמוך', 'להסמיך']], ['תאריכים', 'לתארך', ['להתארך', 'לארוך', 'להאריך']], ['תזכורת', 'לתזכר', ['לזכור', 'להזכיר', 'להיזכר']], ['מגדרים', 'למגדר', ['לגדר', 'להגדיר']]]\n"
     ]
    }
   ],
   "source": [
    "triplets = dataset.get_triplets()\n",
    "print(triplets)"
   ]
  },
  {
   "cell_type": "code",
   "execution_count": 75,
   "id": "6e1c8353",
   "metadata": {},
   "outputs": [],
   "source": [
    "def compute_similarities(embedding, triplets, mode='mean', ref='noun'):\n",
    "    \"\"\" If ref is 'noun', we collect noun/denominal and noun/other verb sims;\n",
    "    if ref is 'denominal' we collect denominal/noun and denominal/other verb sims.\"\"\"\n",
    "\n",
    "    sims_n_dn = []\n",
    "    sims_ref_ndn = []\n",
    "    best_ndns = []\n",
    "    for triplet in triplets:\n",
    "        print(triplet)\n",
    "        n = triplet[0]\n",
    "        dn = triplet[1]\n",
    "        ndns = triplet[2] #DO WE ALSO CONSIDER THE OTHER ROOT DERIVED ELEMENTS????\n",
    "        \n",
    "        sim_n_dn = 1 - cosine(embedding[n], embedding[dn])\n",
    "        sims_n_dn.append(sim_n_dn)\n",
    "        \n",
    "        \n",
    "        if ref =='noun':\n",
    "            reference = n\n",
    "        if ref == 'denominal':\n",
    "            reference = dn\n",
    "            \n",
    "        if mode == 'best':\n",
    "            index_best_ndn = np.argmax([1 - cosine(embedding[reference], embedding[ndn]) for ndn in ndns])\n",
    "            best_ndn = ndns[index_best_ndn]\n",
    "            best_ndn_vec = embedding[best_ndn]\n",
    "            best_ndns.append(best_ndn)\n",
    "            sim_ref_ndn = 1 - cosine(embedding[reference], best_ndn_vec)\n",
    "\n",
    "        if mode == 'mean':\n",
    "            #other_vec = np.mean([embedding[other_verb] for other_verb in other_verbs], axis=0)\n",
    "            sim_ref_ndn = np.mean([1 - cosine(embedding[reference], embedding[ndn]) for ndn in ndns], axis=0)\n",
    "\n",
    "        sims_ref_ndn.append(sim_ref_ndn)\n",
    "        \n",
    "    \"\"\"for datapoint in dataset:\n",
    "        noun = datapoint['noun']\n",
    "        denominals = filter_empty_words(datapoint['denom'])\n",
    "        non_denominals = filter_empty_words(datapoint['non_denom'])\n",
    "        other_non_denominals = filter_empty_words(datapoint['others'])\n",
    "        other_verbs = non_denominals+other_non_denominals\n",
    "\n",
    "        for denominal in denominals:\n",
    "            sim_n_dn = 1 - spatial.distance.cosine(embedding[noun], embedding[denominal])\n",
    "            sims_n_dn.append(sim_n_dn)\n",
    "\n",
    "            if ref =='noun':\n",
    "                reference = noun\n",
    "            if ref == 'denominal':\n",
    "                reference = denominal\n",
    "\n",
    "            if mode == 'best':\n",
    "                index_best_ov = np.argmax([1 - spatial.distance.cosine(embedding[reference], embedding[other_verb]) for other_verb in other_verbs])\n",
    "                best_ov = other_verbs[index_best_ov]\n",
    "                other_vec = embedding[best_ov]\n",
    "                triplets.append((noun, denominal, best_ov))\n",
    "                sim_ref_other = 1 - spatial.distance.cosine(embedding[reference], other_vec)\n",
    "\n",
    "            if mode == 'mean':\n",
    "                #other_vec = np.mean([embedding[other_verb] for other_verb in other_verbs], axis=0)\n",
    "                sim_ref_other = np.mean([1 - spatial.distance.cosine(embedding[reference], embedding[other_verb]) for other_verb in other_verbs], axis=0)\n",
    "\n",
    "            sims_ref_ov.append(sim_ref_other)\"\"\"\n",
    "\n",
    "    return (sims_n_dn, sims_ref_ndn, best_ndns)"
   ]
  },
  {
   "cell_type": "code",
   "execution_count": 76,
   "id": "9052e83d",
   "metadata": {},
   "outputs": [
    {
     "name": "stdout",
     "output_type": "stream",
     "text": [
      "['מחשב', 'למחשב', ['לחשב', 'להתחשב', 'לחשוב', 'להחשיב', 'להיחשב']]\n",
      "['תחזוקה', 'לתחזק', ['לחזק', 'להתחזק', 'להחזיק']]\n",
      "['חשבון', 'להתחשבן', ['לחשב', 'להתחשב', 'לחשוב', 'להחשיב', 'להיחשב']]\n",
      "['תקשורת', 'לתקשר', ['לקשר', 'להתקשר', 'לקשור', 'להיקשר']]\n",
      "['תפקידים', 'לתפקד', ['לפקד', 'להתפקד', 'לפקוד', 'להפקיד', 'להיפקד']]\n",
      "['תרגילים', 'לתרגל', ['לרגל', 'להתרגל', 'להרגיל']]\n",
      "['תזמורת', 'לתזמר', ['לזמר']]\n",
      "['אבטחה', 'לאבטח', ['לבטח', 'לבטוח', 'להבטיח']]\n",
      "['קמצן', 'להתקמצן', ['לקמץ']]\n",
      "['מרכז', 'למרכז', ['לרכז', 'להתרכז']]\n",
      "['מרכז', 'להתמרכז', ['לרכז', 'להתרכז']]\n",
      "['מסגרת', 'למסגר', ['להסתגר', 'לסגור', 'להסגיר', 'להיסגר']]\n",
      "['תעתיקים', 'לתעתק', ['להעתיק']]\n",
      "['תמריצים', 'לתמרץ', ['להמריץ']]\n",
      "['תצפית', 'לתצפת', ['לצפות']]\n",
      "['אבחנות', 'לאבחן', ['לבחון', 'להבחין', 'להיבחן']]\n",
      "['תחקיר', 'לתחקר', ['לחקור', 'להיחקר']]\n",
      "['תקליטים', 'לתקלט', ['לקלוט', 'להקליט', 'להיקלט']]\n",
      "['אזכרות', 'לאזכר', ['לזכור', 'להזכיר', 'להיזכר']]\n",
      "['מספר', 'למספר', ['לספר', 'להסתפר', 'לספור', 'להיספר']]\n",
      "['מרפק', 'למרפק', ['להתרפק']]\n",
      "['מסמר', 'למסמר', ['לסמר', 'לסמור']]\n",
      "['אזרחים', 'לאזרח', ['לזרוח']]\n",
      "['אזרחים', 'להתאזרח', ['לזרוח']]\n",
      "['תגמולים', 'לתגמל', ['להיגמל', 'לגמול', 'להיגמל']]\n",
      "['צלחות', 'לצלחת', ['לצלוח', 'להצליח']]\n",
      "['משכון', 'למשכן', ['לשכן', 'להשתכן', 'לשכון', 'להשכין']]\n",
      "['תגבורת', 'לתגבר', ['להתגבר', 'לגבור', 'להגביר']]\n",
      "['מסמך', 'למסמך', ['להסתמך', 'לסמוך', 'להסמיך']]\n",
      "['תאריכים', 'לתארך', ['להתארך', 'לארוך', 'להאריך']]\n",
      "['תזכורת', 'לתזכר', ['לזכור', 'להזכיר', 'להיזכר']]\n",
      "['מגדרים', 'למגדר', ['לגדר', 'להגדיר']]\n"
     ]
    }
   ],
   "source": [
    "sims_n_dn, sims_ref_ndn, best_ndns = compute_similarities(embedding, triplets, mode=mode, ref=ref)"
   ]
  },
  {
   "cell_type": "code",
   "execution_count": null,
   "id": "3dc9498a",
   "metadata": {},
   "outputs": [],
   "source": []
  },
  {
   "cell_type": "code",
   "execution_count": 77,
   "id": "15f9b77f",
   "metadata": {},
   "outputs": [],
   "source": [
    "def test_diff(sims_n_dn, sims_ref_ndn):\n",
    "    diff_sims_dn_ndn = np.array(sims_n_dn) - np.array(sims_ref_ndn)\n",
    "    print(f'Sample size: {len(diff_sims_dn_ndn)}')\n",
    "    plt.hist(diff_sims_dn_ndn)\n",
    "    plt.show()\n",
    "\n",
    "    std = np.std(diff_sims_dn_ndn)\n",
    "    mean = np.mean(diff_sims_dn_ndn)\n",
    "    outp = [mean, std]\n",
    "    print(f'Standard deviation: {std}')\n",
    "    print(f'Mean: {mean}')\n",
    "\n",
    "    _, p = levene(sims_n_dn, sims_ref_ndn)\n",
    "    print(f'Levene p: {p}')\n",
    "\n",
    "    if p > .05:\n",
    "        print(\"F-test failed, performing Wilcoxon\")\n",
    "        outp.append('w')\n",
    "        _, p = wilcoxon(sims_n_dn, sims_ref_ndn, zero_method='wilcox', correction=False, alternative='greater')\n",
    "    else:\n",
    "        print(\"F-test succeeded, performing t-test\")\n",
    "        outp.append('t')\n",
    "        _, p = ttest_rel(sims_n_dn, sims_ref_ndn, alternative='greater')\n",
    "        \n",
    "    d, res = cliffs_delta(sims_n_dn, sims_ref_ndn)\n",
    "    \n",
    "    print(f'P-value: {p}')\n",
    "    print(f'Effect size (Cliff\\'s delta): {d} ({res})')\n",
    "    outp.extend([p, d, res])\n",
    "\n",
    "    return diff_sims_dn_ndn, outp\n"
   ]
  },
  {
   "cell_type": "code",
   "execution_count": 78,
   "id": "98bc66be",
   "metadata": {},
   "outputs": [
    {
     "name": "stdout",
     "output_type": "stream",
     "text": [
      "Sample size: 32\n"
     ]
    },
    {
     "data": {
      "image/png": "[encoded data removed]",
      "text/plain": [
       "<Figure size 640x480 with 1 Axes>"
      ]
     },
     "metadata": {},
     "output_type": "display_data"
    },
    {
     "name": "stdout",
     "output_type": "stream",
     "text": [
      "Standard deviation: 0.23086414150632512\n",
      "Mean: 0.2664197182543431\n",
      "Levene p: 0.04440471746557738\n",
      "F-test succeeded, performing t-test\n",
      "P-value: 1.8403852762393982e-07\n",
      "Effect size (Cliff's delta): 0.70703125 (large)\n"
     ]
    }
   ],
   "source": [
    "diff_sims_dn_ndn, outp = test_diff(sims_n_dn, sims_ref_ndn)"
   ]
  },
  {
   "cell_type": "code",
   "execution_count": 79,
   "id": "9f6692e3",
   "metadata": {},
   "outputs": [
    {
     "data": {
      "text/plain": [
       "[0.2664197182543431,\n",
       " 0.23086414150632512,\n",
       " 't',\n",
       " 1.8403852762393982e-07,\n",
       " 0.70703125,\n",
       " 'large']"
      ]
     },
     "execution_count": 79,
     "metadata": {},
     "output_type": "execute_result"
    }
   ],
   "source": [
    "outp"
   ]
  },
  {
   "cell_type": "code",
   "execution_count": 80,
   "id": "ab828567",
   "metadata": {},
   "outputs": [],
   "source": [
    "def save_report(model, dim, language, mode, ref, outp):\n",
    "    mean, std, test, p, d, res = outp\n",
    "    fname = f'{model}_{dim}_{language}_{mode}_{ref}_report.txt'\n",
    "    with open(f'./reports/{fname}', 'w') as f:\n",
    "        f.write(f'Mean: {mean}\\n')\n",
    "        f.write(f'Std: {std}\\n')\n",
    "        f.write(f'Test: {test}\\n')\n",
    "        f.write(f'P-value: {p}\\n')\n",
    "        f.write(f\"Cliff' s delta': {d}\\n\")\n",
    "        f.write(f'Effect: {res}\\n')\n"
   ]
  },
  {
   "cell_type": "code",
   "execution_count": 81,
   "id": "3378f994",
   "metadata": {},
   "outputs": [],
   "source": [
    "save_report(model, dim, language, mode, ref, outp)"
   ]
  },
  {
   "cell_type": "code",
   "execution_count": null,
   "id": "4b60fb42",
   "metadata": {},
   "outputs": [],
   "source": []
  },
  {
   "cell_type": "code",
   "execution_count": null,
   "id": "e9ead546",
   "metadata": {},
   "outputs": [],
   "source": []
  }
 ],
 "metadata": {
  "kernelspec": {
   "display_name": "Python 3 (ipykernel)",
   "language": "python",
   "name": "python3"
  },
  "language_info": {
   "codemirror_mode": {
    "name": "ipython",
    "version": 3
   },
   "file_extension": ".py",
   "mimetype": "text/x-python",
   "name": "python",
   "nbconvert_exporter": "python",
   "pygments_lexer": "ipython3",
   "version": "3.10.6"
  }
 },
 "nbformat": 4,
 "nbformat_minor": 5
}
