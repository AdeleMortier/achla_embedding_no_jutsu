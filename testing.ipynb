{
 "cells": [
  {
   "cell_type": "code",
   "execution_count": 51,
   "id": "d7aed2d4",
   "metadata": {},
   "outputs": [],
   "source": [
    "import os\n",
    "import numpy as np\n",
    "import ipynb\n",
    "import matplotlib.pyplot as plt\n",
    "from scipy.spatial.distance import cosine\n",
    "from scipy.stats import levene, wilcoxon, ttest_rel, ttest_ind\n",
    "from cliffs_delta import cliffs_delta\n",
    "from ipynb.fs.defs.functions_and_classes import *"
   ]
  },
  {
   "cell_type": "code",
   "execution_count": 52,
   "id": "deee6763",
   "metadata": {},
   "outputs": [],
   "source": [
    "#model = 'word2vec'\n",
    "model = 'glove'\n",
    "#model = 'fasttext'\n",
    "dim = 300\n",
    "#language = 'he'\n",
    "language = 'en'\n",
    "#suffix_pair = ['ity', 'ness']\n",
    "suffix_pair = ['al', 'less']\n",
    "suff1, suff2 = suffix_pair"
   ]
  },
  {
   "cell_type": "code",
   "execution_count": 53,
   "id": "563fb853",
   "metadata": {},
   "outputs": [
    {
     "name": "stdout",
     "output_type": "stream",
     "text": [
      "Processed 0\n",
      "Embedding entries: 176\n",
      "Embedding dimension: 96\n",
      "Number of datapoints before adjustment: 205\n",
      "Number of datapoints after adjustment: 59\n"
     ]
    }
   ],
   "source": [
    "fname = f'{model}_{dim}_{language}_vectors_reduced.txt'\n",
    "embedding = build_dict_from_vector_file('./models/reduced/', fname)\n",
    "if language == 'he':\n",
    "    path_to_dataset = './datasets/he/definitive_dataset.csv'\n",
    "if language == 'en':\n",
    "    path_to_dataset = f'./datasets/en/{suff1}_{suff2}_dataset_filtered.csv'\n",
    "dataset = load_dataset_from_csv(language, path_to_dataset)\n",
    "dataset.filter_against_embedding(embedding)"
   ]
  },
  {
   "cell_type": "code",
   "execution_count": 54,
   "id": "17e9e333",
   "metadata": {},
   "outputs": [
    {
     "name": "stdout",
     "output_type": "stream",
     "text": [
      "[['accent', 'accentual', 'accentless'], ['action', 'actional', 'actionless'], ['author', 'authorial', 'authorless'], ['bride', 'bridal', 'brideless'], ['case', 'casual', 'caseless'], ['cause', 'causal', 'causeless'], ['cement', 'cemental', 'cementless'], ['center', 'central', 'centerless'], ['client', 'cliental', 'clientless'], ['crust', 'crustal', 'crustless'], ['dimension', 'dimensional', 'dimensionless'], ['direction', 'directional', 'directionless'], ['disk', 'discal', 'diskless'], ['distortion', 'distortional', 'distortionless'], ['duration', 'durational', 'durationless'], ['emotion', 'emotional', 'emotionless'], ['event', 'eventual', 'eventless'], ['exception', 'exceptional', 'exceptionless'], ['expression', 'expressional', 'expressionless'], ['face', 'facial', 'faceless'], ['feature', 'featural', 'featureless'], ['form', 'formal', 'formless'], ['foundation', 'foundational', 'foundationless'], ['friction', 'frictional', 'frictionless'], ['front', 'frontal', 'frontless'], ['function', 'functional', 'functionless'], ['humor', 'humoral', 'humorless'], ['limb', 'limbal', 'limbless'], ['limit', 'liminal', 'limitless'], ['line', 'lineal', 'lineless'], ['luster', 'lustral', 'lusterless'], ['lustre', 'lustral', 'lustreless'], ['motion', 'motional', 'motionless'], ['nation', 'national', 'nationless'], ['nerve', 'neural', 'nerveless'], ['number', 'numeral', 'numberless'], ['parent', 'parental', 'parentless'], ['part', 'partial', 'partless'], ['passion', 'passional', 'passionless'], ['picture', 'pictural', 'pictureless'], ['post', 'postal', 'postless'], ['pulp', 'pulpal', 'pulpless'], ['remedy', 'remedial', 'remediless'], ['season', 'seasonal', 'seasonless'], ['sense', 'sensual', 'senseless'], ['sign', 'signal', 'signless'], ['spine', 'spinal', 'spineless'], ['spirit', 'spiritual', 'spiritless'], ['spouse', 'spousal', 'spouseless'], ['state', 'statal', 'stateless'], ['structure', 'structural', 'structureless'], ['tact', 'tactual', 'tactless'], ['tension', 'tensional', 'tensionless'], ['texture', 'textural', 'textureless'], ['trunk', 'truncal', 'trunkless'], ['tube', 'tubal', 'tubeless'], ['verb', 'verbal', 'verbless'], ['vibration', 'vibrational', 'vibrationless'], ['vision', 'visional', 'visionless']]\n"
     ]
    }
   ],
   "source": [
    "triplets = dataset.get_triplets()\n",
    "print(triplets)"
   ]
  },
  {
   "cell_type": "code",
   "execution_count": 55,
   "id": "6e1c8353",
   "metadata": {},
   "outputs": [],
   "source": [
    "def compute_similarities(embedding, triplets, mode='mean', ref='noun'):\n",
    "    \"\"\" If ref is 'noun', we collect noun/denominal and noun/other verb sims;\n",
    "    if ref is 'denominal' we collect denominal/noun and denominal/other verb sims.\"\"\"\n",
    "\n",
    "    sims_n_dn = []\n",
    "    sims_ref_ndn = []\n",
    "    best_ndns = []\n",
    "    for triplet in triplets:\n",
    "        print(triplet)\n",
    "        n = triplet[0]\n",
    "        dn = triplet[1]\n",
    "        ndns = triplet[2] #DO WE ALSO CONSIDER THE OTHER ROOT DERIVED ELEMENTS????\n",
    "        \n",
    "        sim_n_dn = 1 - cosine(embedding[n], embedding[dn])\n",
    "        sims_n_dn.append(sim_n_dn)\n",
    "        \n",
    "        \n",
    "        if ref =='noun':\n",
    "            reference = n\n",
    "        if ref == 'denominal':\n",
    "            reference = dn\n",
    "            \n",
    "        if mode == 'best':\n",
    "            index_best_ndn = np.argmax([1 - cosine(embedding[reference], embedding[ndn]) for ndn in ndns])\n",
    "            best_ndn = ndns[index_best_ndn]\n",
    "            best_ndn_vec = embedding[best_ndn]\n",
    "            best_ndns.append(best_ndn)\n",
    "            sim_ref_ndn = 1 - cosine(embedding[reference], best_ndn_vec)\n",
    "\n",
    "        if mode == 'mean':\n",
    "            #other_vec = np.mean([embedding[other_verb] for other_verb in other_verbs], axis=0)\n",
    "            sim_ref_ndn = np.mean([1 - cosine(embedding[reference], embedding[ndn]) for ndn in ndns], axis=0)\n",
    "\n",
    "        sims_ref_ndn.append(sim_ref_ndn)\n",
    "\n",
    "    return (sims_n_dn, sims_ref_ndn, best_ndns)"
   ]
  },
  {
   "cell_type": "code",
   "execution_count": 56,
   "id": "9052e83d",
   "metadata": {},
   "outputs": [],
   "source": [
    "if language == 'he':\n",
    "    sims_n_dn, sims_ref_ndn, best_ndns = compute_similarities(embedding, triplets, mode=mode, ref=ref)"
   ]
  },
  {
   "cell_type": "code",
   "execution_count": 57,
   "id": "15f9b77f",
   "metadata": {},
   "outputs": [],
   "source": [
    "def test_diff(sims_n_dn, sims_ref_ndn):\n",
    "    diff_sims_dn_ndn = np.array(sims_n_dn) - np.array(sims_ref_ndn)\n",
    "    print(f'Sample size: {len(diff_sims_dn_ndn)}')\n",
    "    plt.hist(diff_sims_dn_ndn)\n",
    "    plt.show()\n",
    "\n",
    "    std = np.std(diff_sims_dn_ndn)\n",
    "    mean = np.mean(diff_sims_dn_ndn)\n",
    "    outp = [mean, std]\n",
    "    print(f'Standard deviation: {std}')\n",
    "    print(f'Mean: {mean}')\n",
    "\n",
    "    _, p = levene(sims_n_dn, sims_ref_ndn)\n",
    "    print(f'Levene p: {p}')\n",
    "\n",
    "    if p > .05:\n",
    "        print(\"F-test failed, performing Wilcoxon\")\n",
    "        outp.append('w')\n",
    "        _, p = wilcoxon(sims_n_dn, sims_ref_ndn, zero_method='wilcox', correction=False, alternative='greater')\n",
    "    else:\n",
    "        print(\"F-test succeeded, performing t-test\")\n",
    "        outp.append('t')\n",
    "        _, p = ttest_rel(sims_n_dn, sims_ref_ndn, alternative='greater')\n",
    "        \n",
    "    d, res = cliffs_delta(sims_n_dn, sims_ref_ndn)\n",
    "    \n",
    "    print(f'P-value: {p}')\n",
    "    print(f'Effect size (Cliff\\'s delta): {d} ({res})')\n",
    "    outp.extend([p, d, res])\n",
    "\n",
    "    return diff_sims_dn_ndn, outp\n"
   ]
  },
  {
   "cell_type": "code",
   "execution_count": 58,
   "id": "98bc66be",
   "metadata": {},
   "outputs": [],
   "source": [
    "if language == 'he':\n",
    "    diff_sims_dn_ndn, outp = test_diff(sims_n_dn, sims_ref_ndn)"
   ]
  },
  {
   "cell_type": "code",
   "execution_count": 59,
   "id": "ab828567",
   "metadata": {},
   "outputs": [],
   "source": [
    "def save_report(model, dim, language, mode, ref, outp):\n",
    "    mean, std, test, p, d, res = outp\n",
    "    fname = f'{model}_{dim}_{language}_{mode}_{ref}_report.txt'\n",
    "    with open(f'./reports/{fname}', 'w') as f:\n",
    "        f.write(f'Mean: {mean}\\n')\n",
    "        f.write(f'Std: {std}\\n')\n",
    "        f.write(f'Test: {test}\\n')\n",
    "        f.write(f'P-value: {p}\\n')\n",
    "        f.write(f\"Cliff' s delta': {d}\\n\")\n",
    "        f.write(f'Effect: {res}\\n')\n"
   ]
  },
  {
   "cell_type": "code",
   "execution_count": 60,
   "id": "3378f994",
   "metadata": {},
   "outputs": [],
   "source": [
    "if language == 'he':\n",
    "    save_report(model, dim, language, mode, ref, outp)"
   ]
  },
  {
   "cell_type": "code",
   "execution_count": 61,
   "id": "4b60fb42",
   "metadata": {},
   "outputs": [
    {
     "data": {
      "text/plain": [
       "59"
      ]
     },
     "execution_count": 61,
     "metadata": {},
     "output_type": "execute_result"
    }
   ],
   "source": [
    "from ipynb.fs.defs.visualization import *  \n",
    "len(triplets)"
   ]
  },
  {
   "cell_type": "code",
   "execution_count": 62,
   "id": "7ebba298",
   "metadata": {},
   "outputs": [],
   "source": [
    "suff1_vecs, suff2_vecs = compute_affixal_vecs(embedding, triplets)"
   ]
  },
  {
   "cell_type": "code",
   "execution_count": 71,
   "id": "68ccaa91",
   "metadata": {},
   "outputs": [],
   "source": [
    "def intra_group_sims(vecs):\n",
    "    sims = []\n",
    "    for v1 in vecs:\n",
    "        for v2 in vecs:\n",
    "            if not np.array_equal(v1, v2):\n",
    "                s = 1 - cosine(v1, v2)\n",
    "                sims.append(s)\n",
    "    return sims\n",
    "            "
   ]
  },
  {
   "cell_type": "code",
   "execution_count": 72,
   "id": "1995f8c3",
   "metadata": {},
   "outputs": [],
   "source": [
    "def test_intra_group_sim_diff(suff1_vecs, suff2_vecs):\n",
    "    sims_suff1 = intra_group_sims(suff1_vecs)\n",
    "    sims_suff2 = intra_group_sims(suff2_vecs)\n",
    "    plt.hist(sims_suff1, alpha=.5, label=suff1)\n",
    "    plt.hist(sims_suff2, alpha=.5, label=suff2)\n",
    "    plt.legend()\n",
    "    _, p = ttest_ind(sims_suff2, sims_suff1, alternative='greater')\n",
    "    print(p)"
   ]
  },
  {
   "cell_type": "code",
   "execution_count": 73,
   "id": "dca65f70",
   "metadata": {},
   "outputs": [
    {
     "name": "stdout",
     "output_type": "stream",
     "text": [
      "2.010357680649311e-86\n"
     ]
    },
    {
     "data": {
      "image/png": "[encoded data removed]",
      "text/plain": [
       "<Figure size 640x480 with 1 Axes>"
      ]
     },
     "metadata": {},
     "output_type": "display_data"
    }
   ],
   "source": [
    "test_intra_group_sim_diff(suff1_vecs, suff2_vecs)"
   ]
  },
  {
   "cell_type": "code",
   "execution_count": 17,
   "id": "806f0b3d",
   "metadata": {},
   "outputs": [
    {
     "data": {
      "text/plain": [
       "list"
      ]
     },
     "execution_count": 17,
     "metadata": {},
     "output_type": "execute_result"
    }
   ],
   "source": []
  },
  {
   "cell_type": "code",
   "execution_count": null,
   "id": "262d9197",
   "metadata": {},
   "outputs": [],
   "source": []
  },
  {
   "cell_type": "code",
   "execution_count": null,
   "id": "ce5913f1",
   "metadata": {},
   "outputs": [],
   "source": []
  },
  {
   "cell_type": "code",
   "execution_count": null,
   "id": "2c1972a8",
   "metadata": {},
   "outputs": [],
   "source": []
  }
 ],
 "metadata": {
  "kernelspec": {
   "display_name": "Python 3 (ipykernel)",
   "language": "python",
   "name": "python3"
  },
  "language_info": {
   "codemirror_mode": {
    "name": "ipython",
    "version": 3
   },
   "file_extension": ".py",
   "mimetype": "text/x-python",
   "name": "python",
   "nbconvert_exporter": "python",
   "pygments_lexer": "ipython3",
   "version": "3.10.6"
  }
 },
 "nbformat": 4,
 "nbformat_minor": 5
}
