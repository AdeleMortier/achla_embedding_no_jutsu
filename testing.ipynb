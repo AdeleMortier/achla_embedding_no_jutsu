{
 "cells": [
  {
   "cell_type": "code",
   "execution_count": 20,
   "id": "d7aed2d4",
   "metadata": {},
   "outputs": [],
   "source": [
    "import os\n",
    "import numpy as np\n",
    "import ipynb\n",
    "import matplotlib.pyplot as plt\n",
    "from scipy.spatial.distance import cosine\n",
    "from scipy.stats import levene, wilcoxon\n",
    "from cliffs_delta import cliffs_delta\n",
    "from ipynb.fs.defs.functions_and_classes import Dataset, Datapoint\n",
    "from ipynb.fs.defs.functions_and_classes import build_dict_from_vector_file, display_embedding_properties, load_dataset_from_csv"
   ]
  },
  {
   "cell_type": "code",
   "execution_count": 21,
   "id": "deee6763",
   "metadata": {},
   "outputs": [],
   "source": [
    "model = 'word2vec'\n",
    "dim = 25\n",
    "language = 'he'\n",
    "mode = 'best'\n",
    "ref = 'noun'"
   ]
  },
  {
   "cell_type": "code",
   "execution_count": 22,
   "id": "563fb853",
   "metadata": {},
   "outputs": [
    {
     "name": "stdout",
     "output_type": "stream",
     "text": [
      "Processed 0 / 140 entries\n",
      "Embedding entries: 140\n",
      "Embedding dimension: 10\n",
      "Number of datapoints before adjustment: 55\n",
      "Number of datapoints after adjustment: 29\n"
     ]
    }
   ],
   "source": [
    "fname = f'{model}_{dim}_{language}_vectors_reduced.txt'\n",
    "embedding = build_dict_from_vector_file('./models/reduced/', fname)\n",
    "dataset = load_dataset_from_csv('./hebrew dataset/definitive_dataset.csv')\n",
    "dataset.filter_against_embedding(embedding)"
   ]
  },
  {
   "cell_type": "code",
   "execution_count": 4,
   "id": "17e9e333",
   "metadata": {},
   "outputs": [
    {
     "name": "stdout",
     "output_type": "stream",
     "text": [
      "[['מחשב', 'למחשב', ['לחשב', 'להתחשב', 'לחשוב', 'להחשיב', 'להיחשב']], ['תחזוקה', 'לתחזק', ['לחזק', 'להתחזק', 'להחזיק']], ['תקשורת', 'לתקשר', ['לקשר', 'להתקשר', 'לקשור', 'להיקשר']], ['תפקידים', 'לתפקד', ['לפקד', 'להתפקד', 'לפקוד', 'להפקיד', 'להיפקד']], ['תרגילים', 'לתרגל', ['לרגל', 'להתרגל', 'להרגיל']], ['תזמורת', 'לתזמר', ['לזמר']], ['תזמון', 'לתזמן', ['לזמן', 'להזדמן', 'להזמין']], ['סקרנים', 'לסקרן', ['לסקר', 'לסקור', 'להיסקר']], ['סקרנים', 'להסתקרן', ['לסקר', 'לסקור', 'להיסקר']], ['מלכודת', 'למלכד', ['ללכד', 'להתלכד', 'ללכוד', 'להילכד']], ['אבטחה', 'לאבטח', ['לבטח', 'לבטוח', 'להבטיח']], ['מסגרת', 'למסגר', ['להסתגר', 'לסגור', 'להסגיר', 'להיסגר']], ['תעתיקים', 'לתעתק', ['להעתיק']], ['תמריצים', 'לתמרץ', ['להמריץ']], ['תצפית', 'לתצפת', ['לצפות']], ['אבחנות', 'לאבחן', ['לבחון', 'להבחין', 'להיבחן']], ['תחקיר', 'לתחקר', ['לחקור', 'להיחקר']], ['תקליטים', 'לתקלט', ['לקלוט', 'להקליט', 'להיקלט']], ['אזכרות', 'לאזכר', ['לזכור', 'להזכיר', 'להיזכר']], ['מספר', 'למספר', ['לספר', 'להסתפר', 'לספור', 'להיספר']], ['מרפק', 'למרפק', ['להתרפק']], ['מסמר', 'למסמר', ['לסמר', 'לסמור']], ['אזרחים', 'לאזרח', ['לזרוח']], ['אזרחים', 'להתאזרח', ['לזרוח']], ['תגמולים', 'לתגמל', ['להיגמל', 'לגמול', 'להיגמל']], ['צלחות', 'לצלחת', ['לצלוח', 'להצליח']], ['משכון', 'למשכן', ['לשכן', 'להשתכן', 'לשכון', 'להשכין']], ['תגבורת', 'לתגבר', ['להתגבר', 'לגבור', 'להגביר']], ['מסמך', 'למסמך', ['להסתמך', 'לסמוך', 'להסמיך']], ['תאריכים', 'לתארך', ['להתארך', 'לארוך', 'להאריך']], ['מגדרים', 'למגדר', ['לגדר', 'להגדיר']]]\n"
     ]
    }
   ],
   "source": [
    "triplets = dataset.get_triplets()\n",
    "print(triplets)"
   ]
  },
  {
   "cell_type": "code",
   "execution_count": 24,
   "id": "6e1c8353",
   "metadata": {},
   "outputs": [],
   "source": [
    "def compute_similarities(embedding, triplets, mode='mean', ref='noun'):\n",
    "    \"\"\" If ref is 'noun', we collect noun/denominal and noun/other verb sims;\n",
    "    if ref is 'denominal' we collect denominal/noun and denominal/other verb sims.\"\"\"\n",
    "\n",
    "    sims_n_dn = []\n",
    "    sims_ref_ndn = []\n",
    "    best_ndns = []\n",
    "    for triplet in triplets:\n",
    "        print(triplet)\n",
    "        n = triplet[0]\n",
    "        dn = triplet[1]\n",
    "        ndns = triplet[2] #DO WE ALSO CONSIDER THE OTHER ROOT DERIVED ELEMENTS????\n",
    "        \n",
    "        sim_n_dn = 1 - cosine(embedding[n], embedding[dn])\n",
    "        sims_n_dn.append(sim_n_dn)\n",
    "        \n",
    "        \n",
    "        if ref =='noun':\n",
    "            reference = n\n",
    "        if ref == 'denominal':\n",
    "            reference = dn\n",
    "            \n",
    "        if mode == 'best':\n",
    "            index_best_ndn = np.argmax([1 - cosine(embedding[reference], embedding[ndn]) for ndn in ndns])\n",
    "            best_ndn = ndns[index_best_ndn]\n",
    "            best_ndn_vec = embedding[best_ndn]\n",
    "            best_ndns.append(best_ndn)\n",
    "            sim_ref_ndn = 1 - cosine(embedding[reference], best_ndn_vec)\n",
    "\n",
    "        if mode == 'mean':\n",
    "            #other_vec = np.mean([embedding[other_verb] for other_verb in other_verbs], axis=0)\n",
    "            sim_ref_ndn = np.mean([1 - cosine(embedding[reference], embedding[ndn]) for ndn in ndns], axis=0)\n",
    "\n",
    "        sims_ref_ndn.append(sim_ref_ndn)\n",
    "        \n",
    "    \"\"\"for datapoint in dataset:\n",
    "        noun = datapoint['noun']\n",
    "        denominals = filter_empty_words(datapoint['denom'])\n",
    "        non_denominals = filter_empty_words(datapoint['non_denom'])\n",
    "        other_non_denominals = filter_empty_words(datapoint['others'])\n",
    "        other_verbs = non_denominals+other_non_denominals\n",
    "\n",
    "        for denominal in denominals:\n",
    "            sim_n_dn = 1 - spatial.distance.cosine(embedding[noun], embedding[denominal])\n",
    "            sims_n_dn.append(sim_n_dn)\n",
    "\n",
    "            if ref =='noun':\n",
    "                reference = noun\n",
    "            if ref == 'denominal':\n",
    "                reference = denominal\n",
    "\n",
    "            if mode == 'best':\n",
    "                index_best_ov = np.argmax([1 - spatial.distance.cosine(embedding[reference], embedding[other_verb]) for other_verb in other_verbs])\n",
    "                best_ov = other_verbs[index_best_ov]\n",
    "                other_vec = embedding[best_ov]\n",
    "                triplets.append((noun, denominal, best_ov))\n",
    "                sim_ref_other = 1 - spatial.distance.cosine(embedding[reference], other_vec)\n",
    "\n",
    "            if mode == 'mean':\n",
    "                #other_vec = np.mean([embedding[other_verb] for other_verb in other_verbs], axis=0)\n",
    "                sim_ref_other = np.mean([1 - spatial.distance.cosine(embedding[reference], embedding[other_verb]) for other_verb in other_verbs], axis=0)\n",
    "\n",
    "            sims_ref_ov.append(sim_ref_other)\"\"\"\n",
    "\n",
    "    return (sims_n_dn, sims_ref_ndn, best_ndns)"
   ]
  },
  {
   "cell_type": "code",
   "execution_count": 25,
   "id": "9052e83d",
   "metadata": {},
   "outputs": [
    {
     "ename": "NameError",
     "evalue": "name 'mode' is not defined",
     "output_type": "error",
     "traceback": [
      "\u001b[0;31m---------------------------------------------------------------------------\u001b[0m",
      "\u001b[0;31mNameError\u001b[0m                                 Traceback (most recent call last)",
      "Cell \u001b[0;32mIn [25], line 1\u001b[0m\n\u001b[0;32m----> 1\u001b[0m sims_n_dn, sims_ref_ndn, best_ndns \u001b[38;5;241m=\u001b[39m compute_similarities(embedding, triplets, mode\u001b[38;5;241m=\u001b[39mmode, ref\u001b[38;5;241m=\u001b[39mref)\n",
      "\u001b[0;31mNameError\u001b[0m: name 'mode' is not defined"
     ]
    }
   ],
   "source": [
    "sims_n_dn, sims_ref_ndn, best_ndns = compute_similarities(embedding, triplets, mode=mode, ref=ref)"
   ]
  },
  {
   "cell_type": "code",
   "execution_count": 26,
   "id": "3dc9498a",
   "metadata": {},
   "outputs": [
    {
     "data": {
      "text/plain": [
       "['לחשב',\n",
       " 'להחזיק',\n",
       " 'לקשר',\n",
       " 'להתפקד',\n",
       " 'לרגל',\n",
       " 'לזמר',\n",
       " 'לזמן',\n",
       " 'לסקר',\n",
       " 'לסקר',\n",
       " 'ללכוד',\n",
       " 'להבטיח',\n",
       " 'להיסגר',\n",
       " 'להעתיק',\n",
       " 'להמריץ',\n",
       " 'לצפות',\n",
       " 'להבחין',\n",
       " 'להיחקר',\n",
       " 'להקליט',\n",
       " 'להזכיר',\n",
       " 'להיספר',\n",
       " 'להתרפק',\n",
       " 'לסמור',\n",
       " 'לזרוח',\n",
       " 'לזרוח',\n",
       " 'לגמול',\n",
       " 'לצלוח',\n",
       " 'לשכן',\n",
       " 'לגבור',\n",
       " 'להסמיך',\n",
       " 'לארוך',\n",
       " 'להגדיר']"
      ]
     },
     "execution_count": 26,
     "metadata": {},
     "output_type": "execute_result"
    }
   ],
   "source": []
  },
  {
   "cell_type": "code",
   "execution_count": 18,
   "id": "db0b9fc2",
   "metadata": {},
   "outputs": [],
   "source": [
    "def test_diff(sims_n_dn, sims_ref_ndn):\n",
    "    diff_sims_dn_ndn = np.array(sims_n_dn) - np.array(sims_ref_ndn)\n",
    "    print(f'Sample size: {len(diff_sims_dn_ndn)}')\n",
    "    plt.hist(diff_sims_dn_ndn)\n",
    "    plt.show()\n",
    "\n",
    "    print(f'Standard deviation: {np.std(diff_sims_dn_ndn)}')\n",
    "    print(f'Mean: {np.mean(diff_sims_dn_ndn)}')\n",
    "\n",
    "    _, p = levene(sims_n_dn, sims_ref_ndn)\n",
    "    if p > .05:\n",
    "        print(\"F-test failed, performing Wilcoxon\")\n",
    "        print(f'Levene p: {p}')\n",
    "        print(wilcoxon(sims_n_dn, sims_ref_ndn, zero_method='wilcox', correction=False, alternative='greater'))\n",
    "        z, p = wilcoxon(sims_n_dn, sims_ref_ndn, zero_method='wilcox', correction=False, alternative='greater')\n",
    "        z2, p2 = wilcoxon(sims_n_dn, sims_ref_ndn, zero_method='wilcox', correction=False)\n",
    "        print(z2)\n",
    "        print(z2/np.sqrt(len(sims_n_dn)+len(sims_ref_ndn)))\n",
    "        d, res = cliffs_delta(sims_n_dn, sims_ref_ndn)\n",
    "        print(d,res)\n",
    "    else:\n",
    "        print(\"F-test succeeded, performing t-test\")\n",
    "        print(f'Levene p: {p}')\n",
    "        print(ttest_rel(sims_n_dn, sims_ref_ndn)) \n",
    "        \n",
    "    return diff_sims_dn_ndn "
   ]
  },
  {
   "cell_type": "code",
   "execution_count": 23,
   "id": "ac6506d8",
   "metadata": {},
   "outputs": [
    {
     "name": "stdout",
     "output_type": "stream",
     "text": [
      "Sample size: 31\n"
     ]
    },
    {
     "data": {
      "image/png": "[encoded data removed]",
      "text/plain": [
       "<Figure size 640x480 with 1 Axes>"
      ]
     },
     "metadata": {},
     "output_type": "display_data"
    },
    {
     "name": "stdout",
     "output_type": "stream",
     "text": [
      "Standard deviation: 0.3893805301775175\n",
      "Mean: 0.25715682232872455\n",
      "F-test failed, performing Wilcoxon\n",
      "Levene p: 0.6874429510756478\n",
      "WilcoxonResult(statistic=402.0, pvalue=0.0009266980923712254)\n",
      "94.0\n",
      "11.938011938017906\n",
      "0.4422476586888658 medium\n"
     ]
    },
    {
     "data": {
      "text/plain": [
       "array([ 0.40259086,  0.20726695,  0.03391621, -0.19178249,  0.25064108,\n",
       "       -0.44836858,  0.81458326, -0.28653195,  0.11423936, -0.41437543,\n",
       "        0.33289706, -0.11475045,  0.77570231,  0.38908602,  0.54164927,\n",
       "        0.22440609, -0.08372843,  0.11110028,  0.07091506,  0.23013383,\n",
       "        0.35165883,  0.0724098 ,  1.01280692,  1.03063802, -0.11256178,\n",
       "        0.95193628,  0.20791436,  0.36732286,  0.42340993, -0.01529531,\n",
       "        0.72203128])"
      ]
     },
     "execution_count": 23,
     "metadata": {},
     "output_type": "execute_result"
    }
   ],
   "source": [
    "test_diff(sims_n_dn, sims_ref_ndn)"
   ]
  },
  {
   "cell_type": "code",
   "execution_count": null,
   "id": "dc266072",
   "metadata": {},
   "outputs": [],
   "source": []
  }
 ],
 "metadata": {
  "kernelspec": {
   "display_name": "Python 3 (ipykernel)",
   "language": "python",
   "name": "python3"
  },
  "language_info": {
   "codemirror_mode": {
    "name": "ipython",
    "version": 3
   },
   "file_extension": ".py",
   "mimetype": "text/x-python",
   "name": "python",
   "nbconvert_exporter": "python",
   "pygments_lexer": "ipython3",
   "version": "3.10.6"
  }
 },
 "nbformat": 4,
 "nbformat_minor": 5
}
