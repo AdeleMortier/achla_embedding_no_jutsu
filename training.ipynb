{
 "cells": [
  {
   "cell_type": "code",
   "execution_count": 20,
   "id": "0c51af13",
   "metadata": {},
   "outputs": [],
   "source": [
    "import os\n",
    "from datetime import datetime\n",
    "import gensim\n",
    "from gensim.models.word2vec import LineSentence\n",
    "import multiprocessing\n",
    "\n",
    "\n",
    "def train_word2vec(dim, language):\n",
    "    \"\"\"Training a Word2Vec model in Hebrew\"\"\"\n",
    "    inp = f'wiki.{language}.text'\n",
    "    outp = f'word2vec_{dim}_{language}.model'\n",
    "\n",
    "    if inp not in os.listdir('./corpora/'):\n",
    "        print('Corpus file not present, impossible to train')\n",
    "\n",
    "    if outp not in os.listdir('./models/'):\n",
    "        print('Model file not present, starts training')\n",
    "        print(f'Training started {datetime.now().strftime(\"%Y-%m-%d %H:%M:%S\")}')\n",
    "\n",
    "        model = gensim.models.word2vec.Word2Vec(LineSentence(f'./corpora/{inp}'), sg = 1, #1=SkipGram, 0=CBOW\n",
    "                                            size=dim, window=5, min_count=5, workers=multiprocessing.cpu_count())\n",
    "        # trim unneeded model memory = use (much) less RAM\n",
    "        model.init_sims(replace=True)\n",
    "\n",
    "        print(f'Training ended {datetime.now().strftime(\"%Y-%m-%d %H:%M:%S\")}')\n",
    "\n",
    "        model.save(f'./models/{outp}')\n",
    "    else:\n",
    "        print('Model file already present, no need to train')"
   ]
  },
  {
   "cell_type": "code",
   "execution_count": 21,
   "id": "0e9aebcc",
   "metadata": {},
   "outputs": [
    {
     "name": "stdout",
     "output_type": "stream",
     "text": [
      "Model file not present, starts training\n",
      "Training started 2022-09-30 18:57:07\n",
      "Training ended 2022-09-30 21:18:22\n"
     ]
    }
   ],
   "source": [
    "train_word2vec(300, 'he')"
   ]
  },
  {
   "cell_type": "code",
   "execution_count": 19,
   "id": "647a30f5",
   "metadata": {},
   "outputs": [],
   "source": []
  },
  {
   "cell_type": "code",
   "execution_count": null,
   "id": "be940d11",
   "metadata": {},
   "outputs": [],
   "source": []
  }
 ],
 "metadata": {
  "kernelspec": {
   "display_name": "Python 3 (ipykernel)",
   "language": "python",
   "name": "python3"
  },
  "language_info": {
   "codemirror_mode": {
    "name": "ipython",
    "version": 3
   },
   "file_extension": ".py",
   "mimetype": "text/x-python",
   "name": "python",
   "nbconvert_exporter": "python",
   "pygments_lexer": "ipython3",
   "version": "3.10.6"
  }
 },
 "nbformat": 4,
 "nbformat_minor": 5
}
