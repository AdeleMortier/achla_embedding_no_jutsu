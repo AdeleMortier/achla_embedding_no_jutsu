{
 "cells": [
  {
   "cell_type": "code",
   "execution_count": 3,
   "id": "aa7f2dab",
   "metadata": {},
   "outputs": [],
   "source": [
    "import os\n",
    "import wget\n",
    "from gensim.corpora import WikiCorpus\n",
    "from datetime import datetime\n",
    "\n",
    "def create_wiki_corpus(url, language):\n",
    "    \"\"\" for hebrew: https://dumps.wikimedia.org/hewiki/latest/hewiki-latest-pages-articles.xml.bz2\"\"\"\n",
    "    \n",
    "    if f\"wiki.{language}.text\" not in os.listdir('./corpora/'):\n",
    "        fname = url.split('/')[-1]\n",
    "        inp = f'./corpora/{fname}'\n",
    "        outp = f\"./corpora/wiki.{language}.text\"\n",
    "\n",
    "        if not fname in os.listdir('./corpora/'):\n",
    "            response = wget.download(url, inp)\n",
    "        \n",
    "        print(f'Parsing started {datetime.now().strftime(\"%Y-%m-%d %H:%M:%S\")}')\n",
    "\n",
    "        i = 0\n",
    "        output = open(outp, 'w')\n",
    "        space = \" \"\n",
    "\n",
    "        wiki = WikiCorpus(inp, dictionary={})\n",
    "\n",
    "        for i, text in enumerate(wiki.get_texts()):\n",
    "            article = space.join(text)\n",
    "            output.write(\"{}\\n\".format(article))\n",
    "            if (i % 10000 == 0):\n",
    "                print(\"Saved \" + str(i) + \" articles\")\n",
    "\n",
    "        output.close()\n",
    "\n",
    "        print(f'Parsing ended {datetime.now().strftime(\"%Y-%m-%d %H:%M:%S\")}')\n"
   ]
  },
  {
   "cell_type": "code",
   "execution_count": 4,
   "id": "8dabe1a4",
   "metadata": {},
   "outputs": [],
   "source": [
    "if 'corpora' not in os.listdir('.'):\n",
    "    os.mkdir('./corpora/')"
   ]
  },
  {
   "cell_type": "code",
   "execution_count": 9,
   "id": "03f7ec98",
   "metadata": {},
   "outputs": [],
   "source": [
    "url = 'https://dumps.wikimedia.org/hewiki/latest/hewiki-latest-pages-articles.xml.bz2'"
   ]
  },
  {
   "cell_type": "code",
   "execution_count": 10,
   "id": "fcafc6ae",
   "metadata": {},
   "outputs": [],
   "source": [
    "create_wiki_corpus(url, 'he')"
   ]
  },
  {
   "cell_type": "code",
   "execution_count": 11,
   "id": "75d95b8b",
   "metadata": {},
   "outputs": [
    {
     "name": "stdout",
     "output_type": "stream",
     "text": [
      "Parsing started 2022-09-30 18:04:09\n"
     ]
    }
   ],
   "source": []
  },
  {
   "cell_type": "code",
   "execution_count": null,
   "id": "c2a90fc9",
   "metadata": {},
   "outputs": [],
   "source": []
  }
 ],
 "metadata": {
  "kernelspec": {
   "display_name": "Python 3 (ipykernel)",
   "language": "python",
   "name": "python3"
  },
  "language_info": {
   "codemirror_mode": {
    "name": "ipython",
    "version": 3
   },
   "file_extension": ".py",
   "mimetype": "text/x-python",
   "name": "python",
   "nbconvert_exporter": "python",
   "pygments_lexer": "ipython3",
   "version": "3.10.6"
  }
 },
 "nbformat": 4,
 "nbformat_minor": 5
}
